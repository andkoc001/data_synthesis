{
 "cells": [
  {
   "cell_type": "markdown",
   "metadata": {},
   "source": [
    "# Meteors shower data synthesis\n",
    "Data synthesis as the assignment project for Programming for Data Analysis, GMIT 2019\n",
    "\n",
    "Lecturer: dr Brian McGinley\n",
    "\n",
    ">Author: **Andrzej Kocielski**  \n",
    ">Github: [andkoc001](https://github.com/andkoc001/)  \n",
    ">Email: G00376291@gmit.ie, and.koc001@gmail.com\n",
    "\n",
    "Created: 18-11-2019\n",
    "\n",
    "This Notebook should be read in conjunction with the corresponding README.md file at the project [repository](https://github.com/andkoc001/data_synthesis.git) at GitHub."
   ]
  },
  {
   "cell_type": "markdown",
   "metadata": {},
   "source": [
    "___\n",
    "\n",
    "## Introduction\n",
    "\n",
    "..."
   ]
  },
  {
   "cell_type": "code",
   "execution_count": 1,
   "metadata": {},
   "outputs": [],
   "source": [
    "import numpy as np\n",
    "import pandas as pd\n",
    "import matplotlib.pyplot as plt \n",
    "import seaborn as sns"
   ]
  },
  {
   "cell_type": "markdown",
   "metadata": {},
   "source": [
    "## Problem description\n",
    "\n",
    "To generate (synthesise) a dataset to simulate meteors shower on a planet."
   ]
  },
  {
   "cell_type": "markdown",
   "metadata": {},
   "source": [
    "## Data categories and types\n",
    "\n",
    "The following are envisaged data categories and types\n",
    "\n",
    "* `Year` - Year of observation, integer from 1 to n\n",
    "* `Entry`- No of atmosphere entry, integer following the Poisson distribution with lambda $lambda = 0.25$ (to be verified)\n",
    "* `Impact` - No of surface impacts, binomial distribution as a function of size and angle of entry $f(size, angle)$\n",
    "* Size of a meteor, exponential distribution (few large, many small)\n",
    "* Density of a meteor, normal distribution\n",
    "* Veleocity of a meteor hitting the surface, normal distribution ????\n",
    "* Angle of entry, random ditribution in range 0-90\n",
    "* Total crater area, calculated as a function of size, density, veleociy, angle and additional noise\n"
   ]
  },
  {
   "cell_type": "markdown",
   "metadata": {},
   "source": [
    "## General assumptions\n",
    "\n",
    "The scenario and data are both fictional, invented solely for the purpose of this project.  \n",
    "\n",
    "The generate data is a simplified model with numerous assumptions and simplifications.\n",
    "* ..."
   ]
  },
  {
   "cell_type": "markdown",
   "metadata": {},
   "source": [
    "## Generating the data"
   ]
  },
  {
   "cell_type": "code",
   "execution_count": 10,
   "metadata": {},
   "outputs": [
    {
     "data": {
      "text/html": [
       "<div>\n",
       "<style scoped>\n",
       "    .dataframe tbody tr th:only-of-type {\n",
       "        vertical-align: middle;\n",
       "    }\n",
       "\n",
       "    .dataframe tbody tr th {\n",
       "        vertical-align: top;\n",
       "    }\n",
       "\n",
       "    .dataframe thead th {\n",
       "        text-align: right;\n",
       "    }\n",
       "</style>\n",
       "<table border=\"1\" class=\"dataframe\">\n",
       "  <thead>\n",
       "    <tr style=\"text-align: right;\">\n",
       "      <th></th>\n",
       "      <th>Year</th>\n",
       "      <th>Entry</th>\n",
       "      <th>Impact</th>\n",
       "      <th>Size</th>\n",
       "      <th>Velocity</th>\n",
       "      <th>Crater</th>\n",
       "    </tr>\n",
       "  </thead>\n",
       "  <tbody>\n",
       "  </tbody>\n",
       "</table>\n",
       "</div>"
      ],
      "text/plain": [
       "Empty DataFrame\n",
       "Columns: [Year, Entry, Impact, Size, Velocity, Crater]\n",
       "Index: []"
      ]
     },
     "execution_count": 10,
     "metadata": {},
     "output_type": "execute_result"
    }
   ],
   "source": [
    "# creation of ampty data (just headings)\n",
    "data = pd.DataFrame(columns = [\"Year\", \"Entry\", \"Impact\", \"Size\", \"Velocity\", \"Crater\"]) \n",
    "data"
   ]
  },
  {
   "cell_type": "markdown",
   "metadata": {},
   "source": [
    "### Year\n",
    "\n",
    "Observations are recorded in one year intervals over a period of 100 years.\n"
   ]
  },
  {
   "cell_type": "code",
   "execution_count": 11,
   "metadata": {},
   "outputs": [
    {
     "data": {
      "text/plain": [
       "array([1, 2, 3, 4, 5])"
      ]
     },
     "execution_count": 11,
     "metadata": {},
     "output_type": "execute_result"
    }
   ],
   "source": [
    "year = np.arange(1, 6) # temporarily only (for testing) - 5 years of observation \n",
    "year"
   ]
  },
  {
   "cell_type": "code",
   "execution_count": 12,
   "metadata": {},
   "outputs": [
    {
     "data": {
      "text/html": [
       "<div>\n",
       "<style scoped>\n",
       "    .dataframe tbody tr th:only-of-type {\n",
       "        vertical-align: middle;\n",
       "    }\n",
       "\n",
       "    .dataframe tbody tr th {\n",
       "        vertical-align: top;\n",
       "    }\n",
       "\n",
       "    .dataframe thead th {\n",
       "        text-align: right;\n",
       "    }\n",
       "</style>\n",
       "<table border=\"1\" class=\"dataframe\">\n",
       "  <thead>\n",
       "    <tr style=\"text-align: right;\">\n",
       "      <th></th>\n",
       "      <th>Year</th>\n",
       "      <th>Entry</th>\n",
       "      <th>Impact</th>\n",
       "      <th>Size</th>\n",
       "      <th>Velocity</th>\n",
       "      <th>Crater</th>\n",
       "    </tr>\n",
       "  </thead>\n",
       "  <tbody>\n",
       "    <tr>\n",
       "      <th>0</th>\n",
       "      <td>1</td>\n",
       "      <td>NaN</td>\n",
       "      <td>NaN</td>\n",
       "      <td>NaN</td>\n",
       "      <td>NaN</td>\n",
       "      <td>NaN</td>\n",
       "    </tr>\n",
       "    <tr>\n",
       "      <th>1</th>\n",
       "      <td>2</td>\n",
       "      <td>NaN</td>\n",
       "      <td>NaN</td>\n",
       "      <td>NaN</td>\n",
       "      <td>NaN</td>\n",
       "      <td>NaN</td>\n",
       "    </tr>\n",
       "    <tr>\n",
       "      <th>2</th>\n",
       "      <td>3</td>\n",
       "      <td>NaN</td>\n",
       "      <td>NaN</td>\n",
       "      <td>NaN</td>\n",
       "      <td>NaN</td>\n",
       "      <td>NaN</td>\n",
       "    </tr>\n",
       "    <tr>\n",
       "      <th>3</th>\n",
       "      <td>4</td>\n",
       "      <td>NaN</td>\n",
       "      <td>NaN</td>\n",
       "      <td>NaN</td>\n",
       "      <td>NaN</td>\n",
       "      <td>NaN</td>\n",
       "    </tr>\n",
       "    <tr>\n",
       "      <th>4</th>\n",
       "      <td>5</td>\n",
       "      <td>NaN</td>\n",
       "      <td>NaN</td>\n",
       "      <td>NaN</td>\n",
       "      <td>NaN</td>\n",
       "      <td>NaN</td>\n",
       "    </tr>\n",
       "  </tbody>\n",
       "</table>\n",
       "</div>"
      ],
      "text/plain": [
       "   Year Entry Impact Size Velocity Crater\n",
       "0     1   NaN    NaN  NaN      NaN    NaN\n",
       "1     2   NaN    NaN  NaN      NaN    NaN\n",
       "2     3   NaN    NaN  NaN      NaN    NaN\n",
       "3     4   NaN    NaN  NaN      NaN    NaN\n",
       "4     5   NaN    NaN  NaN      NaN    NaN"
      ]
     },
     "execution_count": 12,
     "metadata": {},
     "output_type": "execute_result"
    }
   ],
   "source": [
    "# assigning year values to the data array, other columns with empty values (NaN - not a number)\n",
    "data[\"Year\"] = year\n",
    "data.head()"
   ]
  },
  {
   "cell_type": "markdown",
   "metadata": {},
   "source": [
    "### Atmosphere entry\n",
    "\n",
    "Number of meteors entries to the atmosphere of the planet, represented by variable `atm_entry`, in my model is considered unpredictable event and of a chaotic nature (signigicant random noise). It is assumed that in a given year there may be none to _a very large number_ of entries, with a certain mean number. This will be represented by a **Poisson distribution**, with lambda assigned arbitrarily."
   ]
  },
  {
   "cell_type": "code",
   "execution_count": 22,
   "metadata": {},
   "outputs": [
    {
     "name": "stdout",
     "output_type": "stream",
     "text": [
      "atm_entry_lambda 2.532411367847365\n",
      "atm_entry_noise -196\n",
      "min: 0\n",
      "mean: 11.465\n",
      "max: 54\n"
     ]
    },
    {
     "data": {
      "text/plain": [
       "<matplotlib.axes._subplots.AxesSubplot at 0x7fe883e16290>"
      ]
     },
     "execution_count": 22,
     "metadata": {},
     "output_type": "execute_result"
    },
    {
     "data": {
      "image/png": "[encoded data removed]",
      "text/plain": [
       "<Figure size 432x288 with 1 Axes>"
      ]
     },
     "metadata": {
      "needs_background": "light"
     },
     "output_type": "display_data"
    }
   ],
   "source": [
    "# defines lambda value for the poisson distribution\n",
    "atm_entry_lambda = 1 + np.random.random() + np.random.randint(1, 2) # expected mean value - it gives a general shape of the distribution\n",
    "# defines noise used to modify the results\n",
    "atm_entry_noise = np.random.randint(-1000, 100) # extra random noise - expands the range of possible results and adds randomness\n",
    "\n",
    "\n",
    "# test of the distribution for the above parameters - this sample is used only for illustration of the algorithm\n",
    "# np.random.poisson()\n",
    "atm_test = abs(np.random.poisson(abs(atm_entry_lambda + abs(atm_entry_noise)), 1000) + atm_entry_noise) # only positive or 'zero' values\n",
    "print(\"atm_entry_lambda\", atm_entry_lambda)\n",
    "print(\"atm_entry_noise\", atm_entry_noise)\n",
    "\n",
    "print(\"min:\", atm_test.min())\n",
    "print(\"mean:\", atm_test.mean())\n",
    "print(\"max:\", atm_test.max())\n",
    "sns.countplot(atm_test)"
   ]
  },
  {
   "cell_type": "markdown",
   "metadata": {},
   "source": [
    "##### Adding `Entry` values to the dataset."
   ]
  },
  {
   "cell_type": "code",
   "execution_count": 23,
   "metadata": {},
   "outputs": [
    {
     "data": {
      "text/html": [
       "<div>\n",
       "<style scoped>\n",
       "    .dataframe tbody tr th:only-of-type {\n",
       "        vertical-align: middle;\n",
       "    }\n",
       "\n",
       "    .dataframe tbody tr th {\n",
       "        vertical-align: top;\n",
       "    }\n",
       "\n",
       "    .dataframe thead th {\n",
       "        text-align: right;\n",
       "    }\n",
       "</style>\n",
       "<table border=\"1\" class=\"dataframe\">\n",
       "  <thead>\n",
       "    <tr style=\"text-align: right;\">\n",
       "      <th></th>\n",
       "      <th>Year</th>\n",
       "      <th>Entry</th>\n",
       "      <th>Impact</th>\n",
       "      <th>Size</th>\n",
       "      <th>Velocity</th>\n",
       "      <th>Crater</th>\n",
       "    </tr>\n",
       "  </thead>\n",
       "  <tbody>\n",
       "    <tr>\n",
       "      <th>0</th>\n",
       "      <td>1</td>\n",
       "      <td>3</td>\n",
       "      <td>NaN</td>\n",
       "      <td>NaN</td>\n",
       "      <td>NaN</td>\n",
       "      <td>NaN</td>\n",
       "    </tr>\n",
       "    <tr>\n",
       "      <th>1</th>\n",
       "      <td>2</td>\n",
       "      <td>11</td>\n",
       "      <td>NaN</td>\n",
       "      <td>NaN</td>\n",
       "      <td>NaN</td>\n",
       "      <td>NaN</td>\n",
       "    </tr>\n",
       "    <tr>\n",
       "      <th>2</th>\n",
       "      <td>3</td>\n",
       "      <td>9</td>\n",
       "      <td>NaN</td>\n",
       "      <td>NaN</td>\n",
       "      <td>NaN</td>\n",
       "      <td>NaN</td>\n",
       "    </tr>\n",
       "    <tr>\n",
       "      <th>3</th>\n",
       "      <td>4</td>\n",
       "      <td>10</td>\n",
       "      <td>NaN</td>\n",
       "      <td>NaN</td>\n",
       "      <td>NaN</td>\n",
       "      <td>NaN</td>\n",
       "    </tr>\n",
       "    <tr>\n",
       "      <th>4</th>\n",
       "      <td>5</td>\n",
       "      <td>12</td>\n",
       "      <td>NaN</td>\n",
       "      <td>NaN</td>\n",
       "      <td>NaN</td>\n",
       "      <td>NaN</td>\n",
       "    </tr>\n",
       "  </tbody>\n",
       "</table>\n",
       "</div>"
      ],
      "text/plain": [
       "   Year  Entry Impact Size Velocity Crater\n",
       "0     1      3    NaN  NaN      NaN    NaN\n",
       "1     2     11    NaN  NaN      NaN    NaN\n",
       "2     3      9    NaN  NaN      NaN    NaN\n",
       "3     4     10    NaN  NaN      NaN    NaN\n",
       "4     5     12    NaN  NaN      NaN    NaN"
      ]
     },
     "execution_count": 23,
     "metadata": {},
     "output_type": "execute_result"
    }
   ],
   "source": [
    "data[\"Entry\"] = abs(np.random.poisson(abs(atm_entry_lambda + abs(atm_entry_noise)), len(year)) + atm_entry_noise)\n",
    "data"
   ]
  },
  {
   "cell_type": "markdown",
   "metadata": {},
   "source": [
    "### Surface impact\n",
    "\n",
    "Number of meteors impacts into the planet surface, that is the meteors that entered the atmosphere of the planet and did not burned out completely in the transit. \n",
    "The variable is represented in my model by variable `Impact` which is a result of **binomial distribution** with arbitrarily given probability of success."
   ]
  },
  {
   "cell_type": "code",
   "execution_count": null,
   "metadata": {},
   "outputs": [],
   "source": []
  },
  {
   "cell_type": "code",
   "execution_count": null,
   "metadata": {},
   "outputs": [],
   "source": []
  },
  {
   "cell_type": "code",
   "execution_count": null,
   "metadata": {},
   "outputs": [],
   "source": []
  },
  {
   "cell_type": "markdown",
   "metadata": {},
   "source": [
    "### ~~Average size of the meteors~~ - this section will go\n",
    "\n",
    "~~The average size of meteors entering into the atmosphere in given year. It is assumed in the model arbitrarily, according to pareto principle, that is where there is many small meteors and few large. The variable is generated with the help of `np.random.pareto()` function.~~"
   ]
  },
  {
   "cell_type": "code",
   "execution_count": 9,
   "metadata": {},
   "outputs": [],
   "source": [
    "# should it stay or shoud it go? - disabled for now\n",
    "\n",
    "# defines lambda value for the poisson distribution\n",
    "#size_lambda = np.random.random() #+ np.random.randint(100, 20000) # expected mean value - it gives a general shape of the distribution\n",
    "# defines noise used to modify the results\n",
    "#size_noise = np.random.random() * 100 # extra random noise - expands the range of possible results and adds randomness\n",
    "\n",
    "#data[\"Size\"] = np.around(np.random.pareto(size_lambda, len(year)) * size_noise / len(year), decimals=0)\n",
    "#data"
   ]
  },
  {
   "cell_type": "markdown",
   "metadata": {},
   "source": [
    "### Parameters of each meteor"
   ]
  },
  {
   "cell_type": "markdown",
   "metadata": {},
   "source": [
    "#### Size of the meteors (and velocity?, and angle????? - to be yet decided)\n",
    "\n",
    "The size of **every** meteors hitting the planet surface in given year is generated in the model. The size is stored in a separate subset of data for each year (3rd dimension of the original dataset?). Next, a mean of the sizes is passed to the original dataset.\n",
    "\n",
    "The size of the meteor is distributed according to pareto principle, that is many small meteors and few large. The variable is generated with the help of `np.random.pareto()` function."
   ]
  },
  {
   "cell_type": "code",
   "execution_count": 24,
   "metadata": {},
   "outputs": [
    {
     "name": "stdout",
     "output_type": "stream",
     "text": [
      "In year 1 the number of meteors entering the atmosphere was: 3 \n",
      "Their mass was as follows:\n",
      "[55739.27611517  3365.48371491  2076.74453979] \n",
      "\n",
      "In year 2 the number of meteors entering the atmosphere was: 11 \n",
      "Their mass was as follows:\n",
      "[  4262.78811687  30272.89255446   1998.98470176   1588.84716129\n",
      "   3027.77947768   1664.13734419   6360.21231688 131852.05288911\n",
      "   1566.61419339   2894.76212843   3918.97599041] \n",
      "\n",
      "In year 3 the number of meteors entering the atmosphere was: 9 \n",
      "Their mass was as follows:\n",
      "[ 2287.73470912  2678.35512607 17353.23369968 15486.07305591\n",
      "  1686.00485976  2070.72954171  9235.38529079  3832.02514619\n",
      "  3485.68886311] \n",
      "\n",
      "In year 4 the number of meteors entering the atmosphere was: 10 \n",
      "Their mass was as follows:\n",
      "[2518.74143525 1710.82080614 3814.21576195  918.32382512  654.05245384\n",
      " 3737.39407355 4093.58697369  820.69098466 1322.14183338  669.83178789] \n",
      "\n",
      "In year 5 the number of meteors entering the atmosphere was: 12 \n",
      "Their mass was as follows:\n",
      "[ 3544.9371063   2084.24928777  5709.7682147  41480.92625303\n",
      "  6479.34270673  4122.64000375  2754.09865403  1729.41579998\n",
      "  2792.40175515  1726.2064116   3315.82961577  3332.06568538] \n",
      "\n"
     ]
    }
   ],
   "source": [
    "# adapted from https://docs.scipy.org/doc/numpy-1.15.0/reference/generated/numpy.random.pareto.html\n",
    "\n",
    "# parameters for pareto dirstribution: pareto_a - shape of the distribution, pareto_m - mode of the distribution\n",
    "pareto_a, pareto_m = 1.0, 1000.0  # shape and mode - picked arbitrarily to resemble reality as much as the author could think\n",
    "# shape of the pareto distribution determines the how much the number of small meteors would dominate over the large ones; greater the shape value, the more small samples\n",
    "# mode in the pareto distribution tells the magnitude (or scale) of the outcome (the size of the metors); the larger the mode, the larger the scale of the meteors\n",
    "\n",
    "\n",
    "\n",
    "# splicing - getting the number of meteors entering the atmosphere in a given year\n",
    "for i in data[\"Year\"]:\n",
    "    number_meteors = data.loc[i-1][\"Entry\"] # getting the number of the meteors entereing the atmosphere in the subsequnt year\n",
    "    print(\"In year\", i, \"the number of meteors entering the atmosphere was:\", number_meteors, \"\\nTheir mass was as follows:\")\n",
    "   \n",
    "\n",
    "    # assgining the size for each meteor \n",
    "    s = ((np.random.pareto(pareto_a, number_meteors) + 1) * pareto_m) + np.random.randint(-1000, 1000)\n",
    "    print(s, \"\\n\")\n",
    "    \n",
    "       \n",
    "    # plotting histogram for each year\n",
    "    #if number_meteors > 0:\n",
    "    #    sns.distplot(s, kde=False)\n",
    "    #    plt.show()\n",
    "    \n",
    "    # treshold mass to get through the atmosphere (smaller are considered to burn out completely during the transit)\n",
    "    #treshold = 2000\n",
    "    #if s > treshold:\n",
    "    #    # create a sub dataset with number of meteors that would reach the planet surface\n",
    "    #    data_impact[]\n",
    "    "
   ]
  },
  {
   "cell_type": "code",
   "execution_count": null,
   "metadata": {},
   "outputs": [],
   "source": []
  },
  {
   "cell_type": "code",
   "execution_count": null,
   "metadata": {},
   "outputs": [],
   "source": []
  },
  {
   "cell_type": "code",
   "execution_count": null,
   "metadata": {},
   "outputs": [],
   "source": []
  },
  {
   "cell_type": "code",
   "execution_count": null,
   "metadata": {},
   "outputs": [],
   "source": []
  },
  {
   "cell_type": "code",
   "execution_count": null,
   "metadata": {},
   "outputs": [],
   "source": []
  }
 ],
 "metadata": {
  "kernelspec": {
   "display_name": "Python 3",
   "language": "python",
   "name": "python3"
  },
  "language_info": {
   "codemirror_mode": {
    "name": "ipython",
    "version": 3
   },
   "file_extension": ".py",
   "mimetype": "text/x-python",
   "name": "python",
   "nbconvert_exporter": "python",
   "pygments_lexer": "ipython3",
   "version": "3.7.5"
  }
 },
 "nbformat": 4,
 "nbformat_minor": 4
}
