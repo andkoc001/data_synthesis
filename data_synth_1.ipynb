{
 "cells": [
  {
   "cell_type": "markdown",
   "metadata": {},
   "source": [
    "# Meteoroids planet fall - data synthesis\n",
    "Data synthesis as the assignment project for Programming for Data Analysis, GMIT 2019\n",
    "\n",
    "Lecturer: dr Brian McGinley\n",
    "\n",
    ">Author: **Andrzej Kocielski**  \n",
    ">Github: [andkoc001](https://github.com/andkoc001/)  \n",
    ">Email: G00376291@gmit.ie, and.koc001@gmail.com\n",
    "\n",
    "Created: 18-11-2019\n",
    "\n",
    "This Notebook should be read in conjunction with the corresponding README.md file at the project [repository](https://github.com/andkoc001/data_synthesis.git) at GitHub."
   ]
  },
  {
   "cell_type": "markdown",
   "metadata": {},
   "source": [
    "___\n",
    "\n",
    "## Introduction"
   ]
  },
  {
   "cell_type": "markdown",
   "metadata": {},
   "source": [
    "### Problem statement and project objectives\n",
    "\n",
    "Purpose: **To generate (synthesise) a dataset that simulate the phenomenon of meteoroids fall on a planet.**"
   ]
  },
  {
   "cell_type": "markdown",
   "metadata": {},
   "source": [
    "\n",
    "### The phenomenon\n",
    "\n",
    "Meteorite planet fall is a commonplace phenomenon in nature. It occurs when certain astronomical objects (meteorites) hit a planet (or similar object). It is believed it is a universal occurrence in planetary systems, especially intensive during its formation. \n",
    "\n",
    "![Impact craters on Mimas' surface (Saturn’s moon)](https://upload.wikimedia.org/wikipedia/commons/d/da/Mimas_moon.jpg)\n",
    "Source: [Wikipedia](https://en.wikipedia.org/wiki/File:Mimas_moon.jpg)\n",
    "\n",
    "~~The scenario and data are both fictional, invented solely for the purpose of this project.~~ The data presented in the notebook is real and true. However, as it illustrates the situation in an undiscovered solar system in a galaxy far, far away, and is hard to prove it, please assume the data presented here is fictional."
   ]
  },
  {
   "cell_type": "markdown",
   "metadata": {},
   "source": [
    "### Key terminology\n",
    "| Term | Description   |\n",
    "|------|------|\n",
    "|~~Ephemery~~|~~trajectory of astronomical objects~~|\n",
    "|Meteor|meteoroids passing the atmosphere and burning in the process|\n",
    "|Meteorite|meteoroid that survived the transit through the atmosphere and hit the ground|\n",
    "|Meteoroid|object of certain size traveling in outer space (beyond the atmosphere of a planet)|"
   ]
  },
  {
   "cell_type": "markdown",
   "metadata": {},
   "source": [
    "### Simplifications and assumptions\n",
    "\n",
    "Note: this project is a _simplified model_ in terms of factors considered, relationship between them and terminology describing the phenomenon.\n",
    "\n",
    "There is a large number of factors affecting the phenomenon. Many of them affect each other, so that the circumstances may appear random and chaotic (see Wikipedia entry on [chaos theory](https://en.wikipedia.org/wiki/Chaos_theory)).\n",
    "\n",
    "While designing and developing this simulation, I have made a number of assumptions. Some of them include, inter alia:\n",
    "- A planetary system is subject to celestial mechanics, and is similar enough to our Solar System.\n",
    "- The planet in question is of a rocky type and has an atmosphere (which properties are negligible).\n",
    "- The number of meteorites in the local space is very large, that is running out of the meteories is not considered.\n",
    "- Units of measurement are arbitrary. \n",
    "\n",
    "Meteoroids planet fall is a highly complex phenomenon than captured in this model. There are a great many factors relevant to the simulation, but were not considered for simplicity only. For example: the age and structure of the solar system, the size and density of the planet, the atmosphere thickness, chemical composition of the meteoroids, etc. I believe that the variables chosen for the model reflect the idea of the phenomenon and data synthesised by the simulation reflects its feature adequately.\n"
   ]
  },
  {
   "cell_type": "markdown",
   "metadata": {},
   "source": [
    "___\n",
    "## Data categories and types\n",
    "\n",
    "I have chosen to consider and include in my simulation the following several variables:\n",
    "* `Year` - time series of observation period - duration of a _local_ year.\n",
    "* `Entry`- Number of the atmosphere entry, that is an event when a meteoroid gets in contact with the atmosphere. The meteoroids can then either a) hit the planet, b) burn out completely (due to fraction) while passing the atmosphere, c) skim the atmosphere without hitting the planet surface and continue the fly.\n",
    "* `Impact` - number of the meteoroids that survived the transit through the atmosphere (did not burned out completely) and hit the planet surface.\n",
    "* `Mass` - an idealised measure describing the size of the meteoroid; only those hitting the surface were considered.\n",
    "* `Velocity` - relative speed of the meteoroid when it reached the planet's surface; only those hitting the surface were considered.\n",
    "* `Crater` - size of the impact crater caused by the falling meteorite - it is a measure of the energy released during the collision; in this simulation I assumed it is a function of the _mass_ and _velocity_ of the meteoroid. NB. only one, the _highest energy_, meteorite in a given year is taken into account for evaluating this variable. _Energy_ is calculated using an invented formula that depends on the meteorite's mass and velocity - not recorded in the dataset.\n",
    "* `Class` - meteoroids in my simulation can be of one of the three classes: _metallic_, _rocky_ or _icy_ - selected arbitrarily (in reality, “meteorites are divided into three main groups: irons, stones and stony-irons” - https://geology.com/meteorites/meteorite-types-and-classification.shtml). NB. only one, the _highest energy_, meteorite in a given year is taken into account for evaluating this variable.\n",
    "\n",
    "These variables will be discussed in greater detail below."
   ]
  },
  {
   "cell_type": "markdown",
   "metadata": {},
   "source": [
    "___\n",
    "## Importing Python libraries"
   ]
  },
  {
   "cell_type": "markdown",
   "metadata": {},
   "source": [
    "The following Python libraries were used in synthesising the dataset variables."
   ]
  },
  {
   "cell_type": "code",
   "execution_count": 1,
   "metadata": {},
   "outputs": [],
   "source": [
    "import numpy as np\n",
    "import pandas as pd\n",
    "import matplotlib.pyplot as plt \n",
    "import seaborn as sns\n",
    "# below command will allow for the plots being displayed inside the Notebook, rather than in a separate screen.\n",
    "%matplotlib inline"
   ]
  },
  {
   "cell_type": "markdown",
   "metadata": {},
   "source": [
    "I have chosen to define seeds for numPy random methods. That means each time the Notebook and particular cells are run, results will be the same.\n",
    "In order to generate new random results, reset the kernel and run the Notebook cells except for the one below (which sets the seed values)."
   ]
  },
  {
   "cell_type": "code",
   "execution_count": 2,
   "metadata": {},
   "outputs": [],
   "source": [
    "my_seed = 2019  # seed value pre-set, selected arbitrarily\n",
    "np.random.seed(my_seed) "
   ]
  },
  {
   "cell_type": "markdown",
   "metadata": {},
   "source": [
    "___\n",
    "## Generating the data"
   ]
  },
  {
   "cell_type": "code",
   "execution_count": 3,
   "metadata": {},
   "outputs": [],
   "source": [
    "# creation of empty data (just headings)\n",
    "data = pd.DataFrame(columns = [\"Year\", \"Entry\", \"Impact\", \"Mass\", \"Velocity\", \"Crater\", \"Class\"]) \n",
    "\n",
    "# data.head() # for testing"
   ]
  },
  {
   "cell_type": "markdown",
   "metadata": {},
   "source": [
    "### Observation period and intervals\n",
    "\n",
    "Observations are recorded in one year intervals over a period of 100 local years (for the planet in question). This will be assigned to variable `year`."
   ]
  },
  {
   "cell_type": "code",
   "execution_count": 4,
   "metadata": {},
   "outputs": [],
   "source": [
    "year = np.arange(1, 1001) # number of observations (= the second number - the first number)"
   ]
  },
  {
   "cell_type": "code",
   "execution_count": 5,
   "metadata": {},
   "outputs": [],
   "source": [
    "# assigning year values to the data array, other columns with empty values (NaN - not a number)\n",
    "data[\"Year\"] = year\n",
    "# data.head(2)"
   ]
  },
  {
   "cell_type": "markdown",
   "metadata": {},
   "source": [
    "### Atmosphere entry\n",
    "\n",
    "Number of significant (that means those being recorded) meteors' entries to the atmosphere of the planet, represented by variable `atm_entry`, in my model is considered unpredictable event and of a chaotic nature (significant random noise). It is assumed that in a given year there may be _none_ to _a very large number_ of entries, with a certain mean number. This will be represented by a **Poisson distribution**. The reason for choosing this distribution is to capture the fact of lesser probability of a larger number of meteors entering the planet's atmosphere.\n",
    "\n",
    "The lambda value assigned randomly again, to strengthen the effect of the chaotic nature of the phenomenon. (More about randomness of the lambda values - why and how)."
   ]
  },
  {
   "cell_type": "code",
   "execution_count": 6,
   "metadata": {},
   "outputs": [
    {
     "name": "stdout",
     "output_type": "stream",
     "text": [
      "3.9034822144192742\n",
      "-695\n"
     ]
    }
   ],
   "source": [
    "np.random.seed(my_seed) # executing this line ensures the numbers ranomly generated are the same\n",
    "\n",
    "# defines lambda value for the poisson distribution\n",
    "atm_entry_lambda = np.random.random() + np.random.randint(2, 4) # expected mean value - it gives a general shape of the distribution\n",
    "print(atm_entry_lambda)\n",
    "\n",
    "# defines noise used to modify the results\n",
    "atm_entry_noise = np.random.randint(-1500, -500) # extra random noise - expands the range of possible results and adds randomness and increases the standard deviation\n",
    "print(atm_entry_noise)"
   ]
  },
  {
   "cell_type": "code",
   "execution_count": 7,
   "metadata": {},
   "outputs": [],
   "source": [
    "np.random.seed(my_seed) # executing this line ensures the numbers ranomly generated are the same\n",
    "\n",
    "# the algorithm with nested random variables - poisson distribution\n",
    "# the intention is to have low mean and high std dev. values - verry erratic and chaotic phenomenon\n",
    "# consulted reference: https://stackoverflow.com/a/35730154\n",
    "atm_entry = abs(np.random.poisson(abs(atm_entry_lambda + (atm_entry_noise)), len(year)) + atm_entry_noise) # higher probability of occuring fewer meteors entry in a year; only non-negative values\n",
    "\n"
   ]
  },
  {
   "cell_type": "markdown",
   "metadata": {},
   "source": [
    "#### Analysis of the atmosphere entries "
   ]
  },
  {
   "cell_type": "code",
   "execution_count": 8,
   "metadata": {},
   "outputs": [
    {
     "name": "stdout",
     "output_type": "stream",
     "text": [
      "min:\t 0\n",
      "mean:\t 21.32\n",
      "max:\t 92\n",
      "std div: 15.831159148969478\n"
     ]
    },
    {
     "data": {
      "image/png": "[encoded data removed]",
      "text/plain": [
       "<Figure size 1296x144 with 2 Axes>"
      ]
     },
     "metadata": {
      "needs_background": "light"
     },
     "output_type": "display_data"
    }
   ],
   "source": [
    "# description of the generated data\n",
    "#print(\"atm_entry_lambda:\\t\", atm_entry_lambda)\n",
    "#print(\"atm_entry_noise:\\t\", atm_entry_noise)\n",
    "print(\"min:\\t\", atm_entry.min())\n",
    "print(\"mean:\\t\", atm_entry.mean())\n",
    "print(\"max:\\t\", atm_entry.max())\n",
    "print(\"std div:\", atm_entry.std())\n",
    "\n",
    "### plotting - \n",
    "fig, ax = plt.subplots(ncols=2, figsize=(18, 2))\n",
    "plt.suptitle(\"Figure 1. Atmosphere entry per year.\", y=1.0, fontsize=14)\n",
    "plt.subplots_adjust(left=None, bottom=None, right=None, top=None, wspace=.2, hspace=None)\n",
    "\n",
    "# left hand plot - number of entries in each year of observation\n",
    "sns.lineplot(x=year, y=atm_entry, ax=ax[0]) \n",
    "\n",
    "# right hand plot - how many the same number of entries occured\n",
    "sns.countplot(x=atm_entry, ax=ax[1])   \n",
    "\n",
    "plt.show()"
   ]
  },
  {
   "cell_type": "code",
   "execution_count": 9,
   "metadata": {},
   "outputs": [
    {
     "name": "stdout",
     "output_type": "stream",
     "text": [
      "\n",
      "Occurrences (what numbers happend to be generated):\n",
      " [{0, 1, 2, 3, 4, 5, 6, 7, 8, 9, 10, 11, 12, 13, 14, 15, 16, 17, 18, 19, 20, 21, 22, 23, 24, 25, 26, 27, 28, 29, 30, 31, 32, 33, 34, 35, 36, 37, 38, 39, 40, 41, 42, 43, 44, 45, 46, 47, 48, 49, 50, 51, 52, 53, 54, 55, 56, 57, 58, 59, 60, 61, 64, 65, 66, 67, 68, 69, 70, 71, 72, 75, 76, 81, 83, 92}]\n",
      "\n",
      "Frequency of unique values, sorted (first value denotess number of occurrences, second denotes how many time the number occured in all the observations.):\n",
      " [[ 0  1  2  3  4  5  6  7  8  9 10 11 12 13 14 15 16 17 18 19 20 21 22 23\n",
      "  24 25 26 27 28 29 30 31 32 33 34 35 36 37 38 39 40 41 42 43 44 45 46 47\n",
      "  48 49 50 51 52 53 54 55 56 57 58 59 60 61 64 65 66 67 68 69 70 71 72 75\n",
      "  76 81 83 92]\n",
      " [13 21 25 38 29 44 21 27 29 27 30 26 29 30 21 25 25 25 18 24 27 18 21 20\n",
      "  17 16 20 22 21 15 19 16 18 14 18 12  9 18  8 19 13  9  5  4  9  8  6  3\n",
      "   3  8  3  4  2  2  4  2  1  4  4  3  5  4  3  2  2  1  1  1  2  1  1  1\n",
      "   1  1  1  1]]\n"
     ]
    },
    {
     "data": {
      "text/html": [
       "<div>\n",
       "<style scoped>\n",
       "    .dataframe tbody tr th:only-of-type {\n",
       "        vertical-align: middle;\n",
       "    }\n",
       "\n",
       "    .dataframe tbody tr th {\n",
       "        vertical-align: top;\n",
       "    }\n",
       "\n",
       "    .dataframe thead th {\n",
       "        text-align: right;\n",
       "    }\n",
       "</style>\n",
       "<table border=\"1\" class=\"dataframe\">\n",
       "  <thead>\n",
       "    <tr style=\"text-align: right;\">\n",
       "      <th></th>\n",
       "      <th>Unique values</th>\n",
       "      <th>Counter</th>\n",
       "    </tr>\n",
       "  </thead>\n",
       "  <tbody>\n",
       "    <tr>\n",
       "      <th>0</th>\n",
       "      <td>0</td>\n",
       "      <td>13</td>\n",
       "    </tr>\n",
       "    <tr>\n",
       "      <th>1</th>\n",
       "      <td>1</td>\n",
       "      <td>21</td>\n",
       "    </tr>\n",
       "    <tr>\n",
       "      <th>2</th>\n",
       "      <td>2</td>\n",
       "      <td>25</td>\n",
       "    </tr>\n",
       "    <tr>\n",
       "      <th>3</th>\n",
       "      <td>3</td>\n",
       "      <td>38</td>\n",
       "    </tr>\n",
       "    <tr>\n",
       "      <th>4</th>\n",
       "      <td>4</td>\n",
       "      <td>29</td>\n",
       "    </tr>\n",
       "    <tr>\n",
       "      <th>...</th>\n",
       "      <td>...</td>\n",
       "      <td>...</td>\n",
       "    </tr>\n",
       "    <tr>\n",
       "      <th>71</th>\n",
       "      <td>75</td>\n",
       "      <td>1</td>\n",
       "    </tr>\n",
       "    <tr>\n",
       "      <th>72</th>\n",
       "      <td>76</td>\n",
       "      <td>1</td>\n",
       "    </tr>\n",
       "    <tr>\n",
       "      <th>73</th>\n",
       "      <td>81</td>\n",
       "      <td>1</td>\n",
       "    </tr>\n",
       "    <tr>\n",
       "      <th>74</th>\n",
       "      <td>83</td>\n",
       "      <td>1</td>\n",
       "    </tr>\n",
       "    <tr>\n",
       "      <th>75</th>\n",
       "      <td>92</td>\n",
       "      <td>1</td>\n",
       "    </tr>\n",
       "  </tbody>\n",
       "</table>\n",
       "<p>76 rows × 2 columns</p>\n",
       "</div>"
      ],
      "text/plain": [
       "    Unique values  Counter\n",
       "0               0       13\n",
       "1               1       21\n",
       "2               2       25\n",
       "3               3       38\n",
       "4               4       29\n",
       "..            ...      ...\n",
       "71             75        1\n",
       "72             76        1\n",
       "73             81        1\n",
       "74             83        1\n",
       "75             92        1\n",
       "\n",
       "[76 rows x 2 columns]"
      ]
     },
     "execution_count": 9,
     "metadata": {},
     "output_type": "execute_result"
    }
   ],
   "source": [
    "#print(\"Number of meteroids hitting the atmosphere, list in sequence of years:\\n\", atm_entry)\n",
    "print(\"\\nOccurrences (what numbers happend to be generated):\\n\", np.unique(set(atm_entry)))\n",
    "\n",
    "# Assigning the variables\n",
    "unique_elements, counts_elements = np.unique(atm_entry, return_counts=True) # https://www.w3resource.com/python-exercises/numpy/python-numpy-exercise-94.php\n",
    "\n",
    "print(\"\\nFrequency of unique values, sorted (first value denotess number of occurrences, second denotes how many time the number occured in all the observations.):\\n\", np.asarray((unique_elements, counts_elements)))\n",
    "\n",
    "# print results - number of yearly hits distribution\n",
    "hits = pd.DataFrame(np.transpose(np.asarray((unique_elements, counts_elements))))\n",
    "hits.columns = ['Unique values', 'Counter']\n",
    "hits"
   ]
  },
  {
   "cell_type": "markdown",
   "metadata": {},
   "source": [
    "##### Adding `Entry` values to the dataset."
   ]
  },
  {
   "cell_type": "code",
   "execution_count": 10,
   "metadata": {},
   "outputs": [],
   "source": [
    "data[\"Entry\"] = atm_entry # abs(np.random.poisson(abs(atm_entry_lambda + abs(atm_entry_noise)), len(year)) + atm_entry_noise)"
   ]
  },
  {
   "cell_type": "markdown",
   "metadata": {},
   "source": [
    "### Surface impact\n",
    "\n",
    "Number of meteors impacts into the planet surface, that is the meteors that entered the atmosphere of the planet and penetrated it without being completely burned out in the transit. \n",
    "The variable is represented in my model by variable `Impact` which is a result of **binomial distribution** with arbitrarily given probability of success. This is simplification, as a lot of factors are neglected here that would have an effect in real situation (e.g. size, density, composition, velocity, angle of entry, atmosphere properties and so on).\n",
    "\n",
    "This part is based on Ian Mcloughlin's [Notebook](https://github.com/ianmcloughlin/jupyter-teaching-notebooks/blob/master/coin-flip.ipynb) on coin flip."
   ]
  },
  {
   "cell_type": "code",
   "execution_count": 11,
   "metadata": {},
   "outputs": [
    {
     "data": {
      "text/plain": [
       "0.13"
      ]
     },
     "execution_count": 11,
     "metadata": {},
     "output_type": "execute_result"
    }
   ],
   "source": [
    "np.random.seed(my_seed) # executing this line ensures the numbers ranomly generated are the same\n",
    "\n",
    "# assign probability of meteoroids passing through the atmosfere and hitting the surface\n",
    "passing_prob = 0.01*np.random.randint(5, 21) # range from 0.05 to 0.2\n",
    "passing_prob"
   ]
  },
  {
   "cell_type": "code",
   "execution_count": 27,
   "metadata": {},
   "outputs": [
    {
     "name": "stdout",
     "output_type": "stream",
     "text": [
      "Results for a few first observations:\n",
      "\n",
      "Year: 1\n",
      "Number of meteorites passing the atmosphere and hitting the planet / total number entering the atmosphere:\t 6 / 37 \n",
      "\n",
      "Year: 2\n",
      "Number of meteorites passing the atmosphere and hitting the planet / total number entering the atmosphere:\t 0 / 5 \n",
      "\n",
      "Year: 3\n",
      "Number of meteorites passing the atmosphere and hitting the planet / total number entering the atmosphere:\t 3 / 32 \n",
      "\n",
      "Year: 4\n",
      "Number of meteorites passing the atmosphere and hitting the planet / total number entering the atmosphere:\t 0 / 12 \n",
      "\n",
      "Year: 5\n",
      "Number of meteorites passing the atmosphere and hitting the planet / total number entering the atmosphere:\t 9 / 32 \n",
      "\n",
      "Year: 6\n",
      "Number of meteorites passing the atmosphere and hitting the planet / total number entering the atmosphere:\t 1 / 8 \n",
      "\n"
     ]
    }
   ],
   "source": [
    "# filtering the meteoroids - testing how many in each year have passed through the atmosphere\n",
    "\n",
    "print(\"Results for a few first observations:\\n\")\n",
    "\n",
    "# for each year\n",
    "for index, row in data.iterrows(): # adapted from https://stackoverflow.com/a/16476974\n",
    "    #print(\"\\n\")\n",
    "    \n",
    "    sum = 0 # counter of meteoites successfully passing the atmosphere in a given year\n",
    "    \n",
    "    for i in range(data.iat[index, 1]): # data.iat[-1, 1] returns value of a cell\n",
    "       \n",
    "        # testing for a single instance (Number of tests, probability of a penetration, number of times to do this);\n",
    "        passed = np.random.binomial(1, passing_prob, 1) # adapted from https://github.com/ianmcloughlin/jupyter-teaching-notebooks/blob/master/coin-flip.ipynb\n",
    "        sum = int(sum + passed)\n",
    "    \n",
    "    if index <= 5: # print out for first couple of obsevations\n",
    "        print(\"Year:\", index+1) #, \"\\tNumber of meteo:\\t\", row[\"Entry\"])\n",
    "        print(\"Number of meteorites passing the atmosphere and hitting the planet / total number entering the atmosphere:\\t\", sum, \"/\", row[\"Entry\"], \"\\n\")\n",
    "    \n",
    "    if row[\"Entry\"] != 0: # check if there was any meteo hittint the atmosphere in a given year\n",
    "        ratio_passing = sum/row[\"Entry\"]\n",
    "        \n",
    "    else:\n",
    "        ratio_passing = 0  \n",
    "    \n",
    "    # assign number of surface impacts in a year to the main dataset\n",
    "    data.iat[index, 2] = sum "
   ]
  },
  {
   "cell_type": "code",
   "execution_count": 13,
   "metadata": {},
   "outputs": [
    {
     "data": {
      "text/html": [
       "<div>\n",
       "<style scoped>\n",
       "    .dataframe tbody tr th:only-of-type {\n",
       "        vertical-align: middle;\n",
       "    }\n",
       "\n",
       "    .dataframe tbody tr th {\n",
       "        vertical-align: top;\n",
       "    }\n",
       "\n",
       "    .dataframe thead th {\n",
       "        text-align: right;\n",
       "    }\n",
       "</style>\n",
       "<table border=\"1\" class=\"dataframe\">\n",
       "  <thead>\n",
       "    <tr style=\"text-align: right;\">\n",
       "      <th></th>\n",
       "      <th>Year</th>\n",
       "      <th>Entry</th>\n",
       "      <th>Impact</th>\n",
       "      <th>Mass</th>\n",
       "      <th>Velocity</th>\n",
       "      <th>Crater</th>\n",
       "      <th>Class</th>\n",
       "    </tr>\n",
       "  </thead>\n",
       "  <tbody>\n",
       "    <tr>\n",
       "      <th>0</th>\n",
       "      <td>1</td>\n",
       "      <td>37</td>\n",
       "      <td>1</td>\n",
       "      <td>NaN</td>\n",
       "      <td>NaN</td>\n",
       "      <td>NaN</td>\n",
       "      <td>NaN</td>\n",
       "    </tr>\n",
       "    <tr>\n",
       "      <th>1</th>\n",
       "      <td>2</td>\n",
       "      <td>5</td>\n",
       "      <td>1</td>\n",
       "      <td>NaN</td>\n",
       "      <td>NaN</td>\n",
       "      <td>NaN</td>\n",
       "      <td>NaN</td>\n",
       "    </tr>\n",
       "    <tr>\n",
       "      <th>2</th>\n",
       "      <td>3</td>\n",
       "      <td>32</td>\n",
       "      <td>3</td>\n",
       "      <td>NaN</td>\n",
       "      <td>NaN</td>\n",
       "      <td>NaN</td>\n",
       "      <td>NaN</td>\n",
       "    </tr>\n",
       "    <tr>\n",
       "      <th>3</th>\n",
       "      <td>4</td>\n",
       "      <td>12</td>\n",
       "      <td>1</td>\n",
       "      <td>NaN</td>\n",
       "      <td>NaN</td>\n",
       "      <td>NaN</td>\n",
       "      <td>NaN</td>\n",
       "    </tr>\n",
       "    <tr>\n",
       "      <th>4</th>\n",
       "      <td>5</td>\n",
       "      <td>32</td>\n",
       "      <td>2</td>\n",
       "      <td>NaN</td>\n",
       "      <td>NaN</td>\n",
       "      <td>NaN</td>\n",
       "      <td>NaN</td>\n",
       "    </tr>\n",
       "    <tr>\n",
       "      <th>...</th>\n",
       "      <td>...</td>\n",
       "      <td>...</td>\n",
       "      <td>...</td>\n",
       "      <td>...</td>\n",
       "      <td>...</td>\n",
       "      <td>...</td>\n",
       "      <td>...</td>\n",
       "    </tr>\n",
       "    <tr>\n",
       "      <th>995</th>\n",
       "      <td>996</td>\n",
       "      <td>8</td>\n",
       "      <td>1</td>\n",
       "      <td>NaN</td>\n",
       "      <td>NaN</td>\n",
       "      <td>NaN</td>\n",
       "      <td>NaN</td>\n",
       "    </tr>\n",
       "    <tr>\n",
       "      <th>996</th>\n",
       "      <td>997</td>\n",
       "      <td>39</td>\n",
       "      <td>3</td>\n",
       "      <td>NaN</td>\n",
       "      <td>NaN</td>\n",
       "      <td>NaN</td>\n",
       "      <td>NaN</td>\n",
       "    </tr>\n",
       "    <tr>\n",
       "      <th>997</th>\n",
       "      <td>998</td>\n",
       "      <td>27</td>\n",
       "      <td>6</td>\n",
       "      <td>NaN</td>\n",
       "      <td>NaN</td>\n",
       "      <td>NaN</td>\n",
       "      <td>NaN</td>\n",
       "    </tr>\n",
       "    <tr>\n",
       "      <th>998</th>\n",
       "      <td>999</td>\n",
       "      <td>3</td>\n",
       "      <td>0</td>\n",
       "      <td>NaN</td>\n",
       "      <td>NaN</td>\n",
       "      <td>NaN</td>\n",
       "      <td>NaN</td>\n",
       "    </tr>\n",
       "    <tr>\n",
       "      <th>999</th>\n",
       "      <td>1000</td>\n",
       "      <td>31</td>\n",
       "      <td>1</td>\n",
       "      <td>NaN</td>\n",
       "      <td>NaN</td>\n",
       "      <td>NaN</td>\n",
       "      <td>NaN</td>\n",
       "    </tr>\n",
       "  </tbody>\n",
       "</table>\n",
       "<p>1000 rows × 7 columns</p>\n",
       "</div>"
      ],
      "text/plain": [
       "     Year  Entry Impact Mass Velocity Crater Class\n",
       "0       1     37      1  NaN      NaN    NaN   NaN\n",
       "1       2      5      1  NaN      NaN    NaN   NaN\n",
       "2       3     32      3  NaN      NaN    NaN   NaN\n",
       "3       4     12      1  NaN      NaN    NaN   NaN\n",
       "4       5     32      2  NaN      NaN    NaN   NaN\n",
       "..    ...    ...    ...  ...      ...    ...   ...\n",
       "995   996      8      1  NaN      NaN    NaN   NaN\n",
       "996   997     39      3  NaN      NaN    NaN   NaN\n",
       "997   998     27      6  NaN      NaN    NaN   NaN\n",
       "998   999      3      0  NaN      NaN    NaN   NaN\n",
       "999  1000     31      1  NaN      NaN    NaN   NaN\n",
       "\n",
       "[1000 rows x 7 columns]"
      ]
     },
     "execution_count": 13,
     "metadata": {},
     "output_type": "execute_result"
    }
   ],
   "source": [
    "data"
   ]
  },
  {
   "cell_type": "markdown",
   "metadata": {},
   "source": [
    "### Parameters of each meteor\n",
    "\n",
    "The mass and velocity of **every** meteors hitting the planet surface in given year is generated in the model - other are not considered in the dataset.\n",
    "\n",
    "The mass and velocity is stored in a separate subset of data for each year (3rd dimension of the original dataset?)."
   ]
  },
  {
   "cell_type": "markdown",
   "metadata": {},
   "source": [
    "#### Mass of the meteoroids\n",
    "\n",
    "The mass of the meteor is distributed according to pareto principle, that is many small meteors and few large. The variable is generated with the help of `np.random.pareto()` function."
   ]
  },
  {
   "cell_type": "markdown",
   "metadata": {},
   "source": [
    "Assigning pareto distibution parameters"
   ]
  },
  {
   "cell_type": "code",
   "execution_count": 14,
   "metadata": {},
   "outputs": [],
   "source": [
    "# adapted from https://docs.scipy.org/doc/numpy-1.15.0/reference/generated/numpy.random.pareto.html\n",
    "\n",
    "# parameters for pareto dirstribution: pareto_a - shape of the distribution, pareto_m - mode of the distribution\n",
    "\n",
    "mass_pareto_a, mass_pareto_m = 1.0, 1000.0  # shape and mode - picked arbitrarily to resemble reality as much as the author could think\n",
    "\n",
    "# shape of the pareto distribution determines the how much the number of small meteors would dominate over the large ones; greater the shape value, the more small samples\n",
    "# mode in the pareto distribution tells the magnitude (or scale) of the outcome (the size of the metors); the larger the mode, the larger the scale of the meteors"
   ]
  },
  {
   "cell_type": "code",
   "execution_count": 30,
   "metadata": {},
   "outputs": [
    {
     "name": "stdout",
     "output_type": "stream",
     "text": [
      "Results for a few first observations:\n",
      "\n",
      "In year 1 the number of meteors passing the atmosphere was:\t 6\n",
      "Their mass was as follows: [94.  7. 17. 18. 74.  4.] \n",
      "\n",
      "In year 2 the number of meteors passing the atmosphere was:\t 0\n",
      "In year 3 the number of meteors passing the atmosphere was:\t 3\n",
      "Their mass was as follows: [17. 89. 30.] \n",
      "\n",
      "In year 4 the number of meteors passing the atmosphere was:\t 0\n",
      "In year 5 the number of meteors passing the atmosphere was:\t 9\n",
      "Their mass was as follows: [ 18.  13.  12.  90.  12. 654.  10.  20.  12.] \n",
      "\n"
     ]
    }
   ],
   "source": [
    "np.random.seed(my_seed) # executing this line ensures the numbers ranomly generated are the same\n",
    "\n",
    "print(\"Results for a few first observations:\\n\")\n",
    "\n",
    "# splicing - getting the number of meteors entering the atmosphere in a given year\n",
    "for i in data[\"Year\"]:\n",
    "    \n",
    "    number_meteors = data.loc[i-1][\"Impact\"] # getting the number of the meteors entereing the atmosphere in the subsequnt year\n",
    "    \n",
    "    if i <= 5: print(\"In year\", i, \"the number of meteors passing the atmosphere was:\\t\", number_meteors)\n",
    "   \n",
    "    if number_meteors != 0:  # only those that hit the planet are considered\n",
    "        \n",
    "        # genertating mass of each meteoroid\n",
    "        mass_meteo = np.round((0.01*(np.random.pareto(mass_pareto_a, number_meteors) + 1) * mass_pareto_m) + 0.01*np.random.randint(-1000, 10), 0) # random mass for each meteoroid hitting the surface\n",
    "        \n",
    "        # recording the masses in the dataset table\n",
    "        data.at[i-1, \"Mass\"] = mass_meteo\n",
    "        \n",
    "        if i <= 5: print(\"Their mass was as follows:\", data.at[i-1, \"Mass\"], \"\\n\")\n",
    "        #print(data)\n",
    "        \n",
    "    else:\n",
    "        #print() \n",
    "        pass"
   ]
  },
  {
   "cell_type": "markdown",
   "metadata": {},
   "source": [
    "#### Velocity of the meteoroids\n",
    "\n",
    "The velocity of the meteor is distributed according to pareto principle, that is many small meteors and few large. The variable is generated with the help of `np.random.pareto()` function."
   ]
  },
  {
   "cell_type": "markdown",
   "metadata": {},
   "source": [
    "Assigning pareto distibution parameters"
   ]
  },
  {
   "cell_type": "code",
   "execution_count": 16,
   "metadata": {},
   "outputs": [],
   "source": [
    "# adapted from https://docs.scipy.org/doc/numpy-1.15.0/reference/generated/numpy.random.pareto.html\n",
    "\n",
    "# parameters for pareto dirstribution: pareto_a - shape of the distribution, pareto_m - mode of the distribution\n",
    "\n",
    "velo_pareto_a, velo_pareto_m = 1.4, 5000.0  # shape and mode - picked arbitrarily to resemble reality as much as the author could think\n",
    "\n",
    "# shape of the pareto distribution determines the how much the number of slow meteoroids would dominate over the fast ones; greater the shape value, the more slow samples\n",
    "# mode in the pareto distribution tells the magnitude (or scale) of the outcome (the velocity of the metoroids); the larger the mode, the larger the velocity of the meteors"
   ]
  },
  {
   "cell_type": "code",
   "execution_count": 17,
   "metadata": {},
   "outputs": [
    {
     "name": "stdout",
     "output_type": "stream",
     "text": [
      "In year 1 the number of meteors passing the atmosphere was:\t 1\n",
      "Their mass was as follows: [257.] \n",
      "\n",
      "In year 2 the number of meteors passing the atmosphere was:\t 1\n",
      "Their mass was as follows: [77.] \n",
      "\n",
      "In year 3 the number of meteors passing the atmosphere was:\t 3\n",
      "Their mass was as follows: [ 93. 218.  55.] \n",
      "\n",
      "In year 4 the number of meteors passing the atmosphere was:\t 1\n",
      "Their mass was as follows: [72.] \n",
      "\n",
      "In year 5 the number of meteors passing the atmosphere was:\t 2\n",
      "Their mass was as follows: [111.  51.] \n",
      "\n"
     ]
    }
   ],
   "source": [
    "np.random.seed(my_seed) # executing this line ensures the numbers ranomly generated are the same\n",
    "\n",
    "# splicing - getting the number of meteors entering the atmosphere in a given year\n",
    "for i in data[\"Year\"]:\n",
    "    \n",
    "    number_meteors = data.loc[i-1][\"Impact\"] # getting the number of the meteors entereing the atmosphere in the subsequnt year\n",
    "    \n",
    "    if i <= 5: print(\"In year\", i, \"the number of meteors passing the atmosphere was:\\t\", number_meteors) # print out for first couple of obsevations\n",
    "       \n",
    "    if number_meteors != 0:  # only those that hit the planet are considered\n",
    "        \n",
    "        # generating velocity value for each meteo\n",
    "        velo = np.round((0.01*(np.random.pareto(velo_pareto_a, number_meteors) + 1) * velo_pareto_m) + 0.01*np.random.randint(-1000, 10), 0) # random mass for each meteoroid hitting the surface\n",
    "        \n",
    "        # assigning the velo values to the dataset\n",
    "        data.at[i-1, \"Velocity\"] = velo\n",
    "        \n",
    "        if i <= 5: print(\"Their mass was as follows:\", data.at[i-1, \"Velocity\"], \"\\n\") # print out for first couple of obsevations\n",
    "                \n",
    "    #else:\n",
    "        #print()\n",
    "    #    pass"
   ]
  },
  {
   "cell_type": "markdown",
   "metadata": {},
   "source": [
    "#### Picking the highest energy meteoride "
   ]
  },
  {
   "cell_type": "code",
   "execution_count": 18,
   "metadata": {},
   "outputs": [
    {
     "data": {
      "text/html": [
       "<div>\n",
       "<style scoped>\n",
       "    .dataframe tbody tr th:only-of-type {\n",
       "        vertical-align: middle;\n",
       "    }\n",
       "\n",
       "    .dataframe tbody tr th {\n",
       "        vertical-align: top;\n",
       "    }\n",
       "\n",
       "    .dataframe thead th {\n",
       "        text-align: right;\n",
       "    }\n",
       "</style>\n",
       "<table border=\"1\" class=\"dataframe\">\n",
       "  <thead>\n",
       "    <tr style=\"text-align: right;\">\n",
       "      <th></th>\n",
       "      <th>Year</th>\n",
       "      <th>Entry</th>\n",
       "      <th>Impact</th>\n",
       "      <th>Mass</th>\n",
       "      <th>Velocity</th>\n",
       "      <th>Crater</th>\n",
       "      <th>Class</th>\n",
       "    </tr>\n",
       "  </thead>\n",
       "  <tbody>\n",
       "    <tr>\n",
       "      <th>0</th>\n",
       "      <td>1</td>\n",
       "      <td>37</td>\n",
       "      <td>1</td>\n",
       "      <td>[95.0]</td>\n",
       "      <td>[257.0]</td>\n",
       "      <td>24.4</td>\n",
       "      <td>NaN</td>\n",
       "    </tr>\n",
       "    <tr>\n",
       "      <th>1</th>\n",
       "      <td>2</td>\n",
       "      <td>5</td>\n",
       "      <td>1</td>\n",
       "      <td>[13.0]</td>\n",
       "      <td>[77.0]</td>\n",
       "      <td>1</td>\n",
       "      <td>NaN</td>\n",
       "    </tr>\n",
       "    <tr>\n",
       "      <th>2</th>\n",
       "      <td>3</td>\n",
       "      <td>32</td>\n",
       "      <td>3</td>\n",
       "      <td>[18.0, 74.0, 4.0]</td>\n",
       "      <td>[93.0, 218.0, 55.0]</td>\n",
       "      <td>16.1</td>\n",
       "      <td>NaN</td>\n",
       "    </tr>\n",
       "    <tr>\n",
       "      <th>3</th>\n",
       "      <td>4</td>\n",
       "      <td>12</td>\n",
       "      <td>1</td>\n",
       "      <td>[15.0]</td>\n",
       "      <td>[72.0]</td>\n",
       "      <td>1.1</td>\n",
       "      <td>NaN</td>\n",
       "    </tr>\n",
       "    <tr>\n",
       "      <th>4</th>\n",
       "      <td>5</td>\n",
       "      <td>32</td>\n",
       "      <td>2</td>\n",
       "      <td>[30.0, 10.0]</td>\n",
       "      <td>[111.0, 51.0]</td>\n",
       "      <td>3.3</td>\n",
       "      <td>NaN</td>\n",
       "    </tr>\n",
       "    <tr>\n",
       "      <th>...</th>\n",
       "      <td>...</td>\n",
       "      <td>...</td>\n",
       "      <td>...</td>\n",
       "      <td>...</td>\n",
       "      <td>...</td>\n",
       "      <td>...</td>\n",
       "      <td>...</td>\n",
       "    </tr>\n",
       "    <tr>\n",
       "      <th>995</th>\n",
       "      <td>996</td>\n",
       "      <td>8</td>\n",
       "      <td>1</td>\n",
       "      <td>[11.0]</td>\n",
       "      <td>[53.0]</td>\n",
       "      <td>0.6</td>\n",
       "      <td>NaN</td>\n",
       "    </tr>\n",
       "    <tr>\n",
       "      <th>996</th>\n",
       "      <td>997</td>\n",
       "      <td>39</td>\n",
       "      <td>3</td>\n",
       "      <td>[19.0, 43.0, 25.0]</td>\n",
       "      <td>[87.0, 146.0, 103.0]</td>\n",
       "      <td>6.3</td>\n",
       "      <td>NaN</td>\n",
       "    </tr>\n",
       "    <tr>\n",
       "      <th>997</th>\n",
       "      <td>998</td>\n",
       "      <td>27</td>\n",
       "      <td>6</td>\n",
       "      <td>[124811.0, 11.0, 40.0, 21.0, 19.0, 35.0]</td>\n",
       "      <td>[42155.0, 60.0, 138.0, 89.0, 82.0, 126.0]</td>\n",
       "      <td>5.26141e+06</td>\n",
       "      <td>NaN</td>\n",
       "    </tr>\n",
       "    <tr>\n",
       "      <th>998</th>\n",
       "      <td>999</td>\n",
       "      <td>3</td>\n",
       "      <td>0</td>\n",
       "      <td>NaN</td>\n",
       "      <td>NaN</td>\n",
       "      <td>NaN</td>\n",
       "      <td>NaN</td>\n",
       "    </tr>\n",
       "    <tr>\n",
       "      <th>999</th>\n",
       "      <td>1000</td>\n",
       "      <td>31</td>\n",
       "      <td>1</td>\n",
       "      <td>[67.0]</td>\n",
       "      <td>[203.0]</td>\n",
       "      <td>13.6</td>\n",
       "      <td>NaN</td>\n",
       "    </tr>\n",
       "  </tbody>\n",
       "</table>\n",
       "<p>1000 rows × 7 columns</p>\n",
       "</div>"
      ],
      "text/plain": [
       "     Year  Entry Impact                                      Mass  \\\n",
       "0       1     37      1                                    [95.0]   \n",
       "1       2      5      1                                    [13.0]   \n",
       "2       3     32      3                         [18.0, 74.0, 4.0]   \n",
       "3       4     12      1                                    [15.0]   \n",
       "4       5     32      2                              [30.0, 10.0]   \n",
       "..    ...    ...    ...                                       ...   \n",
       "995   996      8      1                                    [11.0]   \n",
       "996   997     39      3                        [19.0, 43.0, 25.0]   \n",
       "997   998     27      6  [124811.0, 11.0, 40.0, 21.0, 19.0, 35.0]   \n",
       "998   999      3      0                                       NaN   \n",
       "999  1000     31      1                                    [67.0]   \n",
       "\n",
       "                                      Velocity       Crater Class  \n",
       "0                                      [257.0]         24.4   NaN  \n",
       "1                                       [77.0]            1   NaN  \n",
       "2                          [93.0, 218.0, 55.0]         16.1   NaN  \n",
       "3                                       [72.0]          1.1   NaN  \n",
       "4                                [111.0, 51.0]          3.3   NaN  \n",
       "..                                         ...          ...   ...  \n",
       "995                                     [53.0]          0.6   NaN  \n",
       "996                       [87.0, 146.0, 103.0]          6.3   NaN  \n",
       "997  [42155.0, 60.0, 138.0, 89.0, 82.0, 126.0]  5.26141e+06   NaN  \n",
       "998                                        NaN          NaN   NaN  \n",
       "999                                    [203.0]         13.6   NaN  \n",
       "\n",
       "[1000 rows x 7 columns]"
      ]
     },
     "execution_count": 18,
     "metadata": {},
     "output_type": "execute_result"
    }
   ],
   "source": [
    "np.random.seed(my_seed) # executing this line ensures the numbers ranomly generated are the same\n",
    "\n",
    "# Calculation of the meteoroids energy\n",
    "for i in data[\"Year\"]:\n",
    "    \n",
    "    if data.loc[i-1][\"Impact\"] != 0:\n",
    "        #print(data.loc[i-1][\"Mass\"], \"*\", data.loc[i-1][\"Velocity\"], \"=\", (data.loc[i-1][\"Mass\"] * data.loc[i-1][\"Velocity\"]))\n",
    "        \n",
    "        # calculation energy for each meteroid hitting the planet\n",
    "        energy_calcs = np.round(.001 * data.loc[i-1][\"Mass\"] * data.loc[i-1][\"Velocity\"], 1)\n",
    "        \n",
    "        # recording only the highest energy metoroid in the dataset\n",
    "        data.at[i-1, \"Crater\"] = max(energy_calcs)\n",
    "        \n",
    "        \n",
    "        #data.at[i-1, \"Crater\"] = max(np.round(.001 * data.loc[i-1][\"Mass\"] * data.loc[i-1][\"Velocity\"], 1)) # only max energy meteroid recorded\n",
    "        #print(data.loc[i-1][\"Crater\"])\n",
    "                \n",
    "    else:\n",
    "         pass\n",
    "        \n",
    "#print(data.loc[i-1][\"Crater\"])\n",
    "    #for j in data[\"Year\"]:\n",
    "    \n",
    "    #number_meteors = data.loc[i-1][\"Impact\"] # getting the number of the meteors entereing the atmosphere in the subsequnt year\n",
    "    #print(\"In year\", i, \"the number of meteors passing the atmosphere was:\\t\", number_meteors, \"\\nTheir mass was as follows:\")\n",
    "   \n",
    "    #if number_meteors != 0:\n",
    "    #    data.at[i-1, \"Velocity\"] = np.round(((np.random.pareto(velo_pareto_a, number_meteors) + 1) * velo_pareto_m) + np.random.randint(-1000, 10), 0) # random mass for each meteoroid hitting the surface\n",
    "    #    print(data.at[i-1, \"Velocity\"], \"\\n\")\n",
    "    #    #print(data)\n",
    "    #else:\n",
    "    #    data.at[i-1, \"Velocity\"] = 0   \n",
    "data"
   ]
  },
  {
   "cell_type": "markdown",
   "metadata": {},
   "source": [
    "### Class of the highest energy meteoroid"
   ]
  },
  {
   "cell_type": "markdown",
   "metadata": {},
   "source": [
    "In the solar system there are following classes of meteoroids:\n",
    "* iron,\n",
    "* stone,\n",
    "* ice.\n",
    "\n",
    "Each class has a certain probability of hitting the planet - see below."
   ]
  },
  {
   "cell_type": "code",
   "execution_count": 19,
   "metadata": {},
   "outputs": [],
   "source": [
    "# in the solar system occure the following classes of meteorids as well as their corresponding probability of occurance\n",
    "classes, class_probability = (\"iron\", \"stone\", \"ice\"), (0.8, 0.15, 0.05) # tuple data types, so that the order matters"
   ]
  },
  {
   "cell_type": "code",
   "execution_count": 20,
   "metadata": {},
   "outputs": [],
   "source": [
    "np.random.seed(my_seed) # executing this line ensures the numbers ranomly generated are the same\n",
    "\n",
    "for i in data[\"Year\"]:\n",
    "    \n",
    "    if data.loc[i-1][\"Impact\"] != 0: # on condition there was an impact in this year\n",
    "        \n",
    "        # assigning the class in given year\n",
    "        data.at[i-1, \"Class\"] = np.random.choice(classes, p=class_probability)\n",
    "        \n",
    "    else:\n",
    "         pass"
   ]
  },
  {
   "cell_type": "code",
   "execution_count": 21,
   "metadata": {},
   "outputs": [
    {
     "data": {
      "text/html": [
       "<div>\n",
       "<style scoped>\n",
       "    .dataframe tbody tr th:only-of-type {\n",
       "        vertical-align: middle;\n",
       "    }\n",
       "\n",
       "    .dataframe tbody tr th {\n",
       "        vertical-align: top;\n",
       "    }\n",
       "\n",
       "    .dataframe thead th {\n",
       "        text-align: right;\n",
       "    }\n",
       "</style>\n",
       "<table border=\"1\" class=\"dataframe\">\n",
       "  <thead>\n",
       "    <tr style=\"text-align: right;\">\n",
       "      <th></th>\n",
       "      <th>Year</th>\n",
       "      <th>Entry</th>\n",
       "      <th>Impact</th>\n",
       "      <th>Mass</th>\n",
       "      <th>Velocity</th>\n",
       "      <th>Crater</th>\n",
       "      <th>Class</th>\n",
       "    </tr>\n",
       "  </thead>\n",
       "  <tbody>\n",
       "    <tr>\n",
       "      <th>0</th>\n",
       "      <td>1</td>\n",
       "      <td>37</td>\n",
       "      <td>1</td>\n",
       "      <td>[95.0]</td>\n",
       "      <td>[257.0]</td>\n",
       "      <td>24.4</td>\n",
       "      <td>stone</td>\n",
       "    </tr>\n",
       "    <tr>\n",
       "      <th>1</th>\n",
       "      <td>2</td>\n",
       "      <td>5</td>\n",
       "      <td>1</td>\n",
       "      <td>[13.0]</td>\n",
       "      <td>[77.0]</td>\n",
       "      <td>1</td>\n",
       "      <td>iron</td>\n",
       "    </tr>\n",
       "    <tr>\n",
       "      <th>2</th>\n",
       "      <td>3</td>\n",
       "      <td>32</td>\n",
       "      <td>3</td>\n",
       "      <td>[18.0, 74.0, 4.0]</td>\n",
       "      <td>[93.0, 218.0, 55.0]</td>\n",
       "      <td>16.1</td>\n",
       "      <td>iron</td>\n",
       "    </tr>\n",
       "    <tr>\n",
       "      <th>3</th>\n",
       "      <td>4</td>\n",
       "      <td>12</td>\n",
       "      <td>1</td>\n",
       "      <td>[15.0]</td>\n",
       "      <td>[72.0]</td>\n",
       "      <td>1.1</td>\n",
       "      <td>iron</td>\n",
       "    </tr>\n",
       "    <tr>\n",
       "      <th>4</th>\n",
       "      <td>5</td>\n",
       "      <td>32</td>\n",
       "      <td>2</td>\n",
       "      <td>[30.0, 10.0]</td>\n",
       "      <td>[111.0, 51.0]</td>\n",
       "      <td>3.3</td>\n",
       "      <td>stone</td>\n",
       "    </tr>\n",
       "    <tr>\n",
       "      <th>...</th>\n",
       "      <td>...</td>\n",
       "      <td>...</td>\n",
       "      <td>...</td>\n",
       "      <td>...</td>\n",
       "      <td>...</td>\n",
       "      <td>...</td>\n",
       "      <td>...</td>\n",
       "    </tr>\n",
       "    <tr>\n",
       "      <th>995</th>\n",
       "      <td>996</td>\n",
       "      <td>8</td>\n",
       "      <td>1</td>\n",
       "      <td>[11.0]</td>\n",
       "      <td>[53.0]</td>\n",
       "      <td>0.6</td>\n",
       "      <td>iron</td>\n",
       "    </tr>\n",
       "    <tr>\n",
       "      <th>996</th>\n",
       "      <td>997</td>\n",
       "      <td>39</td>\n",
       "      <td>3</td>\n",
       "      <td>[19.0, 43.0, 25.0]</td>\n",
       "      <td>[87.0, 146.0, 103.0]</td>\n",
       "      <td>6.3</td>\n",
       "      <td>stone</td>\n",
       "    </tr>\n",
       "    <tr>\n",
       "      <th>997</th>\n",
       "      <td>998</td>\n",
       "      <td>27</td>\n",
       "      <td>6</td>\n",
       "      <td>[124811.0, 11.0, 40.0, 21.0, 19.0, 35.0]</td>\n",
       "      <td>[42155.0, 60.0, 138.0, 89.0, 82.0, 126.0]</td>\n",
       "      <td>5.26141e+06</td>\n",
       "      <td>stone</td>\n",
       "    </tr>\n",
       "    <tr>\n",
       "      <th>998</th>\n",
       "      <td>999</td>\n",
       "      <td>3</td>\n",
       "      <td>0</td>\n",
       "      <td>NaN</td>\n",
       "      <td>NaN</td>\n",
       "      <td>NaN</td>\n",
       "      <td>NaN</td>\n",
       "    </tr>\n",
       "    <tr>\n",
       "      <th>999</th>\n",
       "      <td>1000</td>\n",
       "      <td>31</td>\n",
       "      <td>1</td>\n",
       "      <td>[67.0]</td>\n",
       "      <td>[203.0]</td>\n",
       "      <td>13.6</td>\n",
       "      <td>stone</td>\n",
       "    </tr>\n",
       "  </tbody>\n",
       "</table>\n",
       "<p>1000 rows × 7 columns</p>\n",
       "</div>"
      ],
      "text/plain": [
       "     Year  Entry Impact                                      Mass  \\\n",
       "0       1     37      1                                    [95.0]   \n",
       "1       2      5      1                                    [13.0]   \n",
       "2       3     32      3                         [18.0, 74.0, 4.0]   \n",
       "3       4     12      1                                    [15.0]   \n",
       "4       5     32      2                              [30.0, 10.0]   \n",
       "..    ...    ...    ...                                       ...   \n",
       "995   996      8      1                                    [11.0]   \n",
       "996   997     39      3                        [19.0, 43.0, 25.0]   \n",
       "997   998     27      6  [124811.0, 11.0, 40.0, 21.0, 19.0, 35.0]   \n",
       "998   999      3      0                                       NaN   \n",
       "999  1000     31      1                                    [67.0]   \n",
       "\n",
       "                                      Velocity       Crater  Class  \n",
       "0                                      [257.0]         24.4  stone  \n",
       "1                                       [77.0]            1   iron  \n",
       "2                          [93.0, 218.0, 55.0]         16.1   iron  \n",
       "3                                       [72.0]          1.1   iron  \n",
       "4                                [111.0, 51.0]          3.3  stone  \n",
       "..                                         ...          ...    ...  \n",
       "995                                     [53.0]          0.6   iron  \n",
       "996                       [87.0, 146.0, 103.0]          6.3  stone  \n",
       "997  [42155.0, 60.0, 138.0, 89.0, 82.0, 126.0]  5.26141e+06  stone  \n",
       "998                                        NaN          NaN    NaN  \n",
       "999                                    [203.0]         13.6  stone  \n",
       "\n",
       "[1000 rows x 7 columns]"
      ]
     },
     "execution_count": 21,
     "metadata": {},
     "output_type": "execute_result"
    }
   ],
   "source": [
    "data"
   ]
  },
  {
   "cell_type": "code",
   "execution_count": 22,
   "metadata": {},
   "outputs": [
    {
     "name": "stdout",
     "output_type": "stream",
     "text": [
      "<class 'pandas.core.frame.DataFrame'>\n",
      "RangeIndex: 1000 entries, 0 to 999\n",
      "Data columns (total 7 columns):\n",
      "Year        1000 non-null int64\n",
      "Entry       1000 non-null int64\n",
      "Impact      1000 non-null object\n",
      "Mass        812 non-null object\n",
      "Velocity    812 non-null object\n",
      "Crater      812 non-null object\n",
      "Class       812 non-null object\n",
      "dtypes: int64(2), object(5)\n",
      "memory usage: 54.8+ KB\n"
     ]
    }
   ],
   "source": [
    "data.info()"
   ]
  },
  {
   "cell_type": "code",
   "execution_count": 23,
   "metadata": {},
   "outputs": [
    {
     "data": {
      "text/html": [
       "<div>\n",
       "<style scoped>\n",
       "    .dataframe tbody tr th:only-of-type {\n",
       "        vertical-align: middle;\n",
       "    }\n",
       "\n",
       "    .dataframe tbody tr th {\n",
       "        vertical-align: top;\n",
       "    }\n",
       "\n",
       "    .dataframe thead th {\n",
       "        text-align: right;\n",
       "    }\n",
       "</style>\n",
       "<table border=\"1\" class=\"dataframe\">\n",
       "  <thead>\n",
       "    <tr style=\"text-align: right;\">\n",
       "      <th></th>\n",
       "      <th>Year</th>\n",
       "      <th>Entry</th>\n",
       "    </tr>\n",
       "  </thead>\n",
       "  <tbody>\n",
       "    <tr>\n",
       "      <th>count</th>\n",
       "      <td>1000.000000</td>\n",
       "      <td>1000.000000</td>\n",
       "    </tr>\n",
       "    <tr>\n",
       "      <th>mean</th>\n",
       "      <td>500.500000</td>\n",
       "      <td>21.320000</td>\n",
       "    </tr>\n",
       "    <tr>\n",
       "      <th>std</th>\n",
       "      <td>288.819436</td>\n",
       "      <td>15.839081</td>\n",
       "    </tr>\n",
       "    <tr>\n",
       "      <th>min</th>\n",
       "      <td>1.000000</td>\n",
       "      <td>0.000000</td>\n",
       "    </tr>\n",
       "    <tr>\n",
       "      <th>25%</th>\n",
       "      <td>250.750000</td>\n",
       "      <td>9.000000</td>\n",
       "    </tr>\n",
       "    <tr>\n",
       "      <th>50%</th>\n",
       "      <td>500.500000</td>\n",
       "      <td>18.000000</td>\n",
       "    </tr>\n",
       "    <tr>\n",
       "      <th>75%</th>\n",
       "      <td>750.250000</td>\n",
       "      <td>31.000000</td>\n",
       "    </tr>\n",
       "    <tr>\n",
       "      <th>max</th>\n",
       "      <td>1000.000000</td>\n",
       "      <td>92.000000</td>\n",
       "    </tr>\n",
       "  </tbody>\n",
       "</table>\n",
       "</div>"
      ],
      "text/plain": [
       "              Year        Entry\n",
       "count  1000.000000  1000.000000\n",
       "mean    500.500000    21.320000\n",
       "std     288.819436    15.839081\n",
       "min       1.000000     0.000000\n",
       "25%     250.750000     9.000000\n",
       "50%     500.500000    18.000000\n",
       "75%     750.250000    31.000000\n",
       "max    1000.000000    92.000000"
      ]
     },
     "execution_count": 23,
     "metadata": {},
     "output_type": "execute_result"
    }
   ],
   "source": [
    "data.describe()"
   ]
  },
  {
   "cell_type": "code",
   "execution_count": null,
   "metadata": {},
   "outputs": [],
   "source": []
  },
  {
   "cell_type": "markdown",
   "metadata": {},
   "source": [
    "![Localised impact craters field?](https://d1ix0byejyn2u7.cloudfront.net/drive/images/uploads/headers/ws_cropper/1_0x0_1410x520_0x520_potholes.jpg)\n",
    "Source: [RAC](https://www.rac.co.uk/drive/advice/road-safety/report-a-pothole/)"
   ]
  },
  {
   "cell_type": "markdown",
   "metadata": {},
   "source": [
    "___\n",
    "Andrzej Kocielski"
   ]
  }
 ],
 "metadata": {
  "kernelspec": {
   "display_name": "Python 3",
   "language": "python",
   "name": "python3"
  },
  "language_info": {
   "codemirror_mode": {
    "name": "ipython",
    "version": 3
   },
   "file_extension": ".py",
   "mimetype": "text/x-python",
   "name": "python",
   "nbconvert_exporter": "python",
   "pygments_lexer": "ipython3",
   "version": "3.7.5"
  }
 },
 "nbformat": 4,
 "nbformat_minor": 4
}
