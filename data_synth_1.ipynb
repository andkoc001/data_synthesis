{
 "cells": [
  {
   "cell_type": "markdown",
   "metadata": {},
   "source": [
    "# Meteor shower - data synthesis\n",
    "Data synthesis as the assignment project for Programming for Data Analysis, GMIT 2019\n",
    "\n",
    "Lecturer: dr Brian McGinley\n",
    "\n",
    ">Author: **Andrzej Kocielski**  \n",
    ">Github: [andkoc001](https://github.com/andkoc001/)  \n",
    ">Email: G00376291@gmit.ie, and.koc001@gmail.com\n",
    "\n",
    "Created: 18-11-2019\n",
    "\n",
    "This Notebook should be read in conjunction with the corresponding README.md file at the project [repository](https://github.com/andkoc001/data_synthesis.git) at GitHub."
   ]
  },
  {
   "cell_type": "markdown",
   "metadata": {},
   "source": [
    "___\n",
    "\n",
    "## Introduction\n",
    "\n",
    "to be added..."
   ]
  },
  {
   "cell_type": "markdown",
   "metadata": {},
   "source": [
    "## Problem description\n",
    "\n",
    "To generate (synthesise) a dataset to simulate meteorids shower on a planet."
   ]
  },
  {
   "cell_type": "markdown",
   "metadata": {},
   "source": [
    "## Data categories and types\n",
    "\n",
    "The following are envisaged data categories and types\n",
    "\n",
    "* `Year` - Year of observation, integer from 1 to n\n",
    "* `Entry`- No of atmosphere entry, integer following the Poisson distribution with lambda $lambda = 0.25$ (to be verified)\n",
    "* `Impact` - No of surface impacts, binomial distribution as a function of size and angle of entry $f(size, angle)$\n",
    "* Size of a meteor, exponential distribution (few large, many small)\n",
    "* Density of a meteor, normal distribution\n",
    "* Veleocity of a meteor hitting the surface, normal distribution ????\n",
    "* Angle of entry, random ditribution in range 0-90\n",
    "* Total crater area, calculated as a function of size, density, veleociy, angle and additional noise\n"
   ]
  },
  {
   "cell_type": "markdown",
   "metadata": {},
   "source": [
    "## General assumptions\n",
    "\n",
    "~~The scenario and data are both fictional, invented solely for the purpose of this project.~~ The data presented in the notebook is real and true. However, as it illustrates the situation in an undiscovered solar system in a galaxy far, far away, and is hard to prove it, please assume the data presented here is fictional.\n",
    "\n",
    "The entire being simulated in the Notebook scenario, including the generated data, are simplified models with numerous assumptions and various levels of abstraction.\n",
    "* ...\n",
    "* ..."
   ]
  },
  {
   "cell_type": "markdown",
   "metadata": {},
   "source": [
    "I have chosen not to define seeds for random methods. That means each time the Notebook and particular cells are run, results will (most likely) differ."
   ]
  },
  {
   "cell_type": "markdown",
   "metadata": {},
   "source": [
    "## Importing Python libraries"
   ]
  },
  {
   "cell_type": "code",
   "execution_count": 1,
   "metadata": {},
   "outputs": [],
   "source": [
    "import numpy as np\n",
    "import pandas as pd\n",
    "import matplotlib.pyplot as plt \n",
    "import seaborn as sns"
   ]
  },
  {
   "cell_type": "markdown",
   "metadata": {},
   "source": [
    "## Generating the data"
   ]
  },
  {
   "cell_type": "code",
   "execution_count": 2,
   "metadata": {},
   "outputs": [
    {
     "data": {
      "text/html": [
       "<div>\n",
       "<style scoped>\n",
       "    .dataframe tbody tr th:only-of-type {\n",
       "        vertical-align: middle;\n",
       "    }\n",
       "\n",
       "    .dataframe tbody tr th {\n",
       "        vertical-align: top;\n",
       "    }\n",
       "\n",
       "    .dataframe thead th {\n",
       "        text-align: right;\n",
       "    }\n",
       "</style>\n",
       "<table border=\"1\" class=\"dataframe\">\n",
       "  <thead>\n",
       "    <tr style=\"text-align: right;\">\n",
       "      <th></th>\n",
       "      <th>Year</th>\n",
       "      <th>Entry</th>\n",
       "      <th>Impact</th>\n",
       "      <th>Size</th>\n",
       "      <th>Velocity</th>\n",
       "      <th>Crater</th>\n",
       "    </tr>\n",
       "  </thead>\n",
       "  <tbody>\n",
       "  </tbody>\n",
       "</table>\n",
       "</div>"
      ],
      "text/plain": [
       "Empty DataFrame\n",
       "Columns: [Year, Entry, Impact, Size, Velocity, Crater]\n",
       "Index: []"
      ]
     },
     "execution_count": 2,
     "metadata": {},
     "output_type": "execute_result"
    }
   ],
   "source": [
    "# creation of empty data (just headings)\n",
    "data = pd.DataFrame(columns = [\"Year\", \"Entry\", \"Impact\", \"Size\", \"Velocity\", \"Crater\"]) \n",
    "data"
   ]
  },
  {
   "cell_type": "markdown",
   "metadata": {},
   "source": [
    "### Observation period and intervals\n",
    "\n",
    "Observations are recorded in one year intervals over a period of 100 local years (for the planet in question). This will be assigned to variable `year`."
   ]
  },
  {
   "cell_type": "code",
   "execution_count": 4,
   "metadata": {},
   "outputs": [
    {
     "data": {
      "text/plain": [
       "array([ 1,  2,  3,  4,  5,  6,  7,  8,  9, 10])"
      ]
     },
     "execution_count": 4,
     "metadata": {},
     "output_type": "execute_result"
    }
   ],
   "source": [
    "year = np.arange(1, 11) # temporarily only (for testing) - 100 years of observation \n",
    "year"
   ]
  },
  {
   "cell_type": "code",
   "execution_count": null,
   "metadata": {},
   "outputs": [],
   "source": [
    "# assigning year values to the data array, other columns with empty values (NaN - not a number)\n",
    "data[\"Year\"] = year\n",
    "data.head()"
   ]
  },
  {
   "cell_type": "markdown",
   "metadata": {},
   "source": [
    "### Atmosphere entry\n",
    "\n",
    "Number of significant (that means those being recorded) meteors' entries to the atmosphere of the planet, represented by variable `atm_entry`, in my model is considered unpredictable event and of a chaotic nature (significant random noise). It is assumed that in a given year there may be _none_ to _a very large number_ of entries, with a certain mean number. This will be represented by a **Poisson distribution**. The reason for choosing this distribution is to capture the fact of lesser probability of a larger number of meteors entering the planet's atmosphere.\n",
    "\n",
    "The lambda value assigned randomly again, to strengthen the effect of the chaotic nature of the phenomenon. (More about randomness of the lambda values - why and how)."
   ]
  },
  {
   "cell_type": "code",
   "execution_count": 5,
   "metadata": {},
   "outputs": [
    {
     "name": "stdout",
     "output_type": "stream",
     "text": [
      "2.0545915194545543\n",
      "-1284\n"
     ]
    }
   ],
   "source": [
    "# defines lambda value for the poisson distribution\n",
    "atm_entry_lambda = np.random.random() + np.random.randint(2, 4) # expected mean value - it gives a general shape of the distribution\n",
    "print(atm_entry_lambda)\n",
    "\n",
    "# defines noise used to modify the results\n",
    "atm_entry_noise = np.random.randint(-1500, -500) # extra random noise - expands the range of possible results and adds randomness and increases the standard deviation\n",
    "print(atm_entry_noise)"
   ]
  },
  {
   "cell_type": "code",
   "execution_count": 6,
   "metadata": {},
   "outputs": [
    {
     "name": "stdout",
     "output_type": "stream",
     "text": [
      "atm_entry_lambda:\t 2.0545915194545543\n",
      "atm_entry_noise:\t -1284\n",
      "min:\t 7\n",
      "mean:\t 35.3\n",
      "max:\t 77\n",
      "std div: 23.1\n"
     ]
    },
    {
     "data": {
      "image/png": "[encoded data removed]",
      "text/plain": [
       "<Figure size 1296x144 with 2 Axes>"
      ]
     },
     "metadata": {
      "needs_background": "light"
     },
     "output_type": "display_data"
    },
    {
     "name": "stdout",
     "output_type": "stream",
     "text": [
      "list in sequence of years:\t [10 62 77 19 62 22 25 25  7 44]\n",
      "Frequency of unique values of the said array:\n",
      "[[ 7 10 19 22 25 44 62 77]\n",
      " [ 1  1  1  1  2  1  2  1]]\n"
     ]
    }
   ],
   "source": [
    "\n",
    "# the algorithm with nested random variables - poisson distribution\n",
    "# the intention is to have low mean and high std dev. values - verry erratic and chaotic phenomenon\n",
    "# consulted reference: https://stackoverflow.com/a/35730154\n",
    "atm_entry = abs(np.random.poisson(abs(atm_entry_lambda + (atm_entry_noise)), len(year)) + atm_entry_noise) # higher probability of occuring fewer meteors entry in a year; only non-negative values\n",
    "\n",
    "# description of the generated data\n",
    "print(\"atm_entry_lambda:\\t\", atm_entry_lambda)\n",
    "print(\"atm_entry_noise:\\t\", atm_entry_noise)\n",
    "print(\"min:\\t\", atm_entry.min())\n",
    "print(\"mean:\\t\", atm_entry.mean())\n",
    "print(\"max:\\t\", atm_entry.max())\n",
    "print(\"std div:\", atm_entry.std())\n",
    "\n",
    "### plotting - \n",
    "fig, ax = plt.subplots(ncols=2, figsize=(18, 2))\n",
    "plt.suptitle(\"Figure 1. Atmosphere entry per year.\", y=1.0, fontsize=14)\n",
    "plt.subplots_adjust(left=None, bottom=None, right=None, top=None, wspace=.2, hspace=None)\n",
    "\n",
    "# left hand plot - number of entries in each year of observation\n",
    "sns.lineplot(x=year, y=atm_entry, ax=ax[0]) \n",
    "\n",
    "# right hand plot - how many the same number of entries occured\n",
    "sns.countplot(x=atm_entry, ax=ax[1])   \n",
    "\n",
    "plt.show()\n",
    "print(\"list in sequence of years:\\t\", atm_entry)\n",
    "#print(\"count:\\t\", np.unique(set(atm_entry)))\n",
    "\n",
    "# https://www.w3resource.com/python-exercises/numpy/python-numpy-exercise-94.php\n",
    "unique_elements, counts_elements = np.unique(atm_entry, return_counts=True)\n",
    "print(\"Frequency of unique values of the said array:\")\n",
    "print(np.asarray((unique_elements, counts_elements)))\n"
   ]
  },
  {
   "cell_type": "code",
   "execution_count": null,
   "metadata": {},
   "outputs": [],
   "source": [
    "### test - to be deleted\n",
    "# test for a larger number of the years - for better illustration of the distribution pattern\n",
    "test_years_number = 10000\n",
    "\n",
    "# test of the distribution generation algorithm for the above parameters - this sample is used only for illustration of the algorithm\n",
    "atm_test = abs(np.random.poisson(abs(atm_entry_lambda + abs(atm_entry_noise)), test_years_number) + atm_entry_noise) # only positive or 'zero' values\n",
    "\n",
    "# description of the generated data\n",
    "print(\"atm_entry_lambda\", atm_entry_lambda)\n",
    "print(\"atm_entry_noise\", atm_entry_noise)\n",
    "print(\"min:\", atm_test.min())\n",
    "print(\"mean:\", atm_test.mean())\n",
    "print(\"max:\", atm_test.max())\n",
    "print(\"std div:\", atm_test.std())\n",
    "\n",
    "\n",
    "x = np.arange(0, test_years_number)\n",
    "y = atm_test\n",
    "\n",
    "### plotting - \n",
    "fig, ax = plt.subplots(ncols=2, figsize=(18, 1))\n",
    "plt.suptitle(\"Figure 1. Atmosphere entry per year.\", y=1.14, fontsize=14)\n",
    "plt.subplots_adjust(left=None, bottom=None, right=None, top=None, wspace=.2, hspace=None)\n",
    "\n",
    "sns.lineplot(x=x, y=y, ax=ax[0]) # number of entries in each year of observation\n",
    "sns.countplot(x=atm_test, ax=ax[1]) # how many the same number of entries occured \n",
    "\n",
    "plt.show()\n",
    "\n",
    "#print(sorted(atm_test))"
   ]
  },
  {
   "cell_type": "markdown",
   "metadata": {},
   "source": [
    "##### Adding `Entry` values to the dataset."
   ]
  },
  {
   "cell_type": "code",
   "execution_count": 7,
   "metadata": {},
   "outputs": [
    {
     "data": {
      "text/html": [
       "<div>\n",
       "<style scoped>\n",
       "    .dataframe tbody tr th:only-of-type {\n",
       "        vertical-align: middle;\n",
       "    }\n",
       "\n",
       "    .dataframe tbody tr th {\n",
       "        vertical-align: top;\n",
       "    }\n",
       "\n",
       "    .dataframe thead th {\n",
       "        text-align: right;\n",
       "    }\n",
       "</style>\n",
       "<table border=\"1\" class=\"dataframe\">\n",
       "  <thead>\n",
       "    <tr style=\"text-align: right;\">\n",
       "      <th></th>\n",
       "      <th>Year</th>\n",
       "      <th>Entry</th>\n",
       "      <th>Impact</th>\n",
       "      <th>Size</th>\n",
       "      <th>Velocity</th>\n",
       "      <th>Crater</th>\n",
       "    </tr>\n",
       "  </thead>\n",
       "  <tbody>\n",
       "    <tr>\n",
       "      <th>0</th>\n",
       "      <td>NaN</td>\n",
       "      <td>14</td>\n",
       "      <td>NaN</td>\n",
       "      <td>NaN</td>\n",
       "      <td>NaN</td>\n",
       "      <td>NaN</td>\n",
       "    </tr>\n",
       "    <tr>\n",
       "      <th>1</th>\n",
       "      <td>NaN</td>\n",
       "      <td>74</td>\n",
       "      <td>NaN</td>\n",
       "      <td>NaN</td>\n",
       "      <td>NaN</td>\n",
       "      <td>NaN</td>\n",
       "    </tr>\n",
       "    <tr>\n",
       "      <th>2</th>\n",
       "      <td>NaN</td>\n",
       "      <td>0</td>\n",
       "      <td>NaN</td>\n",
       "      <td>NaN</td>\n",
       "      <td>NaN</td>\n",
       "      <td>NaN</td>\n",
       "    </tr>\n",
       "    <tr>\n",
       "      <th>3</th>\n",
       "      <td>NaN</td>\n",
       "      <td>30</td>\n",
       "      <td>NaN</td>\n",
       "      <td>NaN</td>\n",
       "      <td>NaN</td>\n",
       "      <td>NaN</td>\n",
       "    </tr>\n",
       "    <tr>\n",
       "      <th>4</th>\n",
       "      <td>NaN</td>\n",
       "      <td>58</td>\n",
       "      <td>NaN</td>\n",
       "      <td>NaN</td>\n",
       "      <td>NaN</td>\n",
       "      <td>NaN</td>\n",
       "    </tr>\n",
       "    <tr>\n",
       "      <th>5</th>\n",
       "      <td>NaN</td>\n",
       "      <td>19</td>\n",
       "      <td>NaN</td>\n",
       "      <td>NaN</td>\n",
       "      <td>NaN</td>\n",
       "      <td>NaN</td>\n",
       "    </tr>\n",
       "    <tr>\n",
       "      <th>6</th>\n",
       "      <td>NaN</td>\n",
       "      <td>8</td>\n",
       "      <td>NaN</td>\n",
       "      <td>NaN</td>\n",
       "      <td>NaN</td>\n",
       "      <td>NaN</td>\n",
       "    </tr>\n",
       "    <tr>\n",
       "      <th>7</th>\n",
       "      <td>NaN</td>\n",
       "      <td>34</td>\n",
       "      <td>NaN</td>\n",
       "      <td>NaN</td>\n",
       "      <td>NaN</td>\n",
       "      <td>NaN</td>\n",
       "    </tr>\n",
       "    <tr>\n",
       "      <th>8</th>\n",
       "      <td>NaN</td>\n",
       "      <td>14</td>\n",
       "      <td>NaN</td>\n",
       "      <td>NaN</td>\n",
       "      <td>NaN</td>\n",
       "      <td>NaN</td>\n",
       "    </tr>\n",
       "    <tr>\n",
       "      <th>9</th>\n",
       "      <td>NaN</td>\n",
       "      <td>20</td>\n",
       "      <td>NaN</td>\n",
       "      <td>NaN</td>\n",
       "      <td>NaN</td>\n",
       "      <td>NaN</td>\n",
       "    </tr>\n",
       "  </tbody>\n",
       "</table>\n",
       "</div>"
      ],
      "text/plain": [
       "  Year  Entry Impact Size Velocity Crater\n",
       "0  NaN     14    NaN  NaN      NaN    NaN\n",
       "1  NaN     74    NaN  NaN      NaN    NaN\n",
       "2  NaN      0    NaN  NaN      NaN    NaN\n",
       "3  NaN     30    NaN  NaN      NaN    NaN\n",
       "4  NaN     58    NaN  NaN      NaN    NaN\n",
       "5  NaN     19    NaN  NaN      NaN    NaN\n",
       "6  NaN      8    NaN  NaN      NaN    NaN\n",
       "7  NaN     34    NaN  NaN      NaN    NaN\n",
       "8  NaN     14    NaN  NaN      NaN    NaN\n",
       "9  NaN     20    NaN  NaN      NaN    NaN"
      ]
     },
     "execution_count": 7,
     "metadata": {},
     "output_type": "execute_result"
    }
   ],
   "source": [
    "data[\"Entry\"] = abs(np.random.poisson(abs(atm_entry_lambda + abs(atm_entry_noise)), len(year)) + atm_entry_noise)\n",
    "data"
   ]
  },
  {
   "cell_type": "markdown",
   "metadata": {},
   "source": [
    "### Surface impact\n",
    "\n",
    "Number of meteors impacts into the planet surface, that is the meteors that entered the atmosphere of the planet and penetrated it without being completely burned out in the transit. \n",
    "The variable is represented in my model by variable `Impact` which is a result of **binomial distribution** with arbitrarily given probability of success. This is simplification, as a lot of factors are neglected here that would have an effect in real situation (e.g. size, density, composition, velocity, angle of entry, atmosphere properties and so on).\n",
    "\n",
    "This part is based on Ian Mcloughlin's [Notebook](https://github.com/ianmcloughlin/jupyter-teaching-notebooks/blob/master/coin-flip.ipynb)"
   ]
  },
  {
   "cell_type": "code",
   "execution_count": 8,
   "metadata": {},
   "outputs": [],
   "source": [
    "# assign probability of meteoroids passing through the atmosfere and hitting the surface\n",
    "passing_prob = 0.2 "
   ]
  },
  {
   "cell_type": "code",
   "execution_count": 121,
   "metadata": {},
   "outputs": [
    {
     "name": "stdout",
     "output_type": "stream",
     "text": [
      "\n",
      "\n",
      "Year:  1 ;\tNumber of meteo:  14\n",
      "Meteo # 1 :  [0]\n",
      "Meteo # 2 :  [1]\n",
      "Meteo # 3 :  [0]\n",
      "Meteo # 4 :  [0]\n",
      "Meteo # 5 :  [0]\n",
      "Meteo # 6 :  [0]\n",
      "Meteo # 7 :  [0]\n",
      "Meteo # 8 :  [1]\n",
      "Meteo # 9 :  [1]\n",
      "Meteo # 10 :  [1]\n",
      "Meteo # 11 :  [0]\n",
      "Meteo # 12 :  [0]\n",
      "Meteo # 13 :  [1]\n",
      "Meteo # 14 :  [0]\n",
      "Number of meteo successfully passing the atm:  [5]\n",
      "\n",
      "\n",
      "Year:  2 ;\tNumber of meteo:  74\n",
      "Meteo # 1 :  [0]\n",
      "Meteo # 2 :  [0]\n",
      "Meteo # 3 :  [1]\n",
      "Meteo # 4 :  [0]\n",
      "Meteo # 5 :  [1]\n",
      "Meteo # 6 :  [1]\n",
      "Meteo # 7 :  [0]\n",
      "Meteo # 8 :  [0]\n",
      "Meteo # 9 :  [0]\n",
      "Meteo # 10 :  [0]\n",
      "Meteo # 11 :  [0]\n",
      "Meteo # 12 :  [1]\n",
      "Meteo # 13 :  [0]\n",
      "Meteo # 14 :  [0]\n",
      "Meteo # 15 :  [0]\n",
      "Meteo # 16 :  [0]\n",
      "Meteo # 17 :  [1]\n",
      "Meteo # 18 :  [1]\n",
      "Meteo # 19 :  [0]\n",
      "Meteo # 20 :  [0]\n",
      "Meteo # 21 :  [1]\n",
      "Meteo # 22 :  [1]\n",
      "Meteo # 23 :  [0]\n",
      "Meteo # 24 :  [0]\n",
      "Meteo # 25 :  [0]\n",
      "Meteo # 26 :  [0]\n",
      "Meteo # 27 :  [0]\n",
      "Meteo # 28 :  [0]\n",
      "Meteo # 29 :  [0]\n",
      "Meteo # 30 :  [0]\n",
      "Meteo # 31 :  [0]\n",
      "Meteo # 32 :  [1]\n",
      "Meteo # 33 :  [0]\n",
      "Meteo # 34 :  [1]\n",
      "Meteo # 35 :  [0]\n",
      "Meteo # 36 :  [0]\n",
      "Meteo # 37 :  [1]\n",
      "Meteo # 38 :  [0]\n",
      "Meteo # 39 :  [0]\n",
      "Meteo # 40 :  [0]\n",
      "Meteo # 41 :  [0]\n",
      "Meteo # 42 :  [0]\n",
      "Meteo # 43 :  [0]\n",
      "Meteo # 44 :  [0]\n",
      "Meteo # 45 :  [1]\n",
      "Meteo # 46 :  [0]\n",
      "Meteo # 47 :  [1]\n",
      "Meteo # 48 :  [0]\n",
      "Meteo # 49 :  [0]\n",
      "Meteo # 50 :  [1]\n",
      "Meteo # 51 :  [0]\n",
      "Meteo # 52 :  [1]\n",
      "Meteo # 53 :  [0]\n",
      "Meteo # 54 :  [1]\n",
      "Meteo # 55 :  [1]\n",
      "Meteo # 56 :  [0]\n",
      "Meteo # 57 :  [0]\n",
      "Meteo # 58 :  [0]\n",
      "Meteo # 59 :  [0]\n",
      "Meteo # 60 :  [1]\n",
      "Meteo # 61 :  [0]\n",
      "Meteo # 62 :  [1]\n",
      "Meteo # 63 :  [1]\n",
      "Meteo # 64 :  [1]\n",
      "Meteo # 65 :  [1]\n",
      "Meteo # 66 :  [0]\n",
      "Meteo # 67 :  [0]\n",
      "Meteo # 68 :  [0]\n",
      "Meteo # 69 :  [1]\n",
      "Meteo # 70 :  [0]\n",
      "Meteo # 71 :  [0]\n",
      "Meteo # 72 :  [1]\n",
      "Meteo # 73 :  [0]\n",
      "Meteo # 74 :  [0]\n",
      "Number of meteo successfully passing the atm:  [24]\n",
      "\n",
      "\n",
      "Year:  3 ;\tNumber of meteo:  0\n",
      "Number of meteo successfully passing the atm:  0\n",
      "\n",
      "\n",
      "Year:  4 ;\tNumber of meteo:  30\n",
      "Meteo # 1 :  [0]\n",
      "Meteo # 2 :  [0]\n",
      "Meteo # 3 :  [0]\n",
      "Meteo # 4 :  [1]\n",
      "Meteo # 5 :  [1]\n",
      "Meteo # 6 :  [0]\n",
      "Meteo # 7 :  [1]\n",
      "Meteo # 8 :  [0]\n",
      "Meteo # 9 :  [0]\n",
      "Meteo # 10 :  [0]\n",
      "Meteo # 11 :  [0]\n",
      "Meteo # 12 :  [1]\n",
      "Meteo # 13 :  [0]\n",
      "Meteo # 14 :  [0]\n",
      "Meteo # 15 :  [1]\n",
      "Meteo # 16 :  [1]\n",
      "Meteo # 17 :  [1]\n",
      "Meteo # 18 :  [1]\n",
      "Meteo # 19 :  [0]\n",
      "Meteo # 20 :  [0]\n",
      "Meteo # 21 :  [0]\n",
      "Meteo # 22 :  [0]\n",
      "Meteo # 23 :  [0]\n",
      "Meteo # 24 :  [0]\n",
      "Meteo # 25 :  [0]\n",
      "Meteo # 26 :  [0]\n",
      "Meteo # 27 :  [0]\n",
      "Meteo # 28 :  [1]\n",
      "Meteo # 29 :  [1]\n",
      "Meteo # 30 :  [0]\n",
      "Number of meteo successfully passing the atm:  [10]\n",
      "\n",
      "\n",
      "Year:  5 ;\tNumber of meteo:  58\n",
      "Meteo # 1 :  [0]\n",
      "Meteo # 2 :  [0]\n",
      "Meteo # 3 :  [0]\n",
      "Meteo # 4 :  [0]\n",
      "Meteo # 5 :  [0]\n",
      "Meteo # 6 :  [0]\n",
      "Meteo # 7 :  [0]\n",
      "Meteo # 8 :  [0]\n",
      "Meteo # 9 :  [0]\n",
      "Meteo # 10 :  [0]\n",
      "Meteo # 11 :  [0]\n",
      "Meteo # 12 :  [1]\n",
      "Meteo # 13 :  [0]\n",
      "Meteo # 14 :  [0]\n",
      "Meteo # 15 :  [0]\n",
      "Meteo # 16 :  [0]\n",
      "Meteo # 17 :  [0]\n",
      "Meteo # 18 :  [0]\n",
      "Meteo # 19 :  [0]\n",
      "Meteo # 20 :  [0]\n",
      "Meteo # 21 :  [0]\n",
      "Meteo # 22 :  [0]\n",
      "Meteo # 23 :  [1]\n",
      "Meteo # 24 :  [0]\n",
      "Meteo # 25 :  [0]\n",
      "Meteo # 26 :  [0]\n",
      "Meteo # 27 :  [1]\n",
      "Meteo # 28 :  [0]\n",
      "Meteo # 29 :  [1]\n",
      "Meteo # 30 :  [0]\n",
      "Meteo # 31 :  [0]\n",
      "Meteo # 32 :  [1]\n",
      "Meteo # 33 :  [0]\n",
      "Meteo # 34 :  [0]\n",
      "Meteo # 35 :  [0]\n",
      "Meteo # 36 :  [0]\n",
      "Meteo # 37 :  [0]\n",
      "Meteo # 38 :  [1]\n",
      "Meteo # 39 :  [0]\n",
      "Meteo # 40 :  [0]\n",
      "Meteo # 41 :  [1]\n",
      "Meteo # 42 :  [0]\n",
      "Meteo # 43 :  [1]\n",
      "Meteo # 44 :  [0]\n",
      "Meteo # 45 :  [0]\n",
      "Meteo # 46 :  [1]\n",
      "Meteo # 47 :  [1]\n",
      "Meteo # 48 :  [0]\n",
      "Meteo # 49 :  [0]\n",
      "Meteo # 50 :  [0]\n",
      "Meteo # 51 :  [0]\n",
      "Meteo # 52 :  [0]\n",
      "Meteo # 53 :  [0]\n",
      "Meteo # 54 :  [0]\n",
      "Meteo # 55 :  [1]\n",
      "Meteo # 56 :  [0]\n",
      "Meteo # 57 :  [0]\n",
      "Meteo # 58 :  [1]\n",
      "Number of meteo successfully passing the atm:  [12]\n",
      "\n",
      "\n",
      "Year:  6 ;\tNumber of meteo:  19\n",
      "Meteo # 1 :  [1]\n",
      "Meteo # 2 :  [0]\n",
      "Meteo # 3 :  [0]\n",
      "Meteo # 4 :  [0]\n",
      "Meteo # 5 :  [0]\n",
      "Meteo # 6 :  [1]\n",
      "Meteo # 7 :  [1]\n",
      "Meteo # 8 :  [0]\n",
      "Meteo # 9 :  [1]\n",
      "Meteo # 10 :  [0]\n",
      "Meteo # 11 :  [1]\n",
      "Meteo # 12 :  [0]\n",
      "Meteo # 13 :  [0]\n",
      "Meteo # 14 :  [0]\n",
      "Meteo # 15 :  [1]\n",
      "Meteo # 16 :  [1]\n",
      "Meteo # 17 :  [0]\n",
      "Meteo # 18 :  [0]\n",
      "Meteo # 19 :  [0]\n",
      "Number of meteo successfully passing the atm:  [7]\n",
      "\n",
      "\n",
      "Year:  7 ;\tNumber of meteo:  8\n",
      "Meteo # 1 :  [0]\n",
      "Meteo # 2 :  [0]\n",
      "Meteo # 3 :  [0]\n",
      "Meteo # 4 :  [0]\n",
      "Meteo # 5 :  [0]\n",
      "Meteo # 6 :  [0]\n",
      "Meteo # 7 :  [0]\n",
      "Meteo # 8 :  [1]\n",
      "Number of meteo successfully passing the atm:  [1]\n",
      "\n",
      "\n",
      "Year:  8 ;\tNumber of meteo:  34\n",
      "Meteo # 1 :  [0]\n",
      "Meteo # 2 :  [0]\n",
      "Meteo # 3 :  [1]\n",
      "Meteo # 4 :  [0]\n",
      "Meteo # 5 :  [0]\n",
      "Meteo # 6 :  [0]\n",
      "Meteo # 7 :  [0]\n",
      "Meteo # 8 :  [0]\n",
      "Meteo # 9 :  [0]\n",
      "Meteo # 10 :  [0]\n",
      "Meteo # 11 :  [0]\n",
      "Meteo # 12 :  [0]\n",
      "Meteo # 13 :  [0]\n",
      "Meteo # 14 :  [0]\n",
      "Meteo # 15 :  [0]\n",
      "Meteo # 16 :  [1]\n",
      "Meteo # 17 :  [0]\n",
      "Meteo # 18 :  [0]\n",
      "Meteo # 19 :  [0]\n",
      "Meteo # 20 :  [0]\n",
      "Meteo # 21 :  [0]\n",
      "Meteo # 22 :  [0]\n",
      "Meteo # 23 :  [0]\n",
      "Meteo # 24 :  [0]\n",
      "Meteo # 25 :  [0]\n",
      "Meteo # 26 :  [0]\n",
      "Meteo # 27 :  [0]\n",
      "Meteo # 28 :  [0]\n",
      "Meteo # 29 :  [0]\n",
      "Meteo # 30 :  [0]\n",
      "Meteo # 31 :  [0]\n",
      "Meteo # 32 :  [0]\n",
      "Meteo # 33 :  [0]\n",
      "Meteo # 34 :  [1]\n",
      "Number of meteo successfully passing the atm:  [3]\n",
      "\n",
      "\n",
      "Year:  9 ;\tNumber of meteo:  14\n",
      "Meteo # 1 :  [1]\n",
      "Meteo # 2 :  [0]\n",
      "Meteo # 3 :  [1]\n",
      "Meteo # 4 :  [0]\n",
      "Meteo # 5 :  [0]\n",
      "Meteo # 6 :  [0]\n",
      "Meteo # 7 :  [1]\n",
      "Meteo # 8 :  [0]\n",
      "Meteo # 9 :  [0]\n",
      "Meteo # 10 :  [0]\n",
      "Meteo # 11 :  [0]\n",
      "Meteo # 12 :  [1]\n",
      "Meteo # 13 :  [0]\n",
      "Meteo # 14 :  [0]\n",
      "Number of meteo successfully passing the atm:  [4]\n",
      "\n",
      "\n",
      "Year:  10 ;\tNumber of meteo:  20\n",
      "Meteo # 1 :  [0]\n",
      "Meteo # 2 :  [1]\n",
      "Meteo # 3 :  [0]\n",
      "Meteo # 4 :  [1]\n",
      "Meteo # 5 :  [0]\n",
      "Meteo # 6 :  [1]\n",
      "Meteo # 7 :  [0]\n",
      "Meteo # 8 :  [0]\n",
      "Meteo # 9 :  [1]\n",
      "Meteo # 10 :  [0]\n",
      "Meteo # 11 :  [1]\n",
      "Meteo # 12 :  [0]\n",
      "Meteo # 13 :  [0]\n",
      "Meteo # 14 :  [0]\n",
      "Meteo # 15 :  [0]\n",
      "Meteo # 16 :  [0]\n",
      "Meteo # 17 :  [0]\n",
      "Meteo # 18 :  [1]\n",
      "Meteo # 19 :  [0]\n",
      "Meteo # 20 :  [0]\n",
      "Number of meteo successfully passing the atm:  [6]\n"
     ]
    }
   ],
   "source": [
    "# filtering the meteoroids - testing how many in each year have passed through \n",
    "\n",
    "# for each year\n",
    "for index, row in data.iterrows(): # adapted from https://stackoverflow.com/a/16476974\n",
    "    print(\"\\n\")\n",
    "    print(\"Year: \", index+1, \";\\tNumber of meteo: \", row[\"Entry\"])\n",
    "\n",
    "    sum = 0 # counting up the instances of successfully passing in a given year\n",
    "    \n",
    "    for i in range(data.iat[index, 1]): # data.iat[-1, 1] returns value of a cell\n",
    "       \n",
    "        # testing for a single instance (Number of tests, probability of a penetration, number of times to do this);\n",
    "        passed = np.random.binomial(1, passing_prob, 1) # adapted from https://github.com/ianmcloughlin/jupyter-teaching-notebooks/blob/master/coin-flip.ipynb\n",
    "        print(\"Meteo #\", i+1, \": \", passed)\n",
    "        sum = sum + passed\n",
    "    \n",
    "    print(\"Number of meteo successfully passing the atm: \",sum)\n",
    "        "
   ]
  },
  {
   "cell_type": "code",
   "execution_count": 67,
   "metadata": {},
   "outputs": [
    {
     "data": {
      "text/plain": [
       "array([0])"
      ]
     },
     "execution_count": 67,
     "metadata": {},
     "output_type": "execute_result"
    }
   ],
   "source": [
    "np.random.binomial(0, passing_prob, 1)"
   ]
  },
  {
   "cell_type": "code",
   "execution_count": 93,
   "metadata": {},
   "outputs": [
    {
     "data": {
      "text/html": [
       "<div>\n",
       "<style scoped>\n",
       "    .dataframe tbody tr th:only-of-type {\n",
       "        vertical-align: middle;\n",
       "    }\n",
       "\n",
       "    .dataframe tbody tr th {\n",
       "        vertical-align: top;\n",
       "    }\n",
       "\n",
       "    .dataframe thead th {\n",
       "        text-align: right;\n",
       "    }\n",
       "</style>\n",
       "<table border=\"1\" class=\"dataframe\">\n",
       "  <thead>\n",
       "    <tr style=\"text-align: right;\">\n",
       "      <th></th>\n",
       "      <th>Entry</th>\n",
       "    </tr>\n",
       "  </thead>\n",
       "  <tbody>\n",
       "    <tr>\n",
       "      <th>9</th>\n",
       "      <td>20</td>\n",
       "    </tr>\n",
       "  </tbody>\n",
       "</table>\n",
       "</div>"
      ],
      "text/plain": [
       "   Entry\n",
       "9     20"
      ]
     },
     "execution_count": 93,
     "metadata": {},
     "output_type": "execute_result"
    }
   ],
   "source": [
    "data.iloc[[-1], [1]]"
   ]
  },
  {
   "cell_type": "code",
   "execution_count": 95,
   "metadata": {},
   "outputs": [
    {
     "data": {
      "text/plain": [
       "20"
      ]
     },
     "execution_count": 95,
     "metadata": {},
     "output_type": "execute_result"
    }
   ],
   "source": [
    "data.iat[-1, 1]"
   ]
  },
  {
   "cell_type": "code",
   "execution_count": 101,
   "metadata": {},
   "outputs": [
    {
     "name": "stdout",
     "output_type": "stream",
     "text": [
      "1\n",
      "2\n",
      "3\n",
      "4\n",
      "5\n",
      "6\n",
      "7\n",
      "8\n"
     ]
    }
   ],
   "source": [
    "for i in range(data.iat[6, 1]): # data.iat[-1, 1] returns value of a cell\n",
    "        print(i+1)"
   ]
  },
  {
   "cell_type": "markdown",
   "metadata": {},
   "source": [
    "### ~~Average size of the meteors~~ - this section will go\n",
    "\n",
    "~~The average size of meteors entering into the atmosphere in given year. It is assumed in the model arbitrarily, according to pareto principle, that is where there is many small meteors and few large. The variable is generated with the help of `np.random.pareto()` function.~~"
   ]
  },
  {
   "cell_type": "code",
   "execution_count": null,
   "metadata": {},
   "outputs": [],
   "source": [
    "# should it stay or shoud it go? - disabled for now\n",
    "\n",
    "# defines lambda value for the poisson distribution\n",
    "#size_lambda = np.random.random() #+ np.random.randint(100, 20000) # expected mean value - it gives a general shape of the distribution\n",
    "# defines noise used to modify the results\n",
    "#size_noise = np.random.random() * 100 # extra random noise - expands the range of possible results and adds randomness\n",
    "\n",
    "#data[\"Size\"] = np.around(np.random.pareto(size_lambda, len(year)) * size_noise / len(year), decimals=0)\n",
    "#data"
   ]
  },
  {
   "cell_type": "markdown",
   "metadata": {},
   "source": [
    "### Parameters of each meteor"
   ]
  },
  {
   "cell_type": "markdown",
   "metadata": {},
   "source": [
    "#### Size of the meteors (and velocity?, and angle????? - to be yet decided)\n",
    "\n",
    "The size of **every** meteors hitting the planet surface in given year is generated in the model. The size is stored in a separate subset of data for each year (3rd dimension of the original dataset?). Next, a mean of the sizes is passed to the original dataset.\n",
    "\n",
    "The size of the meteor is distributed according to pareto principle, that is many small meteors and few large. The variable is generated with the help of `np.random.pareto()` function."
   ]
  },
  {
   "cell_type": "code",
   "execution_count": null,
   "metadata": {},
   "outputs": [],
   "source": [
    "# adapted from https://docs.scipy.org/doc/numpy-1.15.0/reference/generated/numpy.random.pareto.html\n",
    "\n",
    "# parameters for pareto dirstribution: pareto_a - shape of the distribution, pareto_m - mode of the distribution\n",
    "pareto_a, pareto_m = 1.0, 1000.0  # shape and mode - picked arbitrarily to resemble reality as much as the author could think\n",
    "# shape of the pareto distribution determines the how much the number of small meteors would dominate over the large ones; greater the shape value, the more small samples\n",
    "# mode in the pareto distribution tells the magnitude (or scale) of the outcome (the size of the metors); the larger the mode, the larger the scale of the meteors\n",
    "\n",
    "\n",
    "\n",
    "# splicing - getting the number of meteors entering the atmosphere in a given year\n",
    "for i in data[\"Year\"]:\n",
    "    number_meteors = data.loc[i-1][\"Entry\"] # getting the number of the meteors entereing the atmosphere in the subsequnt year\n",
    "    print(\"In year\", i, \"the number of meteors entering the atmosphere was:\", number_meteors, \"\\nTheir mass was as follows:\")\n",
    "   \n",
    "\n",
    "    # assgining the size for each meteor \n",
    "    s = ((np.random.pareto(pareto_a, number_meteors) + 1) * pareto_m) + np.random.randint(-1000, 1000)\n",
    "    print(s, \"\\n\")\n",
    "    \n",
    "       \n",
    "    # visualisation of the results - plotting histogram for each year - disabled for sake of keeping the notebook tidy and compact\n",
    "    #if number_meteors > 0:\n",
    "    #    sns.distplot(s, kde=False)\n",
    "    #    plt.show()\n",
    "    \n",
    "    # treshold mass to get through the atmosphere (smaller are considered to burn out completely during the transit)\n",
    "    #treshold = 2000\n",
    "    #if s > treshold:\n",
    "    #    # create a sub dataset with number of meteors that would reach the planet surface\n",
    "    #    data_impact[]\n",
    "    "
   ]
  },
  {
   "cell_type": "markdown",
   "metadata": {},
   "source": [
    "### testing assigning values to dataframe"
   ]
  },
  {
   "cell_type": "markdown",
   "metadata": {},
   "source": [
    "#### Attempt 1 to create data subset for each year of observation"
   ]
  },
  {
   "cell_type": "code",
   "execution_count": null,
   "metadata": {},
   "outputs": [],
   "source": [
    "# from https://www.geeksforgeeks.org/different-ways-to-create-pandas-dataframe/\n",
    "\n",
    "# example for year 2\n",
    "\n",
    "# List1  \n",
    "mass_year_2 = [125, 30, 26, 22, 11]  # invented for testing\n",
    "    \n",
    "# List2  \n",
    "veleo_year_2 = [425, 630, 126, 1132, 890] # invented for testing\n",
    "    \n",
    "# get the list of tuples from two listt and merge them by using zip().  \n",
    "list_of_tuples = list(zip(mass_year_2, veleo_year_2))  \n",
    "    \n",
    "# Converting lists of tuples into Pandas Dataframe.  \n",
    "data_meteo = pd.DataFrame(list_of_tuples, columns = ['Size', 'Veleocity'])  \n",
    "     \n",
    "# Print data.  \n",
    "data_meteo # this is a subset of data for year 2, attempt 1"
   ]
  },
  {
   "cell_type": "markdown",
   "metadata": {},
   "source": [
    "#### Integrating the data subset to the primary dataset"
   ]
  },
  {
   "cell_type": "code",
   "execution_count": null,
   "metadata": {},
   "outputs": [],
   "source": [
    "# incorporating the subset to the main dataset (copy in this case)\n",
    "\n",
    "mass_year_2\n",
    "data_copy.at[1, \"Size\"] = mass_year_2\n",
    "\n",
    "data_copy.at[1, \"Veleocity\"] = veleo_year_2 # list\n",
    "\n",
    "# data_copy.at[0, \"Meteor\"] = (mass_year_2, veleo_year_2) # array of lists\n",
    "# data_copy.at[0, \"Meteor\"] = data_test # it doesnt work as intended\n",
    "data_copy"
   ]
  }
 ],
 "metadata": {
  "kernelspec": {
   "display_name": "Python 3",
   "language": "python",
   "name": "python3"
  },
  "language_info": {
   "codemirror_mode": {
    "name": "ipython",
    "version": 3
   },
   "file_extension": ".py",
   "mimetype": "text/x-python",
   "name": "python",
   "nbconvert_exporter": "python",
   "pygments_lexer": "ipython3",
   "version": "3.7.5"
  }
 },
 "nbformat": 4,
 "nbformat_minor": 4
}
