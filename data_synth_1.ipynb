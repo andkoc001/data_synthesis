{
 "cells": [
  {
   "cell_type": "markdown",
   "metadata": {},
   "source": [
    "# Meteor shower - data synthesis\n",
    "Data synthesis as the assignment project for Programming for Data Analysis, GMIT 2019\n",
    "\n",
    "Lecturer: dr Brian McGinley\n",
    "\n",
    ">Author: **Andrzej Kocielski**  \n",
    ">Github: [andkoc001](https://github.com/andkoc001/)  \n",
    ">Email: G00376291@gmit.ie, and.koc001@gmail.com\n",
    "\n",
    "Created: 18-11-2019\n",
    "\n",
    "This Notebook should be read in conjunction with the corresponding README.md file at the project [repository](https://github.com/andkoc001/data_synthesis.git) at GitHub."
   ]
  },
  {
   "cell_type": "markdown",
   "metadata": {},
   "source": [
    "___\n",
    "\n",
    "## Introduction\n",
    "\n",
    "to be added..."
   ]
  },
  {
   "cell_type": "markdown",
   "metadata": {},
   "source": [
    "## Problem description\n",
    "\n",
    "To generate (synthesise) a dataset to simulate meteorids shower on a planet."
   ]
  },
  {
   "cell_type": "markdown",
   "metadata": {},
   "source": [
    "## Data categories and types\n",
    "\n",
    "The following are envisaged data categories and types\n",
    "\n",
    "* `Year` - Year of observation, integer from 1 to n\n",
    "* `Entry`- No of atmosphere entry, integer following the Poisson distribution with lambda $lambda = 0.25$ (to be verified)\n",
    "* `Impact` - No of surface impacts, binomial distribution as a function of size and angle of entry $f(size, angle)$\n",
    "* Size of a meteor, exponential distribution (few large, many small)\n",
    "* Density of a meteor, normal distribution\n",
    "* Veleocity of a meteor hitting the surface, normal distribution ????\n",
    "* Angle of entry, random ditribution in range 0-90\n",
    "* Total crater area, calculated as a function of size, density, veleociy, angle and additional noise\n"
   ]
  },
  {
   "cell_type": "markdown",
   "metadata": {},
   "source": [
    "## General assumptions\n",
    "\n",
    "~~The scenario and data are both fictional, invented solely for the purpose of this project.~~ The data presented in the notebook is real and true. However, as it illustrates the situation in an undiscovered solar system in a galaxy far, far away, and is hard to prove it, please assume the data presented here is fictional.\n",
    "\n",
    "The entire being simulated in the Notebook scenario, including the generated data, are simplified models with numerous assumptions and various levels of abstraction.\n",
    "* ...\n",
    "* ..."
   ]
  },
  {
   "cell_type": "markdown",
   "metadata": {},
   "source": [
    "I have chosen not to define seeds for random methods. That means each time the Notebook and particular cells are run, results will (most likely) differ."
   ]
  },
  {
   "cell_type": "markdown",
   "metadata": {},
   "source": [
    "## Importing Python libraries"
   ]
  },
  {
   "cell_type": "code",
   "execution_count": 1,
   "metadata": {},
   "outputs": [],
   "source": [
    "import numpy as np\n",
    "import pandas as pd\n",
    "import matplotlib.pyplot as plt \n",
    "import seaborn as sns"
   ]
  },
  {
   "cell_type": "markdown",
   "metadata": {},
   "source": [
    "## Generating the data"
   ]
  },
  {
   "cell_type": "code",
   "execution_count": 2,
   "metadata": {},
   "outputs": [
    {
     "data": {
      "text/html": [
       "<div>\n",
       "<style scoped>\n",
       "    .dataframe tbody tr th:only-of-type {\n",
       "        vertical-align: middle;\n",
       "    }\n",
       "\n",
       "    .dataframe tbody tr th {\n",
       "        vertical-align: top;\n",
       "    }\n",
       "\n",
       "    .dataframe thead th {\n",
       "        text-align: right;\n",
       "    }\n",
       "</style>\n",
       "<table border=\"1\" class=\"dataframe\">\n",
       "  <thead>\n",
       "    <tr style=\"text-align: right;\">\n",
       "      <th></th>\n",
       "      <th>Year</th>\n",
       "      <th>Entry</th>\n",
       "      <th>Impact</th>\n",
       "      <th>Mass</th>\n",
       "      <th>Velocity</th>\n",
       "      <th>Class</th>\n",
       "      <th>Crater</th>\n",
       "    </tr>\n",
       "  </thead>\n",
       "  <tbody>\n",
       "  </tbody>\n",
       "</table>\n",
       "</div>"
      ],
      "text/plain": [
       "Empty DataFrame\n",
       "Columns: [Year, Entry, Impact, Mass, Velocity, Class, Crater]\n",
       "Index: []"
      ]
     },
     "execution_count": 2,
     "metadata": {},
     "output_type": "execute_result"
    }
   ],
   "source": [
    "# creation of empty data (just headings)\n",
    "data = pd.DataFrame(columns = [\"Year\", \"Entry\", \"Impact\", \"Mass\", \"Velocity\", \"Class\", \"Crater\"]) \n",
    "data"
   ]
  },
  {
   "cell_type": "markdown",
   "metadata": {},
   "source": [
    "### Observation period and intervals\n",
    "\n",
    "Observations are recorded in one year intervals over a period of 100 local years (for the planet in question). This will be assigned to variable `year`."
   ]
  },
  {
   "cell_type": "code",
   "execution_count": 3,
   "metadata": {},
   "outputs": [
    {
     "data": {
      "text/plain": [
       "array([ 1,  2,  3,  4,  5,  6,  7,  8,  9, 10])"
      ]
     },
     "execution_count": 3,
     "metadata": {},
     "output_type": "execute_result"
    }
   ],
   "source": [
    "year = np.arange(1, 11) # temporarily only (for testing) 10 years of observation \n",
    "year"
   ]
  },
  {
   "cell_type": "code",
   "execution_count": 4,
   "metadata": {},
   "outputs": [
    {
     "data": {
      "text/html": [
       "<div>\n",
       "<style scoped>\n",
       "    .dataframe tbody tr th:only-of-type {\n",
       "        vertical-align: middle;\n",
       "    }\n",
       "\n",
       "    .dataframe tbody tr th {\n",
       "        vertical-align: top;\n",
       "    }\n",
       "\n",
       "    .dataframe thead th {\n",
       "        text-align: right;\n",
       "    }\n",
       "</style>\n",
       "<table border=\"1\" class=\"dataframe\">\n",
       "  <thead>\n",
       "    <tr style=\"text-align: right;\">\n",
       "      <th></th>\n",
       "      <th>Year</th>\n",
       "      <th>Entry</th>\n",
       "      <th>Impact</th>\n",
       "      <th>Mass</th>\n",
       "      <th>Velocity</th>\n",
       "      <th>Class</th>\n",
       "      <th>Crater</th>\n",
       "    </tr>\n",
       "  </thead>\n",
       "  <tbody>\n",
       "    <tr>\n",
       "      <th>0</th>\n",
       "      <td>1</td>\n",
       "      <td>NaN</td>\n",
       "      <td>NaN</td>\n",
       "      <td>NaN</td>\n",
       "      <td>NaN</td>\n",
       "      <td>NaN</td>\n",
       "      <td>NaN</td>\n",
       "    </tr>\n",
       "    <tr>\n",
       "      <th>1</th>\n",
       "      <td>2</td>\n",
       "      <td>NaN</td>\n",
       "      <td>NaN</td>\n",
       "      <td>NaN</td>\n",
       "      <td>NaN</td>\n",
       "      <td>NaN</td>\n",
       "      <td>NaN</td>\n",
       "    </tr>\n",
       "    <tr>\n",
       "      <th>2</th>\n",
       "      <td>3</td>\n",
       "      <td>NaN</td>\n",
       "      <td>NaN</td>\n",
       "      <td>NaN</td>\n",
       "      <td>NaN</td>\n",
       "      <td>NaN</td>\n",
       "      <td>NaN</td>\n",
       "    </tr>\n",
       "    <tr>\n",
       "      <th>3</th>\n",
       "      <td>4</td>\n",
       "      <td>NaN</td>\n",
       "      <td>NaN</td>\n",
       "      <td>NaN</td>\n",
       "      <td>NaN</td>\n",
       "      <td>NaN</td>\n",
       "      <td>NaN</td>\n",
       "    </tr>\n",
       "    <tr>\n",
       "      <th>4</th>\n",
       "      <td>5</td>\n",
       "      <td>NaN</td>\n",
       "      <td>NaN</td>\n",
       "      <td>NaN</td>\n",
       "      <td>NaN</td>\n",
       "      <td>NaN</td>\n",
       "      <td>NaN</td>\n",
       "    </tr>\n",
       "  </tbody>\n",
       "</table>\n",
       "</div>"
      ],
      "text/plain": [
       "   Year Entry Impact Mass Velocity Class Crater\n",
       "0     1   NaN    NaN  NaN      NaN   NaN    NaN\n",
       "1     2   NaN    NaN  NaN      NaN   NaN    NaN\n",
       "2     3   NaN    NaN  NaN      NaN   NaN    NaN\n",
       "3     4   NaN    NaN  NaN      NaN   NaN    NaN\n",
       "4     5   NaN    NaN  NaN      NaN   NaN    NaN"
      ]
     },
     "execution_count": 4,
     "metadata": {},
     "output_type": "execute_result"
    }
   ],
   "source": [
    "# assigning year values to the data array, other columns with empty values (NaN - not a number)\n",
    "data[\"Year\"] = year\n",
    "data.head()"
   ]
  },
  {
   "cell_type": "markdown",
   "metadata": {},
   "source": [
    "### Atmosphere entry\n",
    "\n",
    "Number of significant (that means those being recorded) meteors' entries to the atmosphere of the planet, represented by variable `atm_entry`, in my model is considered unpredictable event and of a chaotic nature (significant random noise). It is assumed that in a given year there may be _none_ to _a very large number_ of entries, with a certain mean number. This will be represented by a **Poisson distribution**. The reason for choosing this distribution is to capture the fact of lesser probability of a larger number of meteors entering the planet's atmosphere.\n",
    "\n",
    "The lambda value assigned randomly again, to strengthen the effect of the chaotic nature of the phenomenon. (More about randomness of the lambda values - why and how)."
   ]
  },
  {
   "cell_type": "code",
   "execution_count": 5,
   "metadata": {},
   "outputs": [
    {
     "name": "stdout",
     "output_type": "stream",
     "text": [
      "2.7933674084460045\n",
      "-685\n"
     ]
    }
   ],
   "source": [
    "# defines lambda value for the poisson distribution\n",
    "atm_entry_lambda = np.random.random() + np.random.randint(2, 4) # expected mean value - it gives a general shape of the distribution\n",
    "print(atm_entry_lambda)\n",
    "\n",
    "# defines noise used to modify the results\n",
    "atm_entry_noise = np.random.randint(-1500, -500) # extra random noise - expands the range of possible results and adds randomness and increases the standard deviation\n",
    "print(atm_entry_noise)"
   ]
  },
  {
   "cell_type": "code",
   "execution_count": 6,
   "metadata": {},
   "outputs": [
    {
     "name": "stdout",
     "output_type": "stream",
     "text": [
      "atm_entry_lambda:\t 2.7933674084460045\n",
      "atm_entry_noise:\t -685\n",
      "min:\t 0\n",
      "mean:\t 13.4\n",
      "max:\t 45\n",
      "std div: 13.45511055324333\n"
     ]
    },
    {
     "data": {
      "image/png": "[encoded data removed]",
      "text/plain": [
       "<Figure size 1296x144 with 2 Axes>"
      ]
     },
     "metadata": {
      "needs_background": "light"
     },
     "output_type": "display_data"
    },
    {
     "name": "stdout",
     "output_type": "stream",
     "text": [
      "list in sequence of years:\t [45 20 23  6  3 23  7  2  0  5]\n",
      "Frequency of unique values of the said array, sorted:\n",
      "[[ 0  2  3  5  6  7 20 23 45]\n",
      " [ 1  1  1  1  1  1  1  2  1]]\n"
     ]
    }
   ],
   "source": [
    "\n",
    "# the algorithm with nested random variables - poisson distribution\n",
    "# the intention is to have low mean and high std dev. values - verry erratic and chaotic phenomenon\n",
    "# consulted reference: https://stackoverflow.com/a/35730154\n",
    "atm_entry = abs(np.random.poisson(abs(atm_entry_lambda + (atm_entry_noise)), len(year)) + atm_entry_noise) # higher probability of occuring fewer meteors entry in a year; only non-negative values\n",
    "\n",
    "# description of the generated data\n",
    "print(\"atm_entry_lambda:\\t\", atm_entry_lambda)\n",
    "print(\"atm_entry_noise:\\t\", atm_entry_noise)\n",
    "print(\"min:\\t\", atm_entry.min())\n",
    "print(\"mean:\\t\", atm_entry.mean())\n",
    "print(\"max:\\t\", atm_entry.max())\n",
    "print(\"std div:\", atm_entry.std())\n",
    "\n",
    "### plotting - \n",
    "fig, ax = plt.subplots(ncols=2, figsize=(18, 2))\n",
    "plt.suptitle(\"Figure 1. Atmosphere entry per year.\", y=1.0, fontsize=14)\n",
    "plt.subplots_adjust(left=None, bottom=None, right=None, top=None, wspace=.2, hspace=None)\n",
    "\n",
    "# left hand plot - number of entries in each year of observation\n",
    "sns.lineplot(x=year, y=atm_entry, ax=ax[0]) \n",
    "\n",
    "# right hand plot - how many the same number of entries occured\n",
    "sns.countplot(x=atm_entry, ax=ax[1])   \n",
    "\n",
    "plt.show()\n",
    "print(\"list in sequence of years:\\t\", atm_entry)\n",
    "#print(\"count:\\t\", np.unique(set(atm_entry)))\n",
    "\n",
    "# https://www.w3resource.com/python-exercises/numpy/python-numpy-exercise-94.php\n",
    "unique_elements, counts_elements = np.unique(atm_entry, return_counts=True)\n",
    "print(\"Frequency of unique values of the said array, sorted:\")\n",
    "print(np.asarray((unique_elements, counts_elements)))\n"
   ]
  },
  {
   "cell_type": "markdown",
   "metadata": {},
   "source": [
    "##### Adding `Entry` values to the dataset."
   ]
  },
  {
   "cell_type": "code",
   "execution_count": 7,
   "metadata": {},
   "outputs": [
    {
     "data": {
      "text/html": [
       "<div>\n",
       "<style scoped>\n",
       "    .dataframe tbody tr th:only-of-type {\n",
       "        vertical-align: middle;\n",
       "    }\n",
       "\n",
       "    .dataframe tbody tr th {\n",
       "        vertical-align: top;\n",
       "    }\n",
       "\n",
       "    .dataframe thead th {\n",
       "        text-align: right;\n",
       "    }\n",
       "</style>\n",
       "<table border=\"1\" class=\"dataframe\">\n",
       "  <thead>\n",
       "    <tr style=\"text-align: right;\">\n",
       "      <th></th>\n",
       "      <th>Year</th>\n",
       "      <th>Entry</th>\n",
       "      <th>Impact</th>\n",
       "      <th>Mass</th>\n",
       "      <th>Velocity</th>\n",
       "      <th>Class</th>\n",
       "      <th>Crater</th>\n",
       "    </tr>\n",
       "  </thead>\n",
       "  <tbody>\n",
       "    <tr>\n",
       "      <th>0</th>\n",
       "      <td>1</td>\n",
       "      <td>45</td>\n",
       "      <td>NaN</td>\n",
       "      <td>NaN</td>\n",
       "      <td>NaN</td>\n",
       "      <td>NaN</td>\n",
       "      <td>NaN</td>\n",
       "    </tr>\n",
       "    <tr>\n",
       "      <th>1</th>\n",
       "      <td>2</td>\n",
       "      <td>20</td>\n",
       "      <td>NaN</td>\n",
       "      <td>NaN</td>\n",
       "      <td>NaN</td>\n",
       "      <td>NaN</td>\n",
       "      <td>NaN</td>\n",
       "    </tr>\n",
       "    <tr>\n",
       "      <th>2</th>\n",
       "      <td>3</td>\n",
       "      <td>23</td>\n",
       "      <td>NaN</td>\n",
       "      <td>NaN</td>\n",
       "      <td>NaN</td>\n",
       "      <td>NaN</td>\n",
       "      <td>NaN</td>\n",
       "    </tr>\n",
       "    <tr>\n",
       "      <th>3</th>\n",
       "      <td>4</td>\n",
       "      <td>6</td>\n",
       "      <td>NaN</td>\n",
       "      <td>NaN</td>\n",
       "      <td>NaN</td>\n",
       "      <td>NaN</td>\n",
       "      <td>NaN</td>\n",
       "    </tr>\n",
       "    <tr>\n",
       "      <th>4</th>\n",
       "      <td>5</td>\n",
       "      <td>3</td>\n",
       "      <td>NaN</td>\n",
       "      <td>NaN</td>\n",
       "      <td>NaN</td>\n",
       "      <td>NaN</td>\n",
       "      <td>NaN</td>\n",
       "    </tr>\n",
       "    <tr>\n",
       "      <th>5</th>\n",
       "      <td>6</td>\n",
       "      <td>23</td>\n",
       "      <td>NaN</td>\n",
       "      <td>NaN</td>\n",
       "      <td>NaN</td>\n",
       "      <td>NaN</td>\n",
       "      <td>NaN</td>\n",
       "    </tr>\n",
       "    <tr>\n",
       "      <th>6</th>\n",
       "      <td>7</td>\n",
       "      <td>7</td>\n",
       "      <td>NaN</td>\n",
       "      <td>NaN</td>\n",
       "      <td>NaN</td>\n",
       "      <td>NaN</td>\n",
       "      <td>NaN</td>\n",
       "    </tr>\n",
       "    <tr>\n",
       "      <th>7</th>\n",
       "      <td>8</td>\n",
       "      <td>2</td>\n",
       "      <td>NaN</td>\n",
       "      <td>NaN</td>\n",
       "      <td>NaN</td>\n",
       "      <td>NaN</td>\n",
       "      <td>NaN</td>\n",
       "    </tr>\n",
       "    <tr>\n",
       "      <th>8</th>\n",
       "      <td>9</td>\n",
       "      <td>0</td>\n",
       "      <td>NaN</td>\n",
       "      <td>NaN</td>\n",
       "      <td>NaN</td>\n",
       "      <td>NaN</td>\n",
       "      <td>NaN</td>\n",
       "    </tr>\n",
       "    <tr>\n",
       "      <th>9</th>\n",
       "      <td>10</td>\n",
       "      <td>5</td>\n",
       "      <td>NaN</td>\n",
       "      <td>NaN</td>\n",
       "      <td>NaN</td>\n",
       "      <td>NaN</td>\n",
       "      <td>NaN</td>\n",
       "    </tr>\n",
       "  </tbody>\n",
       "</table>\n",
       "</div>"
      ],
      "text/plain": [
       "   Year  Entry Impact Mass Velocity Class Crater\n",
       "0     1     45    NaN  NaN      NaN   NaN    NaN\n",
       "1     2     20    NaN  NaN      NaN   NaN    NaN\n",
       "2     3     23    NaN  NaN      NaN   NaN    NaN\n",
       "3     4      6    NaN  NaN      NaN   NaN    NaN\n",
       "4     5      3    NaN  NaN      NaN   NaN    NaN\n",
       "5     6     23    NaN  NaN      NaN   NaN    NaN\n",
       "6     7      7    NaN  NaN      NaN   NaN    NaN\n",
       "7     8      2    NaN  NaN      NaN   NaN    NaN\n",
       "8     9      0    NaN  NaN      NaN   NaN    NaN\n",
       "9    10      5    NaN  NaN      NaN   NaN    NaN"
      ]
     },
     "execution_count": 7,
     "metadata": {},
     "output_type": "execute_result"
    }
   ],
   "source": [
    "data[\"Entry\"] = atm_entry # abs(np.random.poisson(abs(atm_entry_lambda + abs(atm_entry_noise)), len(year)) + atm_entry_noise)\n",
    "data"
   ]
  },
  {
   "cell_type": "markdown",
   "metadata": {},
   "source": [
    "### Surface impact\n",
    "\n",
    "Number of meteors impacts into the planet surface, that is the meteors that entered the atmosphere of the planet and penetrated it without being completely burned out in the transit. \n",
    "The variable is represented in my model by variable `Impact` which is a result of **binomial distribution** with arbitrarily given probability of success. This is simplification, as a lot of factors are neglected here that would have an effect in real situation (e.g. size, density, composition, velocity, angle of entry, atmosphere properties and so on).\n",
    "\n",
    "This part is based on Ian Mcloughlin's [Notebook](https://github.com/ianmcloughlin/jupyter-teaching-notebooks/blob/master/coin-flip.ipynb) on coin flip."
   ]
  },
  {
   "cell_type": "code",
   "execution_count": 8,
   "metadata": {},
   "outputs": [
    {
     "data": {
      "text/plain": [
       "0.14"
      ]
     },
     "execution_count": 8,
     "metadata": {},
     "output_type": "execute_result"
    }
   ],
   "source": [
    "# assign probability of meteoroids passing through the atmosfere and hitting the surface\n",
    "passing_prob = 0.01*np.random.randint(5, 21) # range from 0.05 to 0.2\n",
    "passing_prob"
   ]
  },
  {
   "cell_type": "code",
   "execution_count": 9,
   "metadata": {},
   "outputs": [
    {
     "name": "stdout",
     "output_type": "stream",
     "text": [
      "\n",
      "\n",
      "Year: 1\n",
      "Number of meteo passing the atm / total number:\t 9 / 45\n",
      "\n",
      "\n",
      "Year: 2\n",
      "Number of meteo passing the atm / total number:\t 5 / 20\n",
      "\n",
      "\n",
      "Year: 3\n",
      "Number of meteo passing the atm / total number:\t 2 / 23\n",
      "\n",
      "\n",
      "Year: 4\n",
      "Number of meteo passing the atm / total number:\t 1 / 6\n",
      "\n",
      "\n",
      "Year: 5\n",
      "Number of meteo passing the atm / total number:\t 1 / 3\n",
      "\n",
      "\n",
      "Year: 6\n",
      "Number of meteo passing the atm / total number:\t 6 / 23\n",
      "\n",
      "\n",
      "Year: 7\n",
      "Number of meteo passing the atm / total number:\t 1 / 7\n",
      "\n",
      "\n",
      "Year: 8\n",
      "Number of meteo passing the atm / total number:\t 1 / 2\n",
      "\n",
      "\n",
      "Year: 9\n",
      "Number of meteo passing the atm / total number:\t 0 / 0\n",
      "\n",
      "\n",
      "Year: 10\n",
      "Number of meteo passing the atm / total number:\t 0 / 5\n"
     ]
    }
   ],
   "source": [
    "# filtering the meteoroids - testing how many in each year have passed through \n",
    "\n",
    "# for each year\n",
    "for index, row in data.iterrows(): # adapted from https://stackoverflow.com/a/16476974\n",
    "    print(\"\\n\")\n",
    "    print(\"Year:\", index+1) #, \"\\tNumber of meteo:\\t\", row[\"Entry\"])\n",
    "\n",
    "    sum = 0 # counting up the instances of successfully passing in a given year\n",
    "    \n",
    "    for i in range(data.iat[index, 1]): # data.iat[-1, 1] returns value of a cell\n",
    "       \n",
    "        # testing for a single instance (Number of tests, probability of a penetration, number of times to do this);\n",
    "        passed = np.random.binomial(1, passing_prob, 1) # adapted from https://github.com/ianmcloughlin/jupyter-teaching-notebooks/blob/master/coin-flip.ipynb\n",
    "        # print(\"Meteo no.\", i+1, \": \", passed)\n",
    "        sum = int(sum + passed)\n",
    "    \n",
    "    print(\"Number of meteo passing the atm / total number:\\t\", sum, \"/\", row[\"Entry\"])\n",
    "    \n",
    "    if row[\"Entry\"] != 0: # check if there was any meteo hittint the atmosphere in a given year\n",
    "        ratio_passing = sum/row[\"Entry\"]\n",
    "        \n",
    "    else:\n",
    "        ratio_passing = 0  \n",
    "    #print(\"\\t\\t\\t  Ratio:\\t\", ratio_passing)\n",
    "    \n",
    "    \n",
    "    # assign number of surface impacts to the main dataset\n",
    "    data.iat[index, 2] = sum \n",
    "    #print(data[\"Impact\"])"
   ]
  },
  {
   "cell_type": "code",
   "execution_count": null,
   "metadata": {},
   "outputs": [],
   "source": [
    "# current dataset\n",
    "data"
   ]
  },
  {
   "cell_type": "markdown",
   "metadata": {},
   "source": [
    "### Parameters of each meteor\n",
    "\n",
    "The mass and velocity of **every** meteors hitting the planet surface in given year is generated in the model - other are not considered in the dataset.\n",
    "\n",
    "The mass and velocity are stored in a separate subset of data for each year (3rd dimension of the original dataset?)."
   ]
  },
  {
   "cell_type": "markdown",
   "metadata": {},
   "source": [
    "#### Mass of the meteoroids\n",
    "\n",
    "The mass of the meteor is distributed according to pareto principle, that is many small meteors and few large. The variable is generated with the help of `np.random.pareto()` function."
   ]
  },
  {
   "cell_type": "markdown",
   "metadata": {},
   "source": [
    "Assigning pareto distibution parameters"
   ]
  },
  {
   "cell_type": "code",
   "execution_count": 10,
   "metadata": {},
   "outputs": [],
   "source": [
    "# adapted from https://docs.scipy.org/doc/numpy-1.15.0/reference/generated/numpy.random.pareto.html\n",
    "\n",
    "# parameters for pareto dirstribution: pareto_a - shape of the distribution, pareto_m - mode of the distribution\n",
    "\n",
    "mass_pareto_a, mass_pareto_m = 1.0, 1000.0  # shape and mode - picked arbitrarily to resemble reality as much as the author could think\n",
    "\n",
    "# shape of the pareto distribution determines the how much the number of small meteors would dominate over the large ones; greater the shape value, the more small samples\n",
    "# mode in the pareto distribution tells the magnitude (or scale) of the outcome (the size of the metors); the larger the mode, the larger the scale of the meteors"
   ]
  },
  {
   "cell_type": "code",
   "execution_count": 11,
   "metadata": {},
   "outputs": [
    {
     "name": "stdout",
     "output_type": "stream",
     "text": [
      "In year 1 the number of meteors passing the atmosphere was:\t 9\n",
      "Their mass was as follows: [  4.   4.  13.   5.  13.  35. 290.  25.   7.] \n",
      "\n",
      "In year 2 the number of meteors passing the atmosphere was:\t 5\n",
      "Their mass was as follows: [ 23.  10.  11. 122.  10.] \n",
      "\n",
      "In year 3 the number of meteors passing the atmosphere was:\t 2\n",
      "Their mass was as follows: [76. 10.] \n",
      "\n",
      "In year 4 the number of meteors passing the atmosphere was:\t 1\n",
      "Their mass was as follows: [41.] \n",
      "\n",
      "In year 5 the number of meteors passing the atmosphere was:\t 1\n",
      "Their mass was as follows: [12.] \n",
      "\n",
      "In year 6 the number of meteors passing the atmosphere was:\t 6\n",
      "Their mass was as follows: [ 11.  25.  11. 137.  19.  17.] \n",
      "\n",
      "In year 7 the number of meteors passing the atmosphere was:\t 1\n",
      "Their mass was as follows: [9.] \n",
      "\n",
      "In year 8 the number of meteors passing the atmosphere was:\t 1\n",
      "Their mass was as follows: [11.] \n",
      "\n",
      "In year 9 the number of meteors passing the atmosphere was:\t 0\n",
      "In year 10 the number of meteors passing the atmosphere was:\t 0\n"
     ]
    }
   ],
   "source": [
    "# splicing - getting the number of meteors entering the atmosphere in a given year\n",
    "for i in data[\"Year\"]:\n",
    "    \n",
    "    number_meteors = data.loc[i-1][\"Impact\"] # getting the number of the meteors entereing the atmosphere in the subsequnt year\n",
    "    print(\"In year\", i, \"the number of meteors passing the atmosphere was:\\t\", number_meteors)\n",
    "   \n",
    "    if number_meteors != 0:  # only those that hit the planet are considered\n",
    "        \n",
    "        # genertating mass of each meteoroid\n",
    "        mass_meteo = np.round((0.01*(np.random.pareto(mass_pareto_a, number_meteors) + 1) * mass_pareto_m) + 0.01*np.random.randint(-1000, 10), 0) # random mass for each meteoroid hitting the surface\n",
    "        \n",
    "        # recording the masses in the dataset table\n",
    "        data.at[i-1, \"Mass\"] = mass_meteo\n",
    "        \n",
    "        print(\"Their mass was as follows:\", data.at[i-1, \"Mass\"], \"\\n\")\n",
    "        #print(data)\n",
    "        \n",
    "    else:\n",
    "        pass "
   ]
  },
  {
   "cell_type": "code",
   "execution_count": null,
   "metadata": {},
   "outputs": [],
   "source": [
    "data"
   ]
  },
  {
   "cell_type": "markdown",
   "metadata": {},
   "source": [
    "#### Velocity of the meteoroids\n",
    "\n",
    "The velocity of the meteor is distributed according to pareto principle, that is many small meteors and few large. The variable is generated with the help of `np.random.pareto()` function."
   ]
  },
  {
   "cell_type": "markdown",
   "metadata": {},
   "source": [
    "Assigning pareto distibution parameters"
   ]
  },
  {
   "cell_type": "code",
   "execution_count": 12,
   "metadata": {},
   "outputs": [],
   "source": [
    "# adapted from https://docs.scipy.org/doc/numpy-1.15.0/reference/generated/numpy.random.pareto.html\n",
    "\n",
    "# parameters for pareto dirstribution: pareto_a - shape of the distribution, pareto_m - mode of the distribution\n",
    "\n",
    "velo_pareto_a, velo_pareto_m = 1.4, 5000.0  # shape and mode - picked arbitrarily to resemble reality as much as the author could think\n",
    "\n",
    "# shape of the pareto distribution determines the how much the number of slow meteoroids would dominate over the fast ones; greater the shape value, the more slow samples\n",
    "# mode in the pareto distribution tells the magnitude (or scale) of the outcome (the velocity of the metoroids); the larger the mode, the larger the velocity of the meteors"
   ]
  },
  {
   "cell_type": "code",
   "execution_count": 13,
   "metadata": {},
   "outputs": [
    {
     "name": "stdout",
     "output_type": "stream",
     "text": [
      "In year 1 the number of meteors passing the atmosphere was:\t 9\n",
      "Their mass was as follows: [166.  87. 112.  70.  49.  65. 143.  98.  57.] \n",
      "\n",
      "In year 2 the number of meteors passing the atmosphere was:\t 5\n",
      "Their mass was as follows: [ 71.  71.  59.  57. 222.] \n",
      "\n",
      "In year 3 the number of meteors passing the atmosphere was:\t 2\n",
      "Their mass was as follows: [520. 147.] \n",
      "\n",
      "In year 4 the number of meteors passing the atmosphere was:\t 1\n",
      "Their mass was as follows: [222.] \n",
      "\n",
      "In year 5 the number of meteors passing the atmosphere was:\t 1\n",
      "Their mass was as follows: [106.] \n",
      "\n",
      "In year 6 the number of meteors passing the atmosphere was:\t 6\n",
      "Their mass was as follows: [ 62.  97.  70. 155.  65. 577.] \n",
      "\n",
      "In year 7 the number of meteors passing the atmosphere was:\t 1\n",
      "Their mass was as follows: [85.] \n",
      "\n",
      "In year 8 the number of meteors passing the atmosphere was:\t 1\n",
      "Their mass was as follows: [98.] \n",
      "\n",
      "In year 9 the number of meteors passing the atmosphere was:\t 0\n",
      "\n",
      "In year 10 the number of meteors passing the atmosphere was:\t 0\n",
      "\n"
     ]
    }
   ],
   "source": [
    "# splicing - getting the number of meteors entering the atmosphere in a given year\n",
    "for i in data[\"Year\"]:\n",
    "    \n",
    "    number_meteors = data.loc[i-1][\"Impact\"] # getting the number of the meteors entereing the atmosphere in the subsequnt year\n",
    "    print(\"In year\", i, \"the number of meteors passing the atmosphere was:\\t\", number_meteors)\n",
    "   \n",
    "    if number_meteors != 0:  # only those that hit the planet are considered\n",
    "        \n",
    "        # generating velocity value for each meteo\n",
    "        velo = np.round((0.01*(np.random.pareto(velo_pareto_a, number_meteors) + 1) * velo_pareto_m) + 0.01*np.random.randint(-1000, 10), 0) # random mass for each meteoroid hitting the surface\n",
    "        \n",
    "        # assigning the velo values to the dataset\n",
    "        data.at[i-1, \"Velocity\"] = velo\n",
    "        print(\"Their mass was as follows:\", data.at[i-1, \"Velocity\"], \"\\n\")\n",
    "        #print(data)\n",
    "        \n",
    "    else:\n",
    "        print()\n",
    "        pass"
   ]
  },
  {
   "cell_type": "code",
   "execution_count": null,
   "metadata": {},
   "outputs": [],
   "source": [
    "data"
   ]
  },
  {
   "cell_type": "markdown",
   "metadata": {},
   "source": [
    "### largest crater size\n",
    "\n",
    "Only one impact crater is evaluated in a given year, that is formed from the impact of **one meteoroid only** of the largest energy.\n",
    "\n",
    "It is assumed the energy forming the impact crater is function on two variables only: mass and velocity of the meteoroid (and a noise coming from some other factors). The size of the crater formula is - in this simulation only (invented!) - as follows:\n",
    "\n",
    "$$ Impact = 0.05 \\cdot Mass \\cdot Velocity^{1.4} + noise $$\n",
    "\n",
    "where noise is a random number from xxxxxxxxxxx to yyyyyyyyyyyy.\n"
   ]
  },
  {
   "cell_type": "markdown",
   "metadata": {},
   "source": [
    "#### Picking the highest energy meteoroid "
   ]
  },
  {
   "cell_type": "code",
   "execution_count": 14,
   "metadata": {},
   "outputs": [
    {
     "data": {
      "text/html": [
       "<div>\n",
       "<style scoped>\n",
       "    .dataframe tbody tr th:only-of-type {\n",
       "        vertical-align: middle;\n",
       "    }\n",
       "\n",
       "    .dataframe tbody tr th {\n",
       "        vertical-align: top;\n",
       "    }\n",
       "\n",
       "    .dataframe thead th {\n",
       "        text-align: right;\n",
       "    }\n",
       "</style>\n",
       "<table border=\"1\" class=\"dataframe\">\n",
       "  <thead>\n",
       "    <tr style=\"text-align: right;\">\n",
       "      <th></th>\n",
       "      <th>Year</th>\n",
       "      <th>Entry</th>\n",
       "      <th>Impact</th>\n",
       "      <th>Mass</th>\n",
       "      <th>Velocity</th>\n",
       "      <th>Class</th>\n",
       "      <th>Crater</th>\n",
       "    </tr>\n",
       "  </thead>\n",
       "  <tbody>\n",
       "    <tr>\n",
       "      <th>0</th>\n",
       "      <td>1</td>\n",
       "      <td>45</td>\n",
       "      <td>9</td>\n",
       "      <td>[4.0, 4.0, 13.0, 5.0, 13.0, 35.0, 290.0, 25.0,...</td>\n",
       "      <td>[166.0, 87.0, 112.0, 70.0, 49.0, 65.0, 143.0, ...</td>\n",
       "      <td>NaN</td>\n",
       "      <td>41.5</td>\n",
       "    </tr>\n",
       "    <tr>\n",
       "      <th>1</th>\n",
       "      <td>2</td>\n",
       "      <td>20</td>\n",
       "      <td>5</td>\n",
       "      <td>[23.0, 10.0, 11.0, 122.0, 10.0]</td>\n",
       "      <td>[71.0, 71.0, 59.0, 57.0, 222.0]</td>\n",
       "      <td>NaN</td>\n",
       "      <td>7</td>\n",
       "    </tr>\n",
       "    <tr>\n",
       "      <th>2</th>\n",
       "      <td>3</td>\n",
       "      <td>23</td>\n",
       "      <td>2</td>\n",
       "      <td>[76.0, 10.0]</td>\n",
       "      <td>[520.0, 147.0]</td>\n",
       "      <td>NaN</td>\n",
       "      <td>39.5</td>\n",
       "    </tr>\n",
       "    <tr>\n",
       "      <th>3</th>\n",
       "      <td>4</td>\n",
       "      <td>6</td>\n",
       "      <td>1</td>\n",
       "      <td>[41.0]</td>\n",
       "      <td>[222.0]</td>\n",
       "      <td>NaN</td>\n",
       "      <td>9.1</td>\n",
       "    </tr>\n",
       "    <tr>\n",
       "      <th>4</th>\n",
       "      <td>5</td>\n",
       "      <td>3</td>\n",
       "      <td>1</td>\n",
       "      <td>[12.0]</td>\n",
       "      <td>[106.0]</td>\n",
       "      <td>NaN</td>\n",
       "      <td>1.3</td>\n",
       "    </tr>\n",
       "    <tr>\n",
       "      <th>5</th>\n",
       "      <td>6</td>\n",
       "      <td>23</td>\n",
       "      <td>6</td>\n",
       "      <td>[11.0, 25.0, 11.0, 137.0, 19.0, 17.0]</td>\n",
       "      <td>[62.0, 97.0, 70.0, 155.0, 65.0, 577.0]</td>\n",
       "      <td>NaN</td>\n",
       "      <td>21.2</td>\n",
       "    </tr>\n",
       "    <tr>\n",
       "      <th>6</th>\n",
       "      <td>7</td>\n",
       "      <td>7</td>\n",
       "      <td>1</td>\n",
       "      <td>[9.0]</td>\n",
       "      <td>[85.0]</td>\n",
       "      <td>NaN</td>\n",
       "      <td>0.8</td>\n",
       "    </tr>\n",
       "    <tr>\n",
       "      <th>7</th>\n",
       "      <td>8</td>\n",
       "      <td>2</td>\n",
       "      <td>1</td>\n",
       "      <td>[11.0]</td>\n",
       "      <td>[98.0]</td>\n",
       "      <td>NaN</td>\n",
       "      <td>1.1</td>\n",
       "    </tr>\n",
       "    <tr>\n",
       "      <th>8</th>\n",
       "      <td>9</td>\n",
       "      <td>0</td>\n",
       "      <td>0</td>\n",
       "      <td>NaN</td>\n",
       "      <td>NaN</td>\n",
       "      <td>NaN</td>\n",
       "      <td>NaN</td>\n",
       "    </tr>\n",
       "    <tr>\n",
       "      <th>9</th>\n",
       "      <td>10</td>\n",
       "      <td>5</td>\n",
       "      <td>0</td>\n",
       "      <td>NaN</td>\n",
       "      <td>NaN</td>\n",
       "      <td>NaN</td>\n",
       "      <td>NaN</td>\n",
       "    </tr>\n",
       "  </tbody>\n",
       "</table>\n",
       "</div>"
      ],
      "text/plain": [
       "   Year  Entry Impact                                               Mass  \\\n",
       "0     1     45      9  [4.0, 4.0, 13.0, 5.0, 13.0, 35.0, 290.0, 25.0,...   \n",
       "1     2     20      5                    [23.0, 10.0, 11.0, 122.0, 10.0]   \n",
       "2     3     23      2                                       [76.0, 10.0]   \n",
       "3     4      6      1                                             [41.0]   \n",
       "4     5      3      1                                             [12.0]   \n",
       "5     6     23      6              [11.0, 25.0, 11.0, 137.0, 19.0, 17.0]   \n",
       "6     7      7      1                                              [9.0]   \n",
       "7     8      2      1                                             [11.0]   \n",
       "8     9      0      0                                                NaN   \n",
       "9    10      5      0                                                NaN   \n",
       "\n",
       "                                            Velocity Class Crater  \n",
       "0  [166.0, 87.0, 112.0, 70.0, 49.0, 65.0, 143.0, ...   NaN   41.5  \n",
       "1                    [71.0, 71.0, 59.0, 57.0, 222.0]   NaN      7  \n",
       "2                                     [520.0, 147.0]   NaN   39.5  \n",
       "3                                            [222.0]   NaN    9.1  \n",
       "4                                            [106.0]   NaN    1.3  \n",
       "5             [62.0, 97.0, 70.0, 155.0, 65.0, 577.0]   NaN   21.2  \n",
       "6                                             [85.0]   NaN    0.8  \n",
       "7                                             [98.0]   NaN    1.1  \n",
       "8                                                NaN   NaN    NaN  \n",
       "9                                                NaN   NaN    NaN  "
      ]
     },
     "execution_count": 14,
     "metadata": {},
     "output_type": "execute_result"
    }
   ],
   "source": [
    "# Calculation of the meteoroids energy\n",
    "for i in data[\"Year\"]:\n",
    "    \n",
    "    if data.loc[i-1][\"Impact\"] != 0:\n",
    "        #print(data.loc[i-1][\"Mass\"], \"*\", data.loc[i-1][\"Velocity\"], \"=\", (data.loc[i-1][\"Mass\"] * data.loc[i-1][\"Velocity\"]))\n",
    "        \n",
    "        # calculation energy for each meteroid hitting the planet\n",
    "        energy_calcs = np.round(.001 * data.loc[i-1][\"Mass\"] * data.loc[i-1][\"Velocity\"], 1)\n",
    "        \n",
    "        # recording only the highest energy metoroid in the dataset\n",
    "        data.at[i-1, \"Crater\"] = max(energy_calcs)\n",
    "        \n",
    "        \n",
    "        #data.at[i-1, \"Crater\"] = max(np.round(.001 * data.loc[i-1][\"Mass\"] * data.loc[i-1][\"Velocity\"], 1)) # only max energy meteroid recorded\n",
    "        #print(data.loc[i-1][\"Crater\"])\n",
    "                \n",
    "    else:\n",
    "         pass\n",
    "        \n",
    "#print(data.loc[i-1][\"Crater\"])\n",
    "    #for j in data[\"Year\"]:\n",
    "    \n",
    "    #number_meteors = data.loc[i-1][\"Impact\"] # getting the number of the meteors entereing the atmosphere in the subsequnt year\n",
    "    #print(\"In year\", i, \"the number of meteors passing the atmosphere was:\\t\", number_meteors, \"\\nTheir mass was as follows:\")\n",
    "   \n",
    "    #if number_meteors != 0:\n",
    "    #    data.at[i-1, \"Velocity\"] = np.round(((np.random.pareto(velo_pareto_a, number_meteors) + 1) * velo_pareto_m) + np.random.randint(-1000, 10), 0) # random mass for each meteoroid hitting the surface\n",
    "    #    print(data.at[i-1, \"Velocity\"], \"\\n\")\n",
    "    #    #print(data)\n",
    "    #else:\n",
    "    #    data.at[i-1, \"Velocity\"] = 0   \n",
    "data"
   ]
  },
  {
   "cell_type": "markdown",
   "metadata": {},
   "source": [
    "### Class of the highest energy meteoroid"
   ]
  },
  {
   "cell_type": "markdown",
   "metadata": {},
   "source": [
    "In the solar system there are following classes of meteoroids:\n",
    "* iron,\n",
    "* stone,\n",
    "* ice.\n",
    "\n",
    "Each class has a certain probability of hitting the planet - see below."
   ]
  },
  {
   "cell_type": "code",
   "execution_count": 15,
   "metadata": {},
   "outputs": [],
   "source": [
    "# in the solar system occure the following classes of meteorids\n",
    "classes = [\"iron\", \"stone\", \"ice\"] "
   ]
  },
  {
   "cell_type": "code",
   "execution_count": 16,
   "metadata": {},
   "outputs": [],
   "source": [
    "for i in data[\"Year\"]:\n",
    "    \n",
    "    if data.loc[i-1][\"Impact\"] != 0: # on condition there was an impact in this year\n",
    "        \n",
    "        # assigning the class in given year\n",
    "        data.at[i-1, \"Class\"] = np.random.choice(classes, p=[0.8, 0.15, 0.05])\n",
    "        \n",
    "    else:\n",
    "         pass"
   ]
  },
  {
   "cell_type": "code",
   "execution_count": 17,
   "metadata": {},
   "outputs": [
    {
     "data": {
      "text/html": [
       "<div>\n",
       "<style scoped>\n",
       "    .dataframe tbody tr th:only-of-type {\n",
       "        vertical-align: middle;\n",
       "    }\n",
       "\n",
       "    .dataframe tbody tr th {\n",
       "        vertical-align: top;\n",
       "    }\n",
       "\n",
       "    .dataframe thead th {\n",
       "        text-align: right;\n",
       "    }\n",
       "</style>\n",
       "<table border=\"1\" class=\"dataframe\">\n",
       "  <thead>\n",
       "    <tr style=\"text-align: right;\">\n",
       "      <th></th>\n",
       "      <th>Year</th>\n",
       "      <th>Entry</th>\n",
       "      <th>Impact</th>\n",
       "      <th>Mass</th>\n",
       "      <th>Velocity</th>\n",
       "      <th>Class</th>\n",
       "      <th>Crater</th>\n",
       "    </tr>\n",
       "  </thead>\n",
       "  <tbody>\n",
       "    <tr>\n",
       "      <th>0</th>\n",
       "      <td>1</td>\n",
       "      <td>45</td>\n",
       "      <td>9</td>\n",
       "      <td>[4.0, 4.0, 13.0, 5.0, 13.0, 35.0, 290.0, 25.0,...</td>\n",
       "      <td>[166.0, 87.0, 112.0, 70.0, 49.0, 65.0, 143.0, ...</td>\n",
       "      <td>iron</td>\n",
       "      <td>41.5</td>\n",
       "    </tr>\n",
       "    <tr>\n",
       "      <th>1</th>\n",
       "      <td>2</td>\n",
       "      <td>20</td>\n",
       "      <td>5</td>\n",
       "      <td>[23.0, 10.0, 11.0, 122.0, 10.0]</td>\n",
       "      <td>[71.0, 71.0, 59.0, 57.0, 222.0]</td>\n",
       "      <td>iron</td>\n",
       "      <td>7</td>\n",
       "    </tr>\n",
       "    <tr>\n",
       "      <th>2</th>\n",
       "      <td>3</td>\n",
       "      <td>23</td>\n",
       "      <td>2</td>\n",
       "      <td>[76.0, 10.0]</td>\n",
       "      <td>[520.0, 147.0]</td>\n",
       "      <td>iron</td>\n",
       "      <td>39.5</td>\n",
       "    </tr>\n",
       "    <tr>\n",
       "      <th>3</th>\n",
       "      <td>4</td>\n",
       "      <td>6</td>\n",
       "      <td>1</td>\n",
       "      <td>[41.0]</td>\n",
       "      <td>[222.0]</td>\n",
       "      <td>iron</td>\n",
       "      <td>9.1</td>\n",
       "    </tr>\n",
       "    <tr>\n",
       "      <th>4</th>\n",
       "      <td>5</td>\n",
       "      <td>3</td>\n",
       "      <td>1</td>\n",
       "      <td>[12.0]</td>\n",
       "      <td>[106.0]</td>\n",
       "      <td>iron</td>\n",
       "      <td>1.3</td>\n",
       "    </tr>\n",
       "    <tr>\n",
       "      <th>5</th>\n",
       "      <td>6</td>\n",
       "      <td>23</td>\n",
       "      <td>6</td>\n",
       "      <td>[11.0, 25.0, 11.0, 137.0, 19.0, 17.0]</td>\n",
       "      <td>[62.0, 97.0, 70.0, 155.0, 65.0, 577.0]</td>\n",
       "      <td>iron</td>\n",
       "      <td>21.2</td>\n",
       "    </tr>\n",
       "    <tr>\n",
       "      <th>6</th>\n",
       "      <td>7</td>\n",
       "      <td>7</td>\n",
       "      <td>1</td>\n",
       "      <td>[9.0]</td>\n",
       "      <td>[85.0]</td>\n",
       "      <td>iron</td>\n",
       "      <td>0.8</td>\n",
       "    </tr>\n",
       "    <tr>\n",
       "      <th>7</th>\n",
       "      <td>8</td>\n",
       "      <td>2</td>\n",
       "      <td>1</td>\n",
       "      <td>[11.0]</td>\n",
       "      <td>[98.0]</td>\n",
       "      <td>iron</td>\n",
       "      <td>1.1</td>\n",
       "    </tr>\n",
       "    <tr>\n",
       "      <th>8</th>\n",
       "      <td>9</td>\n",
       "      <td>0</td>\n",
       "      <td>0</td>\n",
       "      <td>NaN</td>\n",
       "      <td>NaN</td>\n",
       "      <td>NaN</td>\n",
       "      <td>NaN</td>\n",
       "    </tr>\n",
       "    <tr>\n",
       "      <th>9</th>\n",
       "      <td>10</td>\n",
       "      <td>5</td>\n",
       "      <td>0</td>\n",
       "      <td>NaN</td>\n",
       "      <td>NaN</td>\n",
       "      <td>NaN</td>\n",
       "      <td>NaN</td>\n",
       "    </tr>\n",
       "  </tbody>\n",
       "</table>\n",
       "</div>"
      ],
      "text/plain": [
       "   Year  Entry Impact                                               Mass  \\\n",
       "0     1     45      9  [4.0, 4.0, 13.0, 5.0, 13.0, 35.0, 290.0, 25.0,...   \n",
       "1     2     20      5                    [23.0, 10.0, 11.0, 122.0, 10.0]   \n",
       "2     3     23      2                                       [76.0, 10.0]   \n",
       "3     4      6      1                                             [41.0]   \n",
       "4     5      3      1                                             [12.0]   \n",
       "5     6     23      6              [11.0, 25.0, 11.0, 137.0, 19.0, 17.0]   \n",
       "6     7      7      1                                              [9.0]   \n",
       "7     8      2      1                                             [11.0]   \n",
       "8     9      0      0                                                NaN   \n",
       "9    10      5      0                                                NaN   \n",
       "\n",
       "                                            Velocity Class Crater  \n",
       "0  [166.0, 87.0, 112.0, 70.0, 49.0, 65.0, 143.0, ...  iron   41.5  \n",
       "1                    [71.0, 71.0, 59.0, 57.0, 222.0]  iron      7  \n",
       "2                                     [520.0, 147.0]  iron   39.5  \n",
       "3                                            [222.0]  iron    9.1  \n",
       "4                                            [106.0]  iron    1.3  \n",
       "5             [62.0, 97.0, 70.0, 155.0, 65.0, 577.0]  iron   21.2  \n",
       "6                                             [85.0]  iron    0.8  \n",
       "7                                             [98.0]  iron    1.1  \n",
       "8                                                NaN   NaN    NaN  \n",
       "9                                                NaN   NaN    NaN  "
      ]
     },
     "execution_count": 17,
     "metadata": {},
     "output_type": "execute_result"
    }
   ],
   "source": [
    "data"
   ]
  },
  {
   "cell_type": "code",
   "execution_count": null,
   "metadata": {},
   "outputs": [],
   "source": []
  },
  {
   "cell_type": "markdown",
   "metadata": {},
   "source": [
    "___\n",
    "### testing assigning values to dataframe"
   ]
  },
  {
   "cell_type": "markdown",
   "metadata": {},
   "source": [
    "#### Attempt 1 to create data subset for each year of observation"
   ]
  },
  {
   "cell_type": "code",
   "execution_count": null,
   "metadata": {},
   "outputs": [],
   "source": [
    "# from https://www.geeksforgeeks.org/different-ways-to-create-pandas-dataframe/\n",
    "\n",
    "# example for year 2 (assumed 5no. impacts)\n",
    "\n",
    "# List1  \n",
    "mass_year_2 = [125, 30, 26, 22, 11]  # invented for testing\n",
    "    \n",
    "# List2  \n",
    "velo_year_2 = [425, 630, 126, 1132, 890] # invented for testing\n",
    "    \n",
    "# get the list of tuples from two listt and merge them by using zip().  \n",
    "list_of_tuples = list(zip(mass_year_2, velo_year_2))  \n",
    "    \n",
    "# Converting lists of tuples into Pandas Dataframe.  \n",
    "data_meteo = pd.DataFrame(list_of_tuples, columns = ['Mass', 'Velocity'])  \n",
    "     \n",
    "# Print data.  \n",
    "data_meteo # this is a subset of data for year 2, attempt 1"
   ]
  },
  {
   "cell_type": "markdown",
   "metadata": {},
   "source": [
    "#### Integrating the data subset to the primary dataset"
   ]
  },
  {
   "cell_type": "code",
   "execution_count": null,
   "metadata": {},
   "outputs": [],
   "source": [
    "# incorporating the subset to the main dataset\n",
    "\n",
    "# for year 2 as an example\n",
    "print(\"Mass:\\t \", mass_year_2) # print out - for testing\n",
    "data.at[2-1, \"Mass\"] = mass_year_2 # assign mass to main dataset\n",
    "\n",
    "print(\"Velocity:\", velo_year_2) # print out - for testing\n",
    "data.at[2-1, \"Velocity\"] = velo_year_2 # assign velocity to main dataset\n",
    "\n",
    "#data_copy.at[0, \"Meteor\"] = (mass_year_2, veleo_year_2) # array of lists\n",
    "#data_copy.at[0, \"Meteor\"] = data_test # it doesnt work as intended\n",
    "\n",
    "data"
   ]
  },
  {
   "cell_type": "code",
   "execution_count": null,
   "metadata": {},
   "outputs": [],
   "source": []
  },
  {
   "cell_type": "markdown",
   "metadata": {},
   "source": [
    "___\n",
    "Andrzej Kocielski"
   ]
  }
 ],
 "metadata": {
  "kernelspec": {
   "display_name": "Python 3",
   "language": "python",
   "name": "python3"
  },
  "language_info": {
   "codemirror_mode": {
    "name": "ipython",
    "version": 3
   },
   "file_extension": ".py",
   "mimetype": "text/x-python",
   "name": "python",
   "nbconvert_exporter": "python",
   "pygments_lexer": "ipython3",
   "version": "3.7.5"
  }
 },
 "nbformat": 4,
 "nbformat_minor": 4
}
