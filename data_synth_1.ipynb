{
 "cells": [
  {
   "cell_type": "markdown",
   "metadata": {},
   "source": [
    "# Meteors shower data synthesis\n",
    "Data synthesis as the assignment project for Programming for Data Analysis, GMIT 2019\n",
    "\n",
    "Lecturer: dr Brian McGinley\n",
    "\n",
    ">Author: **Andrzej Kocielski**  \n",
    ">Github: [andkoc001](https://github.com/andkoc001/)  \n",
    ">Email: G00376291@gmit.ie, and.koc001@gmail.com\n",
    "\n",
    "Created: 18-11-2019\n",
    "\n",
    "This Notebook should be read in conjunction with the corresponding README.md file at the project [repository](https://github.com/andkoc001/data_synthesis.git) at GitHub."
   ]
  },
  {
   "cell_type": "markdown",
   "metadata": {},
   "source": [
    "___\n",
    "\n",
    "## Introduction\n",
    "\n",
    "to be added..."
   ]
  },
  {
   "cell_type": "markdown",
   "metadata": {},
   "source": [
    "## Problem description\n",
    "\n",
    "To generate (synthesise) a dataset to simulate meteors shower on a planet."
   ]
  },
  {
   "cell_type": "markdown",
   "metadata": {},
   "source": [
    "## Data categories and types\n",
    "\n",
    "The following are envisaged data categories and types\n",
    "\n",
    "* `Year` - Year of observation, integer from 1 to n\n",
    "* `Entry`- No of atmosphere entry, integer following the Poisson distribution with lambda $lambda = 0.25$ (to be verified)\n",
    "* `Impact` - No of surface impacts, binomial distribution as a function of size and angle of entry $f(size, angle)$\n",
    "* Size of a meteor, exponential distribution (few large, many small)\n",
    "* Density of a meteor, normal distribution\n",
    "* Veleocity of a meteor hitting the surface, normal distribution ????\n",
    "* Angle of entry, random ditribution in range 0-90\n",
    "* Total crater area, calculated as a function of size, density, veleociy, angle and additional noise\n"
   ]
  },
  {
   "cell_type": "markdown",
   "metadata": {},
   "source": [
    "## General assumptions\n",
    "\n",
    "~~The scenario and data are both fictional, invented solely for the purpose of this project.~~ The data presented in the notebook is real and true. However, as it illustrates the situation in an undiscovered solar system in a galaxy far, far away, and is hard to prove it, please assume the data presented here is fictional.\n",
    "\n",
    "The generate data is a simplified model with numerous assumptions and simplifications.\n",
    "* ...\n",
    "* ..."
   ]
  },
  {
   "cell_type": "markdown",
   "metadata": {},
   "source": [
    "## Importing Python libraries"
   ]
  },
  {
   "cell_type": "code",
   "execution_count": 2,
   "metadata": {},
   "outputs": [],
   "source": [
    "import numpy as np\n",
    "import pandas as pd\n",
    "import matplotlib.pyplot as plt \n",
    "import seaborn as sns"
   ]
  },
  {
   "cell_type": "markdown",
   "metadata": {},
   "source": [
    "## Generating the data"
   ]
  },
  {
   "cell_type": "code",
   "execution_count": 3,
   "metadata": {},
   "outputs": [
    {
     "data": {
      "text/html": [
       "<div>\n",
       "<style scoped>\n",
       "    .dataframe tbody tr th:only-of-type {\n",
       "        vertical-align: middle;\n",
       "    }\n",
       "\n",
       "    .dataframe tbody tr th {\n",
       "        vertical-align: top;\n",
       "    }\n",
       "\n",
       "    .dataframe thead th {\n",
       "        text-align: right;\n",
       "    }\n",
       "</style>\n",
       "<table border=\"1\" class=\"dataframe\">\n",
       "  <thead>\n",
       "    <tr style=\"text-align: right;\">\n",
       "      <th></th>\n",
       "      <th>Year</th>\n",
       "      <th>Entry</th>\n",
       "      <th>Impact</th>\n",
       "      <th>Size</th>\n",
       "      <th>Velocity</th>\n",
       "      <th>Crater</th>\n",
       "    </tr>\n",
       "  </thead>\n",
       "  <tbody>\n",
       "  </tbody>\n",
       "</table>\n",
       "</div>"
      ],
      "text/plain": [
       "Empty DataFrame\n",
       "Columns: [Year, Entry, Impact, Size, Velocity, Crater]\n",
       "Index: []"
      ]
     },
     "execution_count": 3,
     "metadata": {},
     "output_type": "execute_result"
    }
   ],
   "source": [
    "# creation of empty data (just headings)\n",
    "data = pd.DataFrame(columns = [\"Year\", \"Entry\", \"Impact\", \"Size\", \"Velocity\", \"Crater\"]) \n",
    "data"
   ]
  },
  {
   "cell_type": "markdown",
   "metadata": {},
   "source": [
    "### Observation period and intervals\n",
    "\n",
    "Observations are recorded in one year intervals over a period of 100 local years (for the planet in question). This will be assigned to variable `year`."
   ]
  },
  {
   "cell_type": "code",
   "execution_count": 310,
   "metadata": {},
   "outputs": [
    {
     "data": {
      "text/plain": [
       "array([1, 2, 3, 4, 5, 6, 7, 8, 9])"
      ]
     },
     "execution_count": 310,
     "metadata": {},
     "output_type": "execute_result"
    }
   ],
   "source": [
    "year = np.arange(1, 10) # temporarily only (for testing) - 100 years of observation \n",
    "year"
   ]
  },
  {
   "cell_type": "code",
   "execution_count": 5,
   "metadata": {},
   "outputs": [
    {
     "data": {
      "text/html": [
       "<div>\n",
       "<style scoped>\n",
       "    .dataframe tbody tr th:only-of-type {\n",
       "        vertical-align: middle;\n",
       "    }\n",
       "\n",
       "    .dataframe tbody tr th {\n",
       "        vertical-align: top;\n",
       "    }\n",
       "\n",
       "    .dataframe thead th {\n",
       "        text-align: right;\n",
       "    }\n",
       "</style>\n",
       "<table border=\"1\" class=\"dataframe\">\n",
       "  <thead>\n",
       "    <tr style=\"text-align: right;\">\n",
       "      <th></th>\n",
       "      <th>Year</th>\n",
       "      <th>Entry</th>\n",
       "      <th>Impact</th>\n",
       "      <th>Size</th>\n",
       "      <th>Velocity</th>\n",
       "      <th>Crater</th>\n",
       "    </tr>\n",
       "  </thead>\n",
       "  <tbody>\n",
       "    <tr>\n",
       "      <th>0</th>\n",
       "      <td>1</td>\n",
       "      <td>NaN</td>\n",
       "      <td>NaN</td>\n",
       "      <td>NaN</td>\n",
       "      <td>NaN</td>\n",
       "      <td>NaN</td>\n",
       "    </tr>\n",
       "    <tr>\n",
       "      <th>1</th>\n",
       "      <td>2</td>\n",
       "      <td>NaN</td>\n",
       "      <td>NaN</td>\n",
       "      <td>NaN</td>\n",
       "      <td>NaN</td>\n",
       "      <td>NaN</td>\n",
       "    </tr>\n",
       "    <tr>\n",
       "      <th>2</th>\n",
       "      <td>3</td>\n",
       "      <td>NaN</td>\n",
       "      <td>NaN</td>\n",
       "      <td>NaN</td>\n",
       "      <td>NaN</td>\n",
       "      <td>NaN</td>\n",
       "    </tr>\n",
       "    <tr>\n",
       "      <th>3</th>\n",
       "      <td>4</td>\n",
       "      <td>NaN</td>\n",
       "      <td>NaN</td>\n",
       "      <td>NaN</td>\n",
       "      <td>NaN</td>\n",
       "      <td>NaN</td>\n",
       "    </tr>\n",
       "    <tr>\n",
       "      <th>4</th>\n",
       "      <td>5</td>\n",
       "      <td>NaN</td>\n",
       "      <td>NaN</td>\n",
       "      <td>NaN</td>\n",
       "      <td>NaN</td>\n",
       "      <td>NaN</td>\n",
       "    </tr>\n",
       "  </tbody>\n",
       "</table>\n",
       "</div>"
      ],
      "text/plain": [
       "   Year Entry Impact Size Velocity Crater\n",
       "0     1   NaN    NaN  NaN      NaN    NaN\n",
       "1     2   NaN    NaN  NaN      NaN    NaN\n",
       "2     3   NaN    NaN  NaN      NaN    NaN\n",
       "3     4   NaN    NaN  NaN      NaN    NaN\n",
       "4     5   NaN    NaN  NaN      NaN    NaN"
      ]
     },
     "execution_count": 5,
     "metadata": {},
     "output_type": "execute_result"
    }
   ],
   "source": [
    "# assigning year values to the data array, other columns with empty values (NaN - not a number)\n",
    "data[\"Year\"] = year\n",
    "data.head()"
   ]
  },
  {
   "cell_type": "markdown",
   "metadata": {},
   "source": [
    "### Atmosphere entry\n",
    "\n",
    "Number of meteors' entries to the atmosphere of the planet, represented by variable `atm_entry`, in my model is considered unpredictable event and of a chaotic nature (significant random noise). It is assumed that in a given year there may be _none_ to _a very large number_ of entries, with a certain mean number. This will be represented by a **Poisson distribution**. The reason for choosing this distribution is to capture the fact of lesser probability of a larger number of meteors entering the planet's atmosphere.\n",
    "\n",
    "The lambda value assigned randomly again, to strengthen the effect of the chaotic nature of the phenomenon. (More about randomness of the lambda values - why and how)."
   ]
  },
  {
   "cell_type": "code",
   "execution_count": 312,
   "metadata": {},
   "outputs": [
    {
     "name": "stdout",
     "output_type": "stream",
     "text": [
      "atm_entry_lambda:\t 2.359721552279035\n",
      "atm_entry_noise:\t -895\n",
      "min:\t 0\n",
      "mean:\t 9.88888888888889\n",
      "max:\t 44\n",
      "list:\t [ 2 18  3  0 44  6  6  5  5]\n"
     ]
    },
    {
     "data": {
      "image/png": "[encoded data removed]",
      "text/plain": [
       "<Figure size 1296x144 with 2 Axes>"
      ]
     },
     "metadata": {
      "needs_background": "light"
     },
     "output_type": "display_data"
    }
   ],
   "source": [
    "# defines lambda value for the poisson distribution\n",
    "atm_entry_lambda = 1 + np.random.random() + np.random.randint(1, 2) # expected mean value - it gives a general shape of the distribution\n",
    "# defines noise used to modify the results\n",
    "atm_entry_noise = np.random.randint(-1000, 100) # extra random noise - expands the range of possible results and adds randomness\n",
    "\n",
    "# the algorithm with nested random variables\n",
    "atm_entry = abs(np.random.poisson(abs(atm_entry_lambda + abs(atm_entry_noise)), len(year)) + atm_entry_noise) # only positive or 'zero' values\n",
    "\n",
    "# description of the generated data\n",
    "print(\"atm_entry_lambda:\\t\", atm_entry_lambda)\n",
    "print(\"atm_entry_noise:\\t\", atm_entry_noise)\n",
    "print(\"min:\\t\", atm_entry.min())\n",
    "print(\"mean:\\t\", atm_entry.mean())\n",
    "print(\"max:\\t\", atm_entry.max())\n",
    "print(\"list:\\t\", atm_entry)\n",
    "\n",
    "### plotting - \n",
    "fig, ax = plt.subplots(ncols=2, figsize=(18, 2))\n",
    "plt.suptitle(\"Figure 1. Atmosphere entry per year.\", y=1.0, fontsize=14)\n",
    "plt.subplots_adjust(left=None, bottom=None, right=None, top=None, wspace=.2, hspace=None)\n",
    "\n",
    "# left hand plot\n",
    "sns.lineplot(x=year, y=atm_entry, ax=ax[0]) # number of entries in each year of observation\n",
    "\n",
    "# right hand plot\n",
    "sns.countplot(x=atm_entry, ax=ax[1]) # how many the same number of entries occured \n",
    "\n",
    "plt.show()"
   ]
  },
  {
   "cell_type": "code",
   "execution_count": 290,
   "metadata": {},
   "outputs": [
    {
     "name": "stdout",
     "output_type": "stream",
     "text": [
      "atm_entry_lambda 2.480963409332646\n",
      "atm_entry_noise -788\n",
      "min: 0\n",
      "mean: 21.45\n",
      "max: 92\n"
     ]
    },
    {
     "data": {
      "image/png": "[encoded data removed]",
      "text/plain": [
       "<Figure size 1296x144 with 2 Axes>"
      ]
     },
     "metadata": {
      "needs_background": "light"
     },
     "output_type": "display_data"
    },
    {
     "name": "stdout",
     "output_type": "stream",
     "text": [
      "[21 43 13  1 16 11 37 33 16 51 35 22  5 16 10 14 17 36  8 26 19 63 12 37\n",
      " 12 14 47  0  0 40  7 20 20  5 35 26 25 11  1 18 27 19 40 17 49 29  9  5\n",
      " 56 10 31  0 26  6 27 23  8  6  2 15 45 10  6  4 11 27 23 52 16 23  2 39\n",
      " 59  7  0 17  5 21 20  7 28 13 16 46 15 26  8 14  3 92 68 30  4 11 24 33\n",
      " 31  0 10 31]\n"
     ]
    }
   ],
   "source": [
    "# test for a larger number of the years - for better illustration of the distribution pattern\n",
    "test_years_number = 100\n",
    "\n",
    "# test of the distribution generation algorithm for the above parameters - this sample is used only for illustration of the algorithm\n",
    "atm_test = abs(np.random.poisson(abs(atm_entry_lambda + abs(atm_entry_noise)), test_years_number) + atm_entry_noise) # only positive or 'zero' values\n",
    "\n",
    "# description of the generated data\n",
    "print(\"atm_entry_lambda\", atm_entry_lambda)\n",
    "print(\"atm_entry_noise\", atm_entry_noise)\n",
    "print(\"min:\", atm_test.min())\n",
    "print(\"mean:\", atm_test.mean())\n",
    "print(\"max:\", atm_test.max())\n",
    "\n",
    "x = np.arange(0, test_years_number)\n",
    "y = atm_test\n",
    "\n",
    "### plotting - \n",
    "fig, ax = plt.subplots(ncols=2, figsize=(18, 2))\n",
    "plt.suptitle(\"Figure 1. Atmosphere entry per year.\", y=1.04, fontsize=14)\n",
    "plt.subplots_adjust(left=None, bottom=None, right=None, top=None, wspace=.2, hspace=None)\n",
    "\n",
    "sns.lineplot(x=x, y=y, ax=ax[0]) # number of entries in each year of observation\n",
    "sns.countplot(x=atm_test, ax=ax[1]) # how many the same number of entries occured \n",
    "\n",
    "plt.show()\n",
    "\n",
    "print(atm_test)"
   ]
  },
  {
   "cell_type": "markdown",
   "metadata": {},
   "source": [
    "##### Adding `Entry` values to the dataset."
   ]
  },
  {
   "cell_type": "code",
   "execution_count": 13,
   "metadata": {},
   "outputs": [
    {
     "data": {
      "text/html": [
       "<div>\n",
       "<style scoped>\n",
       "    .dataframe tbody tr th:only-of-type {\n",
       "        vertical-align: middle;\n",
       "    }\n",
       "\n",
       "    .dataframe tbody tr th {\n",
       "        vertical-align: top;\n",
       "    }\n",
       "\n",
       "    .dataframe thead th {\n",
       "        text-align: right;\n",
       "    }\n",
       "</style>\n",
       "<table border=\"1\" class=\"dataframe\">\n",
       "  <thead>\n",
       "    <tr style=\"text-align: right;\">\n",
       "      <th></th>\n",
       "      <th>Year</th>\n",
       "      <th>Entry</th>\n",
       "      <th>Impact</th>\n",
       "      <th>Size</th>\n",
       "      <th>Velocity</th>\n",
       "      <th>Crater</th>\n",
       "    </tr>\n",
       "  </thead>\n",
       "  <tbody>\n",
       "    <tr>\n",
       "      <th>0</th>\n",
       "      <td>1</td>\n",
       "      <td>7</td>\n",
       "      <td>NaN</td>\n",
       "      <td>NaN</td>\n",
       "      <td>NaN</td>\n",
       "      <td>NaN</td>\n",
       "    </tr>\n",
       "    <tr>\n",
       "      <th>1</th>\n",
       "      <td>2</td>\n",
       "      <td>7</td>\n",
       "      <td>NaN</td>\n",
       "      <td>NaN</td>\n",
       "      <td>NaN</td>\n",
       "      <td>NaN</td>\n",
       "    </tr>\n",
       "    <tr>\n",
       "      <th>2</th>\n",
       "      <td>3</td>\n",
       "      <td>4</td>\n",
       "      <td>NaN</td>\n",
       "      <td>NaN</td>\n",
       "      <td>NaN</td>\n",
       "      <td>NaN</td>\n",
       "    </tr>\n",
       "    <tr>\n",
       "      <th>3</th>\n",
       "      <td>4</td>\n",
       "      <td>8</td>\n",
       "      <td>NaN</td>\n",
       "      <td>NaN</td>\n",
       "      <td>NaN</td>\n",
       "      <td>NaN</td>\n",
       "    </tr>\n",
       "    <tr>\n",
       "      <th>4</th>\n",
       "      <td>5</td>\n",
       "      <td>1</td>\n",
       "      <td>NaN</td>\n",
       "      <td>NaN</td>\n",
       "      <td>NaN</td>\n",
       "      <td>NaN</td>\n",
       "    </tr>\n",
       "  </tbody>\n",
       "</table>\n",
       "</div>"
      ],
      "text/plain": [
       "   Year  Entry Impact Size Velocity Crater\n",
       "0     1      7    NaN  NaN      NaN    NaN\n",
       "1     2      7    NaN  NaN      NaN    NaN\n",
       "2     3      4    NaN  NaN      NaN    NaN\n",
       "3     4      8    NaN  NaN      NaN    NaN\n",
       "4     5      1    NaN  NaN      NaN    NaN"
      ]
     },
     "execution_count": 13,
     "metadata": {},
     "output_type": "execute_result"
    }
   ],
   "source": [
    "data[\"Entry\"] = abs(np.random.poisson(abs(atm_entry_lambda + abs(atm_entry_noise)), len(year)) + atm_entry_noise)\n",
    "data"
   ]
  },
  {
   "cell_type": "markdown",
   "metadata": {},
   "source": [
    "### Surface impact\n",
    "\n",
    "Number of meteors impacts into the planet surface, that is the meteors that entered the atmosphere of the planet and did not burned out completely in the transit. \n",
    "The variable is represented in my model by variable `Impact` which is a result of **binomial distribution** with arbitrarily given probability of success."
   ]
  },
  {
   "cell_type": "code",
   "execution_count": null,
   "metadata": {},
   "outputs": [],
   "source": []
  },
  {
   "cell_type": "code",
   "execution_count": null,
   "metadata": {},
   "outputs": [],
   "source": []
  },
  {
   "cell_type": "code",
   "execution_count": null,
   "metadata": {},
   "outputs": [],
   "source": []
  },
  {
   "cell_type": "markdown",
   "metadata": {},
   "source": [
    "### ~~Average size of the meteors~~ - this section will go\n",
    "\n",
    "~~The average size of meteors entering into the atmosphere in given year. It is assumed in the model arbitrarily, according to pareto principle, that is where there is many small meteors and few large. The variable is generated with the help of `np.random.pareto()` function.~~"
   ]
  },
  {
   "cell_type": "code",
   "execution_count": null,
   "metadata": {},
   "outputs": [],
   "source": [
    "# should it stay or shoud it go? - disabled for now\n",
    "\n",
    "# defines lambda value for the poisson distribution\n",
    "#size_lambda = np.random.random() #+ np.random.randint(100, 20000) # expected mean value - it gives a general shape of the distribution\n",
    "# defines noise used to modify the results\n",
    "#size_noise = np.random.random() * 100 # extra random noise - expands the range of possible results and adds randomness\n",
    "\n",
    "#data[\"Size\"] = np.around(np.random.pareto(size_lambda, len(year)) * size_noise / len(year), decimals=0)\n",
    "#data"
   ]
  },
  {
   "cell_type": "markdown",
   "metadata": {},
   "source": [
    "### Parameters of each meteor"
   ]
  },
  {
   "cell_type": "markdown",
   "metadata": {},
   "source": [
    "#### Size of the meteors (and velocity?, and angle????? - to be yet decided)\n",
    "\n",
    "The size of **every** meteors hitting the planet surface in given year is generated in the model. The size is stored in a separate subset of data for each year (3rd dimension of the original dataset?). Next, a mean of the sizes is passed to the original dataset.\n",
    "\n",
    "The size of the meteor is distributed according to pareto principle, that is many small meteors and few large. The variable is generated with the help of `np.random.pareto()` function."
   ]
  },
  {
   "cell_type": "code",
   "execution_count": null,
   "metadata": {},
   "outputs": [],
   "source": [
    "# adapted from https://docs.scipy.org/doc/numpy-1.15.0/reference/generated/numpy.random.pareto.html\n",
    "\n",
    "# parameters for pareto dirstribution: pareto_a - shape of the distribution, pareto_m - mode of the distribution\n",
    "pareto_a, pareto_m = 1.0, 1000.0  # shape and mode - picked arbitrarily to resemble reality as much as the author could think\n",
    "# shape of the pareto distribution determines the how much the number of small meteors would dominate over the large ones; greater the shape value, the more small samples\n",
    "# mode in the pareto distribution tells the magnitude (or scale) of the outcome (the size of the metors); the larger the mode, the larger the scale of the meteors\n",
    "\n",
    "\n",
    "\n",
    "# splicing - getting the number of meteors entering the atmosphere in a given year\n",
    "for i in data[\"Year\"]:\n",
    "    number_meteors = data.loc[i-1][\"Entry\"] # getting the number of the meteors entereing the atmosphere in the subsequnt year\n",
    "    print(\"In year\", i, \"the number of meteors entering the atmosphere was:\", number_meteors, \"\\nTheir mass was as follows:\")\n",
    "   \n",
    "\n",
    "    # assgining the size for each meteor \n",
    "    s = ((np.random.pareto(pareto_a, number_meteors) + 1) * pareto_m) + np.random.randint(-1000, 1000)\n",
    "    print(s, \"\\n\")\n",
    "    \n",
    "       \n",
    "    # visualisation of the results - plotting histogram for each year - disabled for sake of keeping the notebook tidy and compact\n",
    "    #if number_meteors > 0:\n",
    "    #    sns.distplot(s, kde=False)\n",
    "    #    plt.show()\n",
    "    \n",
    "    # treshold mass to get through the atmosphere (smaller are considered to burn out completely during the transit)\n",
    "    #treshold = 2000\n",
    "    #if s > treshold:\n",
    "    #    # create a sub dataset with number of meteors that would reach the planet surface\n",
    "    #    data_impact[]\n",
    "    "
   ]
  },
  {
   "cell_type": "markdown",
   "metadata": {},
   "source": [
    "### testing assigning values to dataframe"
   ]
  },
  {
   "cell_type": "markdown",
   "metadata": {},
   "source": [
    "#### Attempt 1 to create data subset for each year of observation"
   ]
  },
  {
   "cell_type": "code",
   "execution_count": null,
   "metadata": {},
   "outputs": [],
   "source": [
    "# from https://www.geeksforgeeks.org/different-ways-to-create-pandas-dataframe/\n",
    "\n",
    "# example for year 2\n",
    "\n",
    "# List1  \n",
    "mass_year_2 = [125, 30, 26, 22, 11]  # invented for testing\n",
    "    \n",
    "# List2  \n",
    "veleo_year_2 = [425, 630, 126, 1132, 890] # invented for testing\n",
    "    \n",
    "# get the list of tuples from two listt and merge them by using zip().  \n",
    "list_of_tuples = list(zip(mass_year_2, veleo_year_2))  \n",
    "    \n",
    "# Converting lists of tuples into Pandas Dataframe.  \n",
    "data = pd.DataFrame(list_of_tuples, columns = ['Size', 'Veleocity'])  \n",
    "     \n",
    "# Print data.  \n",
    "data # this is a subset of data for year 2, attempt 1"
   ]
  },
  {
   "cell_type": "markdown",
   "metadata": {},
   "source": [
    "#### Integrating the data subset to the primary dataset"
   ]
  },
  {
   "cell_type": "code",
   "execution_count": null,
   "metadata": {},
   "outputs": [],
   "source": [
    "# incorporating the subset to the main dataset (copy in this case)\n",
    "\n",
    "mass_year_2\n",
    "data_copy.at[1, \"Size\"] = mass_year_2\n",
    "\n",
    "data_copy.at[1, \"Veleocity\"] = veleo_year_2 # list\n",
    "\n",
    "# data_copy.at[0, \"Meteor\"] = (mass_year_2, veleo_year_2) # array of lists\n",
    "# data_copy.at[0, \"Meteor\"] = data_test # it doesnt work as intended\n",
    "data_copy"
   ]
  }
 ],
 "metadata": {
  "kernelspec": {
   "display_name": "Python 3",
   "language": "python",
   "name": "python3"
  },
  "language_info": {
   "codemirror_mode": {
    "name": "ipython",
    "version": 3
   },
   "file_extension": ".py",
   "mimetype": "text/x-python",
   "name": "python",
   "nbconvert_exporter": "python",
   "pygments_lexer": "ipython3",
   "version": "3.7.5"
  }
 },
 "nbformat": 4,
 "nbformat_minor": 4
}
