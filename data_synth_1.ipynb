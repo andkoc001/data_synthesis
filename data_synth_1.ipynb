{
 "cells": [
  {
   "cell_type": "markdown",
   "metadata": {},
   "source": [
    "# Meteor shower - data synthesis\n",
    "Data synthesis as the assignment project for Programming for Data Analysis, GMIT 2019\n",
    "\n",
    "Lecturer: dr Brian McGinley\n",
    "\n",
    ">Author: **Andrzej Kocielski**  \n",
    ">Github: [andkoc001](https://github.com/andkoc001/)  \n",
    ">Email: G00376291@gmit.ie, and.koc001@gmail.com\n",
    "\n",
    "Created: 18-11-2019\n",
    "\n",
    "This Notebook should be read in conjunction with the corresponding README.md file at the project [repository](https://github.com/andkoc001/data_synthesis.git) at GitHub."
   ]
  },
  {
   "cell_type": "markdown",
   "metadata": {},
   "source": [
    "___\n",
    "\n",
    "## Introduction\n",
    "\n",
    "to be added..."
   ]
  },
  {
   "cell_type": "markdown",
   "metadata": {},
   "source": [
    "## Problem description\n",
    "\n",
    "To generate (synthesise) a dataset to simulate meteorids shower on a planet."
   ]
  },
  {
   "cell_type": "markdown",
   "metadata": {},
   "source": [
    "## Data categories and types\n",
    "\n",
    "The following are envisaged data categories and types\n",
    "\n",
    "* `Year` - Year of observation, integer from 1 to n\n",
    "* `Entry`- No of atmosphere entry, integer following the Poisson distribution with lambda $lambda = 0.25$ (to be verified)\n",
    "* `Impact` - No of surface impacts, binomial distribution as a function of size and angle of entry $f(size, angle)$\n",
    "* Size of a meteor, exponential distribution (few large, many small)\n",
    "* Density of a meteor, normal distribution\n",
    "* Veleocity of a meteor hitting the surface, normal distribution ????\n",
    "* Angle of entry, random ditribution in range 0-90\n",
    "* Total crater area, calculated as a function of size, density, veleociy, angle and additional noise\n"
   ]
  },
  {
   "cell_type": "markdown",
   "metadata": {},
   "source": [
    "## General assumptions\n",
    "\n",
    "~~The scenario and data are both fictional, invented solely for the purpose of this project.~~ The data presented in the notebook is real and true. However, as it illustrates the situation in an undiscovered solar system in a galaxy far, far away, and is hard to prove it, please assume the data presented here is fictional.\n",
    "\n",
    "The entire being simulated in the Notebook scenario, including the generated data, are simplified models with numerous assumptions and various levels of abstraction.\n",
    "* ...\n",
    "* ..."
   ]
  },
  {
   "cell_type": "markdown",
   "metadata": {},
   "source": [
    "I have chosen not to define seeds for random methods. That means each time the Notebook and particular cells are run, results will (most likely) differ."
   ]
  },
  {
   "cell_type": "markdown",
   "metadata": {},
   "source": [
    "## Importing Python libraries"
   ]
  },
  {
   "cell_type": "code",
   "execution_count": 1,
   "metadata": {},
   "outputs": [],
   "source": [
    "import numpy as np\n",
    "import pandas as pd\n",
    "import matplotlib.pyplot as plt \n",
    "import seaborn as sns"
   ]
  },
  {
   "cell_type": "markdown",
   "metadata": {},
   "source": [
    "## Generating the data"
   ]
  },
  {
   "cell_type": "code",
   "execution_count": 480,
   "metadata": {},
   "outputs": [
    {
     "data": {
      "text/html": [
       "<div>\n",
       "<style scoped>\n",
       "    .dataframe tbody tr th:only-of-type {\n",
       "        vertical-align: middle;\n",
       "    }\n",
       "\n",
       "    .dataframe tbody tr th {\n",
       "        vertical-align: top;\n",
       "    }\n",
       "\n",
       "    .dataframe thead th {\n",
       "        text-align: right;\n",
       "    }\n",
       "</style>\n",
       "<table border=\"1\" class=\"dataframe\">\n",
       "  <thead>\n",
       "    <tr style=\"text-align: right;\">\n",
       "      <th></th>\n",
       "      <th>Year</th>\n",
       "      <th>Entry</th>\n",
       "      <th>Impact</th>\n",
       "      <th>Mass</th>\n",
       "      <th>Velocity</th>\n",
       "      <th>Crater</th>\n",
       "    </tr>\n",
       "  </thead>\n",
       "  <tbody>\n",
       "  </tbody>\n",
       "</table>\n",
       "</div>"
      ],
      "text/plain": [
       "Empty DataFrame\n",
       "Columns: [Year, Entry, Impact, Mass, Velocity, Crater]\n",
       "Index: []"
      ]
     },
     "execution_count": 480,
     "metadata": {},
     "output_type": "execute_result"
    }
   ],
   "source": [
    "# creation of empty data (just headings)\n",
    "data = pd.DataFrame(columns = [\"Year\", \"Entry\", \"Impact\", \"Mass\", \"Velocity\", \"Crater\"]) \n",
    "data"
   ]
  },
  {
   "cell_type": "markdown",
   "metadata": {},
   "source": [
    "### Observation period and intervals\n",
    "\n",
    "Observations are recorded in one year intervals over a period of 100 local years (for the planet in question). This will be assigned to variable `year`."
   ]
  },
  {
   "cell_type": "code",
   "execution_count": 4,
   "metadata": {},
   "outputs": [
    {
     "data": {
      "text/plain": [
       "array([ 1,  2,  3,  4,  5,  6,  7,  8,  9, 10])"
      ]
     },
     "execution_count": 4,
     "metadata": {},
     "output_type": "execute_result"
    }
   ],
   "source": [
    "year = np.arange(1, 11) # temporarily only (for testing) - 100 years of observation \n",
    "year"
   ]
  },
  {
   "cell_type": "code",
   "execution_count": 481,
   "metadata": {},
   "outputs": [
    {
     "data": {
      "text/html": [
       "<div>\n",
       "<style scoped>\n",
       "    .dataframe tbody tr th:only-of-type {\n",
       "        vertical-align: middle;\n",
       "    }\n",
       "\n",
       "    .dataframe tbody tr th {\n",
       "        vertical-align: top;\n",
       "    }\n",
       "\n",
       "    .dataframe thead th {\n",
       "        text-align: right;\n",
       "    }\n",
       "</style>\n",
       "<table border=\"1\" class=\"dataframe\">\n",
       "  <thead>\n",
       "    <tr style=\"text-align: right;\">\n",
       "      <th></th>\n",
       "      <th>Year</th>\n",
       "      <th>Entry</th>\n",
       "      <th>Impact</th>\n",
       "      <th>Mass</th>\n",
       "      <th>Velocity</th>\n",
       "      <th>Crater</th>\n",
       "    </tr>\n",
       "  </thead>\n",
       "  <tbody>\n",
       "    <tr>\n",
       "      <th>0</th>\n",
       "      <td>1</td>\n",
       "      <td>NaN</td>\n",
       "      <td>NaN</td>\n",
       "      <td>NaN</td>\n",
       "      <td>NaN</td>\n",
       "      <td>NaN</td>\n",
       "    </tr>\n",
       "    <tr>\n",
       "      <th>1</th>\n",
       "      <td>2</td>\n",
       "      <td>NaN</td>\n",
       "      <td>NaN</td>\n",
       "      <td>NaN</td>\n",
       "      <td>NaN</td>\n",
       "      <td>NaN</td>\n",
       "    </tr>\n",
       "    <tr>\n",
       "      <th>2</th>\n",
       "      <td>3</td>\n",
       "      <td>NaN</td>\n",
       "      <td>NaN</td>\n",
       "      <td>NaN</td>\n",
       "      <td>NaN</td>\n",
       "      <td>NaN</td>\n",
       "    </tr>\n",
       "    <tr>\n",
       "      <th>3</th>\n",
       "      <td>4</td>\n",
       "      <td>NaN</td>\n",
       "      <td>NaN</td>\n",
       "      <td>NaN</td>\n",
       "      <td>NaN</td>\n",
       "      <td>NaN</td>\n",
       "    </tr>\n",
       "    <tr>\n",
       "      <th>4</th>\n",
       "      <td>5</td>\n",
       "      <td>NaN</td>\n",
       "      <td>NaN</td>\n",
       "      <td>NaN</td>\n",
       "      <td>NaN</td>\n",
       "      <td>NaN</td>\n",
       "    </tr>\n",
       "  </tbody>\n",
       "</table>\n",
       "</div>"
      ],
      "text/plain": [
       "   Year Entry Impact Mass Velocity Crater\n",
       "0     1   NaN    NaN  NaN      NaN    NaN\n",
       "1     2   NaN    NaN  NaN      NaN    NaN\n",
       "2     3   NaN    NaN  NaN      NaN    NaN\n",
       "3     4   NaN    NaN  NaN      NaN    NaN\n",
       "4     5   NaN    NaN  NaN      NaN    NaN"
      ]
     },
     "execution_count": 481,
     "metadata": {},
     "output_type": "execute_result"
    }
   ],
   "source": [
    "# assigning year values to the data array, other columns with empty values (NaN - not a number)\n",
    "data[\"Year\"] = year\n",
    "data.head()"
   ]
  },
  {
   "cell_type": "markdown",
   "metadata": {},
   "source": [
    "### Atmosphere entry\n",
    "\n",
    "Number of significant (that means those being recorded) meteors' entries to the atmosphere of the planet, represented by variable `atm_entry`, in my model is considered unpredictable event and of a chaotic nature (significant random noise). It is assumed that in a given year there may be _none_ to _a very large number_ of entries, with a certain mean number. This will be represented by a **Poisson distribution**. The reason for choosing this distribution is to capture the fact of lesser probability of a larger number of meteors entering the planet's atmosphere.\n",
    "\n",
    "The lambda value assigned randomly again, to strengthen the effect of the chaotic nature of the phenomenon. (More about randomness of the lambda values - why and how)."
   ]
  },
  {
   "cell_type": "code",
   "execution_count": 329,
   "metadata": {},
   "outputs": [
    {
     "name": "stdout",
     "output_type": "stream",
     "text": [
      "3.6985736427365463\n",
      "-1462\n"
     ]
    }
   ],
   "source": [
    "# defines lambda value for the poisson distribution\n",
    "atm_entry_lambda = np.random.random() + np.random.randint(2, 4) # expected mean value - it gives a general shape of the distribution\n",
    "print(atm_entry_lambda)\n",
    "\n",
    "# defines noise used to modify the results\n",
    "atm_entry_noise = np.random.randint(-1500, -500) # extra random noise - expands the range of possible results and adds randomness and increases the standard deviation\n",
    "print(atm_entry_noise)"
   ]
  },
  {
   "cell_type": "code",
   "execution_count": 418,
   "metadata": {},
   "outputs": [
    {
     "name": "stdout",
     "output_type": "stream",
     "text": [
      "atm_entry_lambda:\t 3.6985736427365463\n",
      "atm_entry_noise:\t -1462\n",
      "min:\t 0\n",
      "mean:\t 18.3\n",
      "max:\t 52\n",
      "std div: 14.04314779527724\n"
     ]
    },
    {
     "data": {
      "image/png": "[encoded data removed]",
      "text/plain": [
       "<Figure size 1296x144 with 2 Axes>"
      ]
     },
     "metadata": {
      "needs_background": "light"
     },
     "output_type": "display_data"
    },
    {
     "name": "stdout",
     "output_type": "stream",
     "text": [
      "list in sequence of years:\t [ 6 22 16 23 20  8 52  8  0 28]\n",
      "Frequency of unique values of the said array:\n",
      "[[ 0  6  8 16 20 22 23 28 52]\n",
      " [ 1  1  2  1  1  1  1  1  1]]\n"
     ]
    }
   ],
   "source": [
    "\n",
    "# the algorithm with nested random variables - poisson distribution\n",
    "# the intention is to have low mean and high std dev. values - verry erratic and chaotic phenomenon\n",
    "# consulted reference: https://stackoverflow.com/a/35730154\n",
    "atm_entry = abs(np.random.poisson(abs(atm_entry_lambda + (atm_entry_noise)), len(year)) + atm_entry_noise) # higher probability of occuring fewer meteors entry in a year; only non-negative values\n",
    "\n",
    "# description of the generated data\n",
    "print(\"atm_entry_lambda:\\t\", atm_entry_lambda)\n",
    "print(\"atm_entry_noise:\\t\", atm_entry_noise)\n",
    "print(\"min:\\t\", atm_entry.min())\n",
    "print(\"mean:\\t\", atm_entry.mean())\n",
    "print(\"max:\\t\", atm_entry.max())\n",
    "print(\"std div:\", atm_entry.std())\n",
    "\n",
    "### plotting - \n",
    "fig, ax = plt.subplots(ncols=2, figsize=(18, 2))\n",
    "plt.suptitle(\"Figure 1. Atmosphere entry per year.\", y=1.0, fontsize=14)\n",
    "plt.subplots_adjust(left=None, bottom=None, right=None, top=None, wspace=.2, hspace=None)\n",
    "\n",
    "# left hand plot - number of entries in each year of observation\n",
    "sns.lineplot(x=year, y=atm_entry, ax=ax[0]) \n",
    "\n",
    "# right hand plot - how many the same number of entries occured\n",
    "sns.countplot(x=atm_entry, ax=ax[1])   \n",
    "\n",
    "plt.show()\n",
    "print(\"list in sequence of years:\\t\", atm_entry)\n",
    "#print(\"count:\\t\", np.unique(set(atm_entry)))\n",
    "\n",
    "# https://www.w3resource.com/python-exercises/numpy/python-numpy-exercise-94.php\n",
    "unique_elements, counts_elements = np.unique(atm_entry, return_counts=True)\n",
    "print(\"Frequency of unique values of the said array:\")\n",
    "print(np.asarray((unique_elements, counts_elements)))\n"
   ]
  },
  {
   "cell_type": "markdown",
   "metadata": {},
   "source": [
    "##### Adding `Entry` values to the dataset."
   ]
  },
  {
   "cell_type": "code",
   "execution_count": 482,
   "metadata": {},
   "outputs": [
    {
     "data": {
      "text/html": [
       "<div>\n",
       "<style scoped>\n",
       "    .dataframe tbody tr th:only-of-type {\n",
       "        vertical-align: middle;\n",
       "    }\n",
       "\n",
       "    .dataframe tbody tr th {\n",
       "        vertical-align: top;\n",
       "    }\n",
       "\n",
       "    .dataframe thead th {\n",
       "        text-align: right;\n",
       "    }\n",
       "</style>\n",
       "<table border=\"1\" class=\"dataframe\">\n",
       "  <thead>\n",
       "    <tr style=\"text-align: right;\">\n",
       "      <th></th>\n",
       "      <th>Year</th>\n",
       "      <th>Entry</th>\n",
       "      <th>Impact</th>\n",
       "      <th>Mass</th>\n",
       "      <th>Velocity</th>\n",
       "      <th>Crater</th>\n",
       "    </tr>\n",
       "  </thead>\n",
       "  <tbody>\n",
       "    <tr>\n",
       "      <th>0</th>\n",
       "      <td>1</td>\n",
       "      <td>6</td>\n",
       "      <td>NaN</td>\n",
       "      <td>NaN</td>\n",
       "      <td>NaN</td>\n",
       "      <td>NaN</td>\n",
       "    </tr>\n",
       "    <tr>\n",
       "      <th>1</th>\n",
       "      <td>2</td>\n",
       "      <td>22</td>\n",
       "      <td>NaN</td>\n",
       "      <td>NaN</td>\n",
       "      <td>NaN</td>\n",
       "      <td>NaN</td>\n",
       "    </tr>\n",
       "    <tr>\n",
       "      <th>2</th>\n",
       "      <td>3</td>\n",
       "      <td>16</td>\n",
       "      <td>NaN</td>\n",
       "      <td>NaN</td>\n",
       "      <td>NaN</td>\n",
       "      <td>NaN</td>\n",
       "    </tr>\n",
       "    <tr>\n",
       "      <th>3</th>\n",
       "      <td>4</td>\n",
       "      <td>23</td>\n",
       "      <td>NaN</td>\n",
       "      <td>NaN</td>\n",
       "      <td>NaN</td>\n",
       "      <td>NaN</td>\n",
       "    </tr>\n",
       "    <tr>\n",
       "      <th>4</th>\n",
       "      <td>5</td>\n",
       "      <td>20</td>\n",
       "      <td>NaN</td>\n",
       "      <td>NaN</td>\n",
       "      <td>NaN</td>\n",
       "      <td>NaN</td>\n",
       "    </tr>\n",
       "    <tr>\n",
       "      <th>5</th>\n",
       "      <td>6</td>\n",
       "      <td>8</td>\n",
       "      <td>NaN</td>\n",
       "      <td>NaN</td>\n",
       "      <td>NaN</td>\n",
       "      <td>NaN</td>\n",
       "    </tr>\n",
       "    <tr>\n",
       "      <th>6</th>\n",
       "      <td>7</td>\n",
       "      <td>52</td>\n",
       "      <td>NaN</td>\n",
       "      <td>NaN</td>\n",
       "      <td>NaN</td>\n",
       "      <td>NaN</td>\n",
       "    </tr>\n",
       "    <tr>\n",
       "      <th>7</th>\n",
       "      <td>8</td>\n",
       "      <td>8</td>\n",
       "      <td>NaN</td>\n",
       "      <td>NaN</td>\n",
       "      <td>NaN</td>\n",
       "      <td>NaN</td>\n",
       "    </tr>\n",
       "    <tr>\n",
       "      <th>8</th>\n",
       "      <td>9</td>\n",
       "      <td>0</td>\n",
       "      <td>NaN</td>\n",
       "      <td>NaN</td>\n",
       "      <td>NaN</td>\n",
       "      <td>NaN</td>\n",
       "    </tr>\n",
       "    <tr>\n",
       "      <th>9</th>\n",
       "      <td>10</td>\n",
       "      <td>28</td>\n",
       "      <td>NaN</td>\n",
       "      <td>NaN</td>\n",
       "      <td>NaN</td>\n",
       "      <td>NaN</td>\n",
       "    </tr>\n",
       "  </tbody>\n",
       "</table>\n",
       "</div>"
      ],
      "text/plain": [
       "   Year  Entry Impact Mass Velocity Crater\n",
       "0     1      6    NaN  NaN      NaN    NaN\n",
       "1     2     22    NaN  NaN      NaN    NaN\n",
       "2     3     16    NaN  NaN      NaN    NaN\n",
       "3     4     23    NaN  NaN      NaN    NaN\n",
       "4     5     20    NaN  NaN      NaN    NaN\n",
       "5     6      8    NaN  NaN      NaN    NaN\n",
       "6     7     52    NaN  NaN      NaN    NaN\n",
       "7     8      8    NaN  NaN      NaN    NaN\n",
       "8     9      0    NaN  NaN      NaN    NaN\n",
       "9    10     28    NaN  NaN      NaN    NaN"
      ]
     },
     "execution_count": 482,
     "metadata": {},
     "output_type": "execute_result"
    }
   ],
   "source": [
    "data[\"Entry\"] = atm_entry # abs(np.random.poisson(abs(atm_entry_lambda + abs(atm_entry_noise)), len(year)) + atm_entry_noise)\n",
    "data"
   ]
  },
  {
   "cell_type": "markdown",
   "metadata": {},
   "source": [
    "### Surface impact\n",
    "\n",
    "Number of meteors impacts into the planet surface, that is the meteors that entered the atmosphere of the planet and penetrated it without being completely burned out in the transit. \n",
    "The variable is represented in my model by variable `Impact` which is a result of **binomial distribution** with arbitrarily given probability of success. This is simplification, as a lot of factors are neglected here that would have an effect in real situation (e.g. size, density, composition, velocity, angle of entry, atmosphere properties and so on).\n",
    "\n",
    "This part is based on Ian Mcloughlin's [Notebook](https://github.com/ianmcloughlin/jupyter-teaching-notebooks/blob/master/coin-flip.ipynb)"
   ]
  },
  {
   "cell_type": "code",
   "execution_count": 381,
   "metadata": {},
   "outputs": [
    {
     "data": {
      "text/plain": [
       "0.15"
      ]
     },
     "execution_count": 381,
     "metadata": {},
     "output_type": "execute_result"
    }
   ],
   "source": [
    "# assign probability of meteoroids passing through the atmosfere and hitting the surface\n",
    "passing_prob = 0.01*np.random.randint(5, 21) # range from 0.05 to 0.2\n",
    "passing_prob"
   ]
  },
  {
   "cell_type": "code",
   "execution_count": 483,
   "metadata": {},
   "outputs": [
    {
     "name": "stdout",
     "output_type": "stream",
     "text": [
      "\n",
      "\n",
      "Year: 1\n",
      "Number of meteo passing the atm / total number:\t 0 / 6\n",
      "\n",
      "\n",
      "Year: 2\n",
      "Number of meteo passing the atm / total number:\t 1 / 22\n",
      "\n",
      "\n",
      "Year: 3\n",
      "Number of meteo passing the atm / total number:\t 2 / 16\n",
      "\n",
      "\n",
      "Year: 4\n",
      "Number of meteo passing the atm / total number:\t 3 / 23\n",
      "\n",
      "\n",
      "Year: 5\n",
      "Number of meteo passing the atm / total number:\t 4 / 20\n",
      "\n",
      "\n",
      "Year: 6\n",
      "Number of meteo passing the atm / total number:\t 4 / 8\n",
      "\n",
      "\n",
      "Year: 7\n",
      "Number of meteo passing the atm / total number:\t 9 / 52\n",
      "\n",
      "\n",
      "Year: 8\n",
      "Number of meteo passing the atm / total number:\t 1 / 8\n",
      "\n",
      "\n",
      "Year: 9\n",
      "Number of meteo passing the atm / total number:\t 0 / 0\n",
      "\n",
      "\n",
      "Year: 10\n",
      "Number of meteo passing the atm / total number:\t 4 / 28\n"
     ]
    }
   ],
   "source": [
    "# filtering the meteoroids - testing how many in each year have passed through \n",
    "\n",
    "# for each year\n",
    "for index, row in data.iterrows(): # adapted from https://stackoverflow.com/a/16476974\n",
    "    print(\"\\n\")\n",
    "    print(\"Year:\", index+1) #, \"\\tNumber of meteo:\\t\", row[\"Entry\"])\n",
    "\n",
    "    sum = 0 # counting up the instances of successfully passing in a given year\n",
    "    \n",
    "    for i in range(data.iat[index, 1]): # data.iat[-1, 1] returns value of a cell\n",
    "       \n",
    "        # testing for a single instance (Number of tests, probability of a penetration, number of times to do this);\n",
    "        passed = np.random.binomial(1, passing_prob, 1) # adapted from https://github.com/ianmcloughlin/jupyter-teaching-notebooks/blob/master/coin-flip.ipynb\n",
    "        # print(\"Meteo no.\", i+1, \": \", passed)\n",
    "        sum = int(sum + passed)\n",
    "    \n",
    "    print(\"Number of meteo passing the atm / total number:\\t\", sum, \"/\", row[\"Entry\"])\n",
    "    if row[\"Entry\"] != 0:\n",
    "        ratio_passing = sum/row[\"Entry\"]\n",
    "    else:\n",
    "        ratio_passing = 0  \n",
    "    #print(\"\\t\\t\\t  Ratio:\\t\", ratio_passing)\n",
    "    \n",
    "    \n",
    "    # assign number of surface impacts to the main dataset\n",
    "    data.iat[index, 2] = sum \n",
    "    #print(data[\"Impact\"])"
   ]
  },
  {
   "cell_type": "code",
   "execution_count": 484,
   "metadata": {},
   "outputs": [
    {
     "data": {
      "text/html": [
       "<div>\n",
       "<style scoped>\n",
       "    .dataframe tbody tr th:only-of-type {\n",
       "        vertical-align: middle;\n",
       "    }\n",
       "\n",
       "    .dataframe tbody tr th {\n",
       "        vertical-align: top;\n",
       "    }\n",
       "\n",
       "    .dataframe thead th {\n",
       "        text-align: right;\n",
       "    }\n",
       "</style>\n",
       "<table border=\"1\" class=\"dataframe\">\n",
       "  <thead>\n",
       "    <tr style=\"text-align: right;\">\n",
       "      <th></th>\n",
       "      <th>Year</th>\n",
       "      <th>Entry</th>\n",
       "      <th>Impact</th>\n",
       "      <th>Mass</th>\n",
       "      <th>Velocity</th>\n",
       "      <th>Crater</th>\n",
       "    </tr>\n",
       "  </thead>\n",
       "  <tbody>\n",
       "    <tr>\n",
       "      <th>0</th>\n",
       "      <td>1</td>\n",
       "      <td>6</td>\n",
       "      <td>0</td>\n",
       "      <td>NaN</td>\n",
       "      <td>NaN</td>\n",
       "      <td>NaN</td>\n",
       "    </tr>\n",
       "    <tr>\n",
       "      <th>1</th>\n",
       "      <td>2</td>\n",
       "      <td>22</td>\n",
       "      <td>1</td>\n",
       "      <td>NaN</td>\n",
       "      <td>NaN</td>\n",
       "      <td>NaN</td>\n",
       "    </tr>\n",
       "    <tr>\n",
       "      <th>2</th>\n",
       "      <td>3</td>\n",
       "      <td>16</td>\n",
       "      <td>2</td>\n",
       "      <td>NaN</td>\n",
       "      <td>NaN</td>\n",
       "      <td>NaN</td>\n",
       "    </tr>\n",
       "    <tr>\n",
       "      <th>3</th>\n",
       "      <td>4</td>\n",
       "      <td>23</td>\n",
       "      <td>3</td>\n",
       "      <td>NaN</td>\n",
       "      <td>NaN</td>\n",
       "      <td>NaN</td>\n",
       "    </tr>\n",
       "    <tr>\n",
       "      <th>4</th>\n",
       "      <td>5</td>\n",
       "      <td>20</td>\n",
       "      <td>4</td>\n",
       "      <td>NaN</td>\n",
       "      <td>NaN</td>\n",
       "      <td>NaN</td>\n",
       "    </tr>\n",
       "    <tr>\n",
       "      <th>5</th>\n",
       "      <td>6</td>\n",
       "      <td>8</td>\n",
       "      <td>4</td>\n",
       "      <td>NaN</td>\n",
       "      <td>NaN</td>\n",
       "      <td>NaN</td>\n",
       "    </tr>\n",
       "    <tr>\n",
       "      <th>6</th>\n",
       "      <td>7</td>\n",
       "      <td>52</td>\n",
       "      <td>9</td>\n",
       "      <td>NaN</td>\n",
       "      <td>NaN</td>\n",
       "      <td>NaN</td>\n",
       "    </tr>\n",
       "    <tr>\n",
       "      <th>7</th>\n",
       "      <td>8</td>\n",
       "      <td>8</td>\n",
       "      <td>1</td>\n",
       "      <td>NaN</td>\n",
       "      <td>NaN</td>\n",
       "      <td>NaN</td>\n",
       "    </tr>\n",
       "    <tr>\n",
       "      <th>8</th>\n",
       "      <td>9</td>\n",
       "      <td>0</td>\n",
       "      <td>0</td>\n",
       "      <td>NaN</td>\n",
       "      <td>NaN</td>\n",
       "      <td>NaN</td>\n",
       "    </tr>\n",
       "    <tr>\n",
       "      <th>9</th>\n",
       "      <td>10</td>\n",
       "      <td>28</td>\n",
       "      <td>4</td>\n",
       "      <td>NaN</td>\n",
       "      <td>NaN</td>\n",
       "      <td>NaN</td>\n",
       "    </tr>\n",
       "  </tbody>\n",
       "</table>\n",
       "</div>"
      ],
      "text/plain": [
       "   Year  Entry Impact Mass Velocity Crater\n",
       "0     1      6      0  NaN      NaN    NaN\n",
       "1     2     22      1  NaN      NaN    NaN\n",
       "2     3     16      2  NaN      NaN    NaN\n",
       "3     4     23      3  NaN      NaN    NaN\n",
       "4     5     20      4  NaN      NaN    NaN\n",
       "5     6      8      4  NaN      NaN    NaN\n",
       "6     7     52      9  NaN      NaN    NaN\n",
       "7     8      8      1  NaN      NaN    NaN\n",
       "8     9      0      0  NaN      NaN    NaN\n",
       "9    10     28      4  NaN      NaN    NaN"
      ]
     },
     "execution_count": 484,
     "metadata": {},
     "output_type": "execute_result"
    }
   ],
   "source": [
    "# current dataset\n",
    "data"
   ]
  },
  {
   "cell_type": "code",
   "execution_count": null,
   "metadata": {},
   "outputs": [],
   "source": []
  },
  {
   "cell_type": "raw",
   "metadata": {},
   "source": []
  },
  {
   "cell_type": "markdown",
   "metadata": {},
   "source": [
    "### ~~Average size of the meteors~~ - this section will go\n",
    "\n",
    "~~The average size of meteors entering into the atmosphere in given year. It is assumed in the model arbitrarily, according to pareto principle, that is where there is many small meteors and few large. The variable is generated with the help of `np.random.pareto()` function.~~"
   ]
  },
  {
   "cell_type": "code",
   "execution_count": 454,
   "metadata": {},
   "outputs": [],
   "source": [
    "# should it stay or shoud it go? - disabled for now\n",
    "\n",
    "# defines lambda value for the poisson distribution\n",
    "#size_lambda = np.random.random() #+ np.random.randint(100, 20000) # expected mean value - it gives a general shape of the distribution\n",
    "# defines noise used to modify the results\n",
    "#size_noise = np.random.random() * 100 # extra random noise - expands the range of possible results and adds randomness\n",
    "\n",
    "#data[\"Size\"] = np.around(np.random.pareto(size_lambda, len(year)) * size_noise / len(year), decimals=0)\n",
    "#data"
   ]
  },
  {
   "cell_type": "markdown",
   "metadata": {},
   "source": [
    "### Parameters of each meteor"
   ]
  },
  {
   "cell_type": "markdown",
   "metadata": {},
   "source": [
    "#### Size of the meteors (and velocity?, and angle????? - to be yet decided)\n",
    "\n",
    "The size of **every** meteors hitting the planet surface in given year is generated in the model. The size is stored in a separate subset of data for each year (3rd dimension of the original dataset?). Next, a mean of the sizes is passed to the original dataset.\n",
    "\n",
    "The size of the meteor is distributed according to pareto principle, that is many small meteors and few large. The variable is generated with the help of `np.random.pareto()` function."
   ]
  },
  {
   "cell_type": "markdown",
   "metadata": {},
   "source": [
    "#### creating an empty data subset"
   ]
  },
  {
   "cell_type": "code",
   "execution_count": 523,
   "metadata": {},
   "outputs": [
    {
     "data": {
      "text/html": [
       "<div>\n",
       "<style scoped>\n",
       "    .dataframe tbody tr th:only-of-type {\n",
       "        vertical-align: middle;\n",
       "    }\n",
       "\n",
       "    .dataframe tbody tr th {\n",
       "        vertical-align: top;\n",
       "    }\n",
       "\n",
       "    .dataframe thead th {\n",
       "        text-align: right;\n",
       "    }\n",
       "</style>\n",
       "<table border=\"1\" class=\"dataframe\">\n",
       "  <thead>\n",
       "    <tr style=\"text-align: right;\">\n",
       "      <th></th>\n",
       "      <th>Mass_i</th>\n",
       "      <th>Velocity_i</th>\n",
       "    </tr>\n",
       "  </thead>\n",
       "  <tbody>\n",
       "  </tbody>\n",
       "</table>\n",
       "</div>"
      ],
      "text/plain": [
       "Empty DataFrame\n",
       "Columns: [Mass_i, Velocity_i]\n",
       "Index: []"
      ]
     },
     "execution_count": 523,
     "metadata": {},
     "output_type": "execute_result"
    }
   ],
   "source": [
    "mass_year_i = pd.DataFrame(columns = [\"Mass_i\", \"Velocity_i\"])\n",
    "mass_year_i"
   ]
  },
  {
   "cell_type": "code",
   "execution_count": null,
   "metadata": {},
   "outputs": [],
   "source": []
  },
  {
   "cell_type": "code",
   "execution_count": 492,
   "metadata": {},
   "outputs": [],
   "source": [
    "# adapted from https://docs.scipy.org/doc/numpy-1.15.0/reference/generated/numpy.random.pareto.html\n",
    "\n",
    "# parameters for pareto dirstribution: pareto_a - shape of the distribution, pareto_m - mode of the distribution\n",
    "pareto_a, pareto_m = 1.0, 1000.0  # shape and mode - picked arbitrarily to resemble reality as much as the author could think\n",
    "# shape of the pareto distribution determines the how much the number of small meteors would dominate over the large ones; greater the shape value, the more small samples\n",
    "# mode in the pareto distribution tells the magnitude (or scale) of the outcome (the size of the metors); the larger the mode, the larger the scale of the meteors\n"
   ]
  },
  {
   "cell_type": "code",
   "execution_count": 536,
   "metadata": {},
   "outputs": [
    {
     "name": "stdout",
     "output_type": "stream",
     "text": [
      "In year 1 the number of meteors passing the atmosphere was:\t 0 \n",
      "Their mass was as follows:\n",
      "[] \n",
      "\n",
      "aaa 0    2557.271574\n",
      "Name: Mass_i, dtype: float64\n",
      "In year 2 the number of meteors passing the atmosphere was:\t 1 \n",
      "Their mass was as follows:\n",
      "[803.52794544] \n",
      "\n",
      "aaa 0    2557.271574\n",
      "Name: Mass_i, dtype: float64\n",
      "In year 3 the number of meteors passing the atmosphere was:\t 2 \n",
      "Their mass was as follows:\n",
      "[ 1126.71496309 13845.75222795] \n",
      "\n",
      "aaa 0    2557.271574\n",
      "Name: Mass_i, dtype: float64\n",
      "In year 4 the number of meteors passing the atmosphere was:\t 3 \n",
      "Their mass was as follows:\n",
      "[ 3398.53840915 19923.09135858   164.932349  ] \n",
      "\n",
      "aaa 0    2557.271574\n",
      "Name: Mass_i, dtype: float64\n",
      "In year 5 the number of meteors passing the atmosphere was:\t 4 \n",
      "Their mass was as follows:\n",
      "[1557.79598967 1877.2246371   778.7733448  1181.27009422] \n",
      "\n",
      "aaa 0    2557.271574\n",
      "Name: Mass_i, dtype: float64\n",
      "In year 6 the number of meteors passing the atmosphere was:\t 4 \n",
      "Their mass was as follows:\n",
      "[ 448.60179176 1905.4768524  3205.6893775   448.51156105] \n",
      "\n",
      "aaa 0    2557.271574\n",
      "Name: Mass_i, dtype: float64\n",
      "In year 7 the number of meteors passing the atmosphere was:\t 9 \n",
      "Their mass was as follows:\n",
      "[11770.96885096  1130.70317087  4722.23412628  1357.14082132\n",
      "  1238.50514033  1670.31490613  1354.04244093  1632.95918212\n",
      "  1012.00918413] \n",
      "\n",
      "aaa 0    2557.271574\n",
      "Name: Mass_i, dtype: float64\n",
      "In year 8 the number of meteors passing the atmosphere was:\t 1 \n",
      "Their mass was as follows:\n",
      "[259.57668996] \n",
      "\n",
      "aaa 0    2557.271574\n",
      "Name: Mass_i, dtype: float64\n",
      "In year 9 the number of meteors passing the atmosphere was:\t 0 \n",
      "Their mass was as follows:\n",
      "[] \n",
      "\n",
      "aaa 0    2557.271574\n",
      "Name: Mass_i, dtype: float64\n",
      "In year 10 the number of meteors passing the atmosphere was:\t 4 \n",
      "Their mass was as follows:\n",
      "[4920.71830799 1576.99718047 1574.95272704 1140.8269908 ] \n",
      "\n",
      "aaa 0    2557.271574\n",
      "Name: Mass_i, dtype: float64\n"
     ]
    }
   ],
   "source": [
    "# splicing - getting the number of meteors entering the atmosphere in a given year\n",
    "for i in data[\"Year\"]:\n",
    "    \n",
    "    number_meteors = data.loc[i-1][\"Impact\"] # getting the number of the meteors entereing the atmosphere in the subsequnt year\n",
    "    print(\"In year\", i, \"the number of meteors passing the atmosphere was:\\t\", number_meteors, \"\\nTheir mass was as follows:\")\n",
    "   \n",
    "\n",
    "    # assgining the size for each meteor \n",
    "    #if number_meteors == 0:\n",
    "    #    mass_i = 0\n",
    "    #else:\n",
    "    mass_i = ((np.random.pareto(pareto_a, number_meteors) + 1) * pareto_m) + np.random.randint(-1000, 10) # random mass for each meteoroid hitting the surface\n",
    "    print(mass_i, \"\\n\")\n",
    "    \n",
    "    \n",
    "    # assign masses from a single year to an array\n",
    "    #mass_year_i[\"Mass_i\"] = mass_i\n",
    "    print(\"aaa\", mass_year_i[\"Mass_i\"])\n",
    "    \n",
    "       \n",
    "    # visualisation of the results - plotting histogram for each year - disabled for sake of keeping the notebook tidy and compact\n",
    "    #if number_meteors > 0:\n",
    "    #    sns.distplot(mass_i, kde=False)\n",
    "    #    plt.show()\n",
    "    \n",
    "    # treshold energy (mass and velocity) sufficient to create an impact crater (smaller are assumed to have insufficient energy)\n",
    "    treshold = 2000\n",
    "    #if mass_i > treshold:\n",
    "    #    # create a sub dataset with number of meteors that would reach the planet surface\n",
    "    #    data[\"crater\"]\n",
    "    #else:\n",
    "    #    pass\n",
    "    "
   ]
  },
  {
   "cell_type": "markdown",
   "metadata": {},
   "source": [
    "### testing assigning values to dataframe"
   ]
  },
  {
   "cell_type": "markdown",
   "metadata": {},
   "source": [
    "#### Attempt 1 to create data subset for each year of observation"
   ]
  },
  {
   "cell_type": "code",
   "execution_count": 472,
   "metadata": {},
   "outputs": [
    {
     "data": {
      "text/html": [
       "<div>\n",
       "<style scoped>\n",
       "    .dataframe tbody tr th:only-of-type {\n",
       "        vertical-align: middle;\n",
       "    }\n",
       "\n",
       "    .dataframe tbody tr th {\n",
       "        vertical-align: top;\n",
       "    }\n",
       "\n",
       "    .dataframe thead th {\n",
       "        text-align: right;\n",
       "    }\n",
       "</style>\n",
       "<table border=\"1\" class=\"dataframe\">\n",
       "  <thead>\n",
       "    <tr style=\"text-align: right;\">\n",
       "      <th></th>\n",
       "      <th>Mass</th>\n",
       "      <th>Velocity</th>\n",
       "    </tr>\n",
       "  </thead>\n",
       "  <tbody>\n",
       "    <tr>\n",
       "      <th>0</th>\n",
       "      <td>125</td>\n",
       "      <td>425</td>\n",
       "    </tr>\n",
       "    <tr>\n",
       "      <th>1</th>\n",
       "      <td>30</td>\n",
       "      <td>630</td>\n",
       "    </tr>\n",
       "    <tr>\n",
       "      <th>2</th>\n",
       "      <td>26</td>\n",
       "      <td>126</td>\n",
       "    </tr>\n",
       "    <tr>\n",
       "      <th>3</th>\n",
       "      <td>22</td>\n",
       "      <td>1132</td>\n",
       "    </tr>\n",
       "    <tr>\n",
       "      <th>4</th>\n",
       "      <td>11</td>\n",
       "      <td>890</td>\n",
       "    </tr>\n",
       "  </tbody>\n",
       "</table>\n",
       "</div>"
      ],
      "text/plain": [
       "   Mass  Velocity\n",
       "0   125       425\n",
       "1    30       630\n",
       "2    26       126\n",
       "3    22      1132\n",
       "4    11       890"
      ]
     },
     "execution_count": 472,
     "metadata": {},
     "output_type": "execute_result"
    }
   ],
   "source": [
    "# from https://www.geeksforgeeks.org/different-ways-to-create-pandas-dataframe/\n",
    "\n",
    "# example for year 2 (assumed 5no. impacts)\n",
    "\n",
    "# List1  \n",
    "mass_year_2 = [125, 30, 26, 22, 11]  # invented for testing\n",
    "    \n",
    "# List2  \n",
    "velo_year_2 = [425, 630, 126, 1132, 890] # invented for testing\n",
    "    \n",
    "# get the list of tuples from two listt and merge them by using zip().  \n",
    "list_of_tuples = list(zip(mass_year_2, velo_year_2))  \n",
    "    \n",
    "# Converting lists of tuples into Pandas Dataframe.  \n",
    "data_meteo = pd.DataFrame(list_of_tuples, columns = ['Mass', 'Velocity'])  \n",
    "     \n",
    "# Print data.  \n",
    "data_meteo # this is a subset of data for year 2, attempt 1"
   ]
  },
  {
   "cell_type": "markdown",
   "metadata": {},
   "source": [
    "#### Integrating the data subset to the primary dataset"
   ]
  },
  {
   "cell_type": "code",
   "execution_count": 489,
   "metadata": {},
   "outputs": [
    {
     "name": "stdout",
     "output_type": "stream",
     "text": [
      "Mass:\t  [125, 30, 26, 22, 11]\n",
      "Velocity: [425, 630, 126, 1132, 890]\n"
     ]
    },
    {
     "data": {
      "text/html": [
       "<div>\n",
       "<style scoped>\n",
       "    .dataframe tbody tr th:only-of-type {\n",
       "        vertical-align: middle;\n",
       "    }\n",
       "\n",
       "    .dataframe tbody tr th {\n",
       "        vertical-align: top;\n",
       "    }\n",
       "\n",
       "    .dataframe thead th {\n",
       "        text-align: right;\n",
       "    }\n",
       "</style>\n",
       "<table border=\"1\" class=\"dataframe\">\n",
       "  <thead>\n",
       "    <tr style=\"text-align: right;\">\n",
       "      <th></th>\n",
       "      <th>Year</th>\n",
       "      <th>Entry</th>\n",
       "      <th>Impact</th>\n",
       "      <th>Mass</th>\n",
       "      <th>Velocity</th>\n",
       "      <th>Crater</th>\n",
       "    </tr>\n",
       "  </thead>\n",
       "  <tbody>\n",
       "    <tr>\n",
       "      <th>0</th>\n",
       "      <td>1</td>\n",
       "      <td>6</td>\n",
       "      <td>0</td>\n",
       "      <td>NaN</td>\n",
       "      <td>NaN</td>\n",
       "      <td>NaN</td>\n",
       "    </tr>\n",
       "    <tr>\n",
       "      <th>1</th>\n",
       "      <td>2</td>\n",
       "      <td>22</td>\n",
       "      <td>1</td>\n",
       "      <td>[125, 30, 26, 22, 11]</td>\n",
       "      <td>[425, 630, 126, 1132, 890]</td>\n",
       "      <td>NaN</td>\n",
       "    </tr>\n",
       "    <tr>\n",
       "      <th>2</th>\n",
       "      <td>3</td>\n",
       "      <td>16</td>\n",
       "      <td>2</td>\n",
       "      <td>NaN</td>\n",
       "      <td>NaN</td>\n",
       "      <td>NaN</td>\n",
       "    </tr>\n",
       "    <tr>\n",
       "      <th>3</th>\n",
       "      <td>4</td>\n",
       "      <td>23</td>\n",
       "      <td>3</td>\n",
       "      <td>NaN</td>\n",
       "      <td>NaN</td>\n",
       "      <td>NaN</td>\n",
       "    </tr>\n",
       "    <tr>\n",
       "      <th>4</th>\n",
       "      <td>5</td>\n",
       "      <td>20</td>\n",
       "      <td>4</td>\n",
       "      <td>[125, 30, 26, 22, 11]</td>\n",
       "      <td>[425, 630, 126, 1132, 890]</td>\n",
       "      <td>NaN</td>\n",
       "    </tr>\n",
       "    <tr>\n",
       "      <th>5</th>\n",
       "      <td>6</td>\n",
       "      <td>8</td>\n",
       "      <td>4</td>\n",
       "      <td>NaN</td>\n",
       "      <td>NaN</td>\n",
       "      <td>NaN</td>\n",
       "    </tr>\n",
       "    <tr>\n",
       "      <th>6</th>\n",
       "      <td>7</td>\n",
       "      <td>52</td>\n",
       "      <td>9</td>\n",
       "      <td>NaN</td>\n",
       "      <td>NaN</td>\n",
       "      <td>NaN</td>\n",
       "    </tr>\n",
       "    <tr>\n",
       "      <th>7</th>\n",
       "      <td>8</td>\n",
       "      <td>8</td>\n",
       "      <td>1</td>\n",
       "      <td>NaN</td>\n",
       "      <td>NaN</td>\n",
       "      <td>NaN</td>\n",
       "    </tr>\n",
       "    <tr>\n",
       "      <th>8</th>\n",
       "      <td>9</td>\n",
       "      <td>0</td>\n",
       "      <td>0</td>\n",
       "      <td>NaN</td>\n",
       "      <td>NaN</td>\n",
       "      <td>NaN</td>\n",
       "    </tr>\n",
       "    <tr>\n",
       "      <th>9</th>\n",
       "      <td>10</td>\n",
       "      <td>28</td>\n",
       "      <td>4</td>\n",
       "      <td>NaN</td>\n",
       "      <td>NaN</td>\n",
       "      <td>NaN</td>\n",
       "    </tr>\n",
       "  </tbody>\n",
       "</table>\n",
       "</div>"
      ],
      "text/plain": [
       "   Year  Entry Impact                   Mass                    Velocity  \\\n",
       "0     1      6      0                    NaN                         NaN   \n",
       "1     2     22      1  [125, 30, 26, 22, 11]  [425, 630, 126, 1132, 890]   \n",
       "2     3     16      2                    NaN                         NaN   \n",
       "3     4     23      3                    NaN                         NaN   \n",
       "4     5     20      4  [125, 30, 26, 22, 11]  [425, 630, 126, 1132, 890]   \n",
       "5     6      8      4                    NaN                         NaN   \n",
       "6     7     52      9                    NaN                         NaN   \n",
       "7     8      8      1                    NaN                         NaN   \n",
       "8     9      0      0                    NaN                         NaN   \n",
       "9    10     28      4                    NaN                         NaN   \n",
       "\n",
       "  Crater  \n",
       "0    NaN  \n",
       "1    NaN  \n",
       "2    NaN  \n",
       "3    NaN  \n",
       "4    NaN  \n",
       "5    NaN  \n",
       "6    NaN  \n",
       "7    NaN  \n",
       "8    NaN  \n",
       "9    NaN  "
      ]
     },
     "execution_count": 489,
     "metadata": {},
     "output_type": "execute_result"
    }
   ],
   "source": [
    "# incorporating the subset to the main dataset\n",
    "\n",
    "# for year 2 as an example\n",
    "print(\"Mass:\\t \", mass_year_2) # print out - for testing\n",
    "data.at[2-1, \"Mass\"] = mass_year_2 # assign mass to main dataset\n",
    "\n",
    "print(\"Velocity:\", velo_year_2) # print out - for testing\n",
    "data.at[2-1, \"Velocity\"] = velo_year_2 # assign velocity to main dataset\n",
    "\n",
    "#data_copy.at[0, \"Meteor\"] = (mass_year_2, veleo_year_2) # array of lists\n",
    "#data_copy.at[0, \"Meteor\"] = data_test # it doesnt work as intended\n",
    "\n",
    "data"
   ]
  },
  {
   "cell_type": "code",
   "execution_count": null,
   "metadata": {},
   "outputs": [],
   "source": []
  }
 ],
 "metadata": {
  "kernelspec": {
   "display_name": "Python 3",
   "language": "python",
   "name": "python3"
  },
  "language_info": {
   "codemirror_mode": {
    "name": "ipython",
    "version": 3
   },
   "file_extension": ".py",
   "mimetype": "text/x-python",
   "name": "python",
   "nbconvert_exporter": "python",
   "pygments_lexer": "ipython3",
   "version": "3.7.5"
  }
 },
 "nbformat": 4,
 "nbformat_minor": 4
}
